{
 "cells": [
  {
   "cell_type": "code",
   "execution_count": 61,
   "metadata": {},
   "outputs": [],
   "source": [
    "import requests\n",
    "import pandas as pd\n",
    "from bs4 import BeautifulSoup\n",
    "import csv"
   ]
  },
  {
   "cell_type": "code",
   "execution_count": 62,
   "metadata": {},
   "outputs": [
    {
     "data": {
      "text/html": [
       "<div>\n",
       "<style scoped>\n",
       "    .dataframe tbody tr th:only-of-type {\n",
       "        vertical-align: middle;\n",
       "    }\n",
       "\n",
       "    .dataframe tbody tr th {\n",
       "        vertical-align: top;\n",
       "    }\n",
       "\n",
       "    .dataframe thead th {\n",
       "        text-align: right;\n",
       "    }\n",
       "</style>\n",
       "<table border=\"1\" class=\"dataframe\">\n",
       "  <thead>\n",
       "    <tr style=\"text-align: right;\">\n",
       "      <th></th>\n",
       "      <th>name</th>\n",
       "      <th>url</th>\n",
       "    </tr>\n",
       "  </thead>\n",
       "  <tbody>\n",
       "    <tr>\n",
       "      <th>0</th>\n",
       "      <td>Accctrl.h</td>\n",
       "      <td>https://learn.microsoft.com/en-us/windows/win3...</td>\n",
       "    </tr>\n",
       "    <tr>\n",
       "      <th>1</th>\n",
       "      <td>Accountssettingspaneinterop.h</td>\n",
       "      <td>https://learn.microsoft.com/en-us/windows/win3...</td>\n",
       "    </tr>\n",
       "    <tr>\n",
       "      <th>2</th>\n",
       "      <td>Aclapi.h</td>\n",
       "      <td>https://learn.microsoft.com/en-us/windows/win3...</td>\n",
       "    </tr>\n",
       "    <tr>\n",
       "      <th>3</th>\n",
       "      <td>Aclui.h</td>\n",
       "      <td>https://learn.microsoft.com/en-us/windows/win3...</td>\n",
       "    </tr>\n",
       "    <tr>\n",
       "      <th>4</th>\n",
       "      <td>Activation.h</td>\n",
       "      <td>https://learn.microsoft.com/en-us/windows/win3...</td>\n",
       "    </tr>\n",
       "    <tr>\n",
       "      <th>...</th>\n",
       "      <td>...</td>\n",
       "      <td>...</td>\n",
       "    </tr>\n",
       "    <tr>\n",
       "      <th>1009</th>\n",
       "      <td>Xpsdigitalsignature.h</td>\n",
       "      <td>https://learn.microsoft.com/en-us/windows/win3...</td>\n",
       "    </tr>\n",
       "    <tr>\n",
       "      <th>1010</th>\n",
       "      <td>Xpsobjectmodel.h</td>\n",
       "      <td>https://learn.microsoft.com/en-us/windows/win3...</td>\n",
       "    </tr>\n",
       "    <tr>\n",
       "      <th>1011</th>\n",
       "      <td>Xpsobjectmodel_1.h</td>\n",
       "      <td>https://learn.microsoft.com/en-us/windows/win3...</td>\n",
       "    </tr>\n",
       "    <tr>\n",
       "      <th>1012</th>\n",
       "      <td>Xpsobjectmodel_2.h</td>\n",
       "      <td>https://learn.microsoft.com/en-us/windows/win3...</td>\n",
       "    </tr>\n",
       "    <tr>\n",
       "      <th>1013</th>\n",
       "      <td>Xpsprint.h</td>\n",
       "      <td>https://learn.microsoft.com/en-us/windows/win3...</td>\n",
       "    </tr>\n",
       "  </tbody>\n",
       "</table>\n",
       "<p>1014 rows × 2 columns</p>\n",
       "</div>"
      ],
      "text/plain": [
       "                               name  \\\n",
       "0                         Accctrl.h   \n",
       "1     Accountssettingspaneinterop.h   \n",
       "2                          Aclapi.h   \n",
       "3                           Aclui.h   \n",
       "4                      Activation.h   \n",
       "...                             ...   \n",
       "1009          Xpsdigitalsignature.h   \n",
       "1010               Xpsobjectmodel.h   \n",
       "1011             Xpsobjectmodel_1.h   \n",
       "1012             Xpsobjectmodel_2.h   \n",
       "1013                     Xpsprint.h   \n",
       "\n",
       "                                                    url  \n",
       "0     https://learn.microsoft.com/en-us/windows/win3...  \n",
       "1     https://learn.microsoft.com/en-us/windows/win3...  \n",
       "2     https://learn.microsoft.com/en-us/windows/win3...  \n",
       "3     https://learn.microsoft.com/en-us/windows/win3...  \n",
       "4     https://learn.microsoft.com/en-us/windows/win3...  \n",
       "...                                                 ...  \n",
       "1009  https://learn.microsoft.com/en-us/windows/win3...  \n",
       "1010  https://learn.microsoft.com/en-us/windows/win3...  \n",
       "1011  https://learn.microsoft.com/en-us/windows/win3...  \n",
       "1012  https://learn.microsoft.com/en-us/windows/win3...  \n",
       "1013  https://learn.microsoft.com/en-us/windows/win3...  \n",
       "\n",
       "[1014 rows x 2 columns]"
      ]
     },
     "execution_count": 62,
     "metadata": {},
     "output_type": "execute_result"
    }
   ],
   "source": [
    "# Read the csv file\n",
    "df = pd.read_csv('documented-libraries.csv')\n",
    "df"
   ]
  },
  {
   "cell_type": "code",
   "execution_count": 66,
   "metadata": {},
   "outputs": [
    {
     "name": "stdout",
     "output_type": "stream",
     "text": [
      "https://learn.microsoft.com/en-us/windows/win32/api/aclui/\n"
     ]
    }
   ],
   "source": [
    "header = df.iloc[3]\n",
    "header_name = header['name'].split('.')[0]\n",
    "url = header['url']\n",
    "print(url)\n",
    "data = requests.get(url).text\n",
    "soup = BeautifulSoup(data, 'html.parser')"
   ]
  },
  {
   "cell_type": "code",
   "execution_count": 73,
   "metadata": {},
   "outputs": [],
   "source": [
    "titles = soup.find_all('h2', class_='')"
   ]
  },
  {
   "cell_type": "code",
   "execution_count": 72,
   "metadata": {},
   "outputs": [
    {
     "data": {
      "text/plain": [
       "[]"
      ]
     },
     "execution_count": 72,
     "metadata": {},
     "output_type": "execute_result"
    }
   ],
   "source": [
    "index = -1\n",
    "for i, title in enumerate(titles):\n",
    "    if title.text == 'Functions':\n",
    "        index = i\n",
    "        break"
   ]
  },
  {
   "attachments": {},
   "cell_type": "markdown",
   "metadata": {},
   "source": [
    "---"
   ]
  },
  {
   "cell_type": "code",
   "execution_count": 48,
   "metadata": {},
   "outputs": [],
   "source": [
    "tables = soup.find_all('table')"
   ]
  },
  {
   "cell_type": "code",
   "execution_count": 49,
   "metadata": {},
   "outputs": [],
   "source": [
    "for i, table in enumerate(tables):\n",
    "    rows = table.find_all('tr')\n",
    "    with open(f'/archive/files/microsoft-docs-descriptions/{header_name}-{i}.csv', 'w') as f:\n",
    "        writer = csv.writer(f)\n",
    "        writer.writerow(['name', 'description'])\n",
    "        for row in rows:\n",
    "            table_data = row.find('td')\n",
    "            if table_data is not None:\n",
    "                name, description = table_data.text.strip().split(' ', 1)\n",
    "                writer.writerow([name, description])\n"
   ]
  },
  {
   "cell_type": "code",
   "execution_count": 50,
   "metadata": {},
   "outputs": [
    {
     "data": {
      "text/plain": [
       "<pandas.core.indexing._iLocIndexer at 0x7f6b3306d5d0>"
      ]
     },
     "execution_count": 50,
     "metadata": {},
     "output_type": "execute_result"
    }
   ],
   "source": [
    "# For each row of the df\n",
    "for index, row in df.iterrows():\n",
    "    header_name = row['name']\n",
    "    header_url = row['url']\n",
    "    data = requests.get(url).text\n",
    "    soup = BeautifulSoup(data, 'html.parser')\n",
    "    for i, table in enumerate(soup.find_all('table')):\n",
    "        rows = table.find_all('tr')\n",
    "        with open(f'/archive/files/microsoft-docs-descriptions/{header_name}-{i}.csv', 'w') as f:\n",
    "            writer = csv.writer(f)\n",
    "            writer.writerow(['name', 'description'])\n",
    "            for row in rows:\n",
    "                table_data = row.find('td')\n",
    "                if table_data is not None:\n",
    "                    name, description = table_data.text.strip().split(' ', 1)\n",
    "                    writer.writerow([name, description])"
   ]
  }
 ],
 "metadata": {
  "kernelspec": {
   "display_name": "Python 3",
   "language": "python",
   "name": "python3"
  },
  "language_info": {
   "codemirror_mode": {
    "name": "ipython",
    "version": 3
   },
   "file_extension": ".py",
   "mimetype": "text/x-python",
   "name": "python",
   "nbconvert_exporter": "python",
   "pygments_lexer": "ipython3",
   "version": "3.10.6"
  },
  "orig_nbformat": 4
 },
 "nbformat": 4,
 "nbformat_minor": 2
}
