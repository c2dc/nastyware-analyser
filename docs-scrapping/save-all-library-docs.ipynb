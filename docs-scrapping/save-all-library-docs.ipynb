{
 "cells": [
  {
   "cell_type": "code",
   "execution_count": 26,
   "metadata": {},
   "outputs": [],
   "source": [
    "import requests\n",
    "import pandas as pd\n",
    "from bs4 import BeautifulSoup\n",
    "import csv"
   ]
  },
  {
   "cell_type": "code",
   "execution_count": 27,
   "metadata": {},
   "outputs": [],
   "source": [
    "with open('./maybe_html.html', 'r') as f:\n",
    "    soup = BeautifulSoup(f.read(), 'html.parser')\n"
   ]
  },
  {
   "cell_type": "code",
   "execution_count": 28,
   "metadata": {},
   "outputs": [],
   "source": [
    "# Find all <li> in <lu class=\"tree-group\">\n",
    "li = soup.find_all('ul', class_='tree-group')[0].find_all('li')"
   ]
  },
  {
   "cell_type": "code",
   "execution_count": 29,
   "metadata": {},
   "outputs": [],
   "source": [
    "content = []\n",
    "\n",
    "# For each li, get content\n",
    "with open('./all_libraries.csv', 'w') as f:\n",
    "    writer = csv.writer(f)\n",
    "    writer.writerow(['name', 'url'])\n",
    "    for i in li:\n",
    "        name = i.find('a').text\n",
    "        url = i.find('a')['href']\n",
    "        writer.writerow([name, url])\n",
    "        \n"
   ]
  }
 ],
 "metadata": {
  "kernelspec": {
   "display_name": "Python 3",
   "language": "python",
   "name": "python3"
  },
  "language_info": {
   "codemirror_mode": {
    "name": "ipython",
    "version": 3
   },
   "file_extension": ".py",
   "mimetype": "text/x-python",
   "name": "python",
   "nbconvert_exporter": "python",
   "pygments_lexer": "ipython3",
   "version": "3.10.6"
  },
  "orig_nbformat": 4
 },
 "nbformat": 4,
 "nbformat_minor": 2
}
