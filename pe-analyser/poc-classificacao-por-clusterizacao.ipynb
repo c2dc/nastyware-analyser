{
 "cells": [
  {
   "attachments": {},
   "cell_type": "markdown",
   "metadata": {},
   "source": [
    "# Notebook para testar a classificacao por clusters"
   ]
  },
  {
   "cell_type": "code",
   "execution_count": 27,
   "metadata": {},
   "outputs": [],
   "source": [
    "import sys\n",
    "import os\n",
    "import pandas as pd\n",
    "import numpy as np\n",
    "import seaborn as sns\n",
    "from itertools import combinations\n",
    "from sklearn.feature_extraction.text import TfidfVectorizer\n",
    "from sklearn.tree import DecisionTreeClassifier, plot_tree\n",
    "from sklearn.model_selection import train_test_split\n",
    "from sklearn.metrics import accuracy_score, confusion_matrix, f1_score\n",
    "import matplotlib.pyplot as plt\n",
    "\n",
    "import yara\n",
    "import yara_tools"
   ]
  },
  {
   "cell_type": "code",
   "execution_count": 28,
   "metadata": {},
   "outputs": [],
   "source": [
    "TRAIN_DIR = '/archive/files/nastyware-files/mix/'\n",
    "TEST_MALWARE_DIR = '/archive/files/nastyware-files/import-malware-bazaar-2021-03-to-2021-04/'\n",
    "TEST_GOODWARE_DIR = '/archive/files/nastyware-files/import-windows-server-2016/'"
   ]
  },
  {
   "cell_type": "code",
   "execution_count": 29,
   "metadata": {},
   "outputs": [],
   "source": [
    "# !./pe-analyser.py --folder $TRAIN_DIR"
   ]
  },
  {
   "cell_type": "code",
   "execution_count": 30,
   "metadata": {},
   "outputs": [],
   "source": [
    "node_clustering_fn = 'node_clustering_fastgreedy.txt'\n",
    "\n",
    "lines = open(node_clustering_fn, 'r').readlines()\n",
    "lines = lines[1:]\n",
    "\n",
    "clusters = [[el.strip() for el in line.strip().split(',') if not el.strip().startswith('-')] for line in lines]"
   ]
  },
  {
   "cell_type": "code",
   "execution_count": 31,
   "metadata": {},
   "outputs": [],
   "source": [
    "EPSILON = 0.65"
   ]
  },
  {
   "cell_type": "code",
   "execution_count": 32,
   "metadata": {},
   "outputs": [],
   "source": [
    "mostly_malware_clusters = []\n",
    "\n",
    "for cluster in clusters:\n",
    "    if len(cluster) > 1:\n",
    "        malware_count = 0\n",
    "        for node in cluster:\n",
    "            if node.startswith('R-'):\n",
    "                malware_count += 1\n",
    "\n",
    "        # Verificar a frequencia com que sera adicionado no cluster\n",
    "        if malware_count >= EPSILON * len(cluster):\n",
    "            mostly_malware_clusters.append(cluster)\n",
    "\n",
    "# mostly_malware_clusters"
   ]
  },
  {
   "attachments": {},
   "cell_type": "markdown",
   "metadata": {},
   "source": [
    "---\n",
    "\n",
    "## Primeiro teste - Decision Tree"
   ]
  },
  {
   "attachments": {},
   "cell_type": "markdown",
   "metadata": {},
   "source": [
    "### Treinando o classificador"
   ]
  },
  {
   "cell_type": "code",
   "execution_count": 33,
   "metadata": {},
   "outputs": [],
   "source": [
    "func_dict = {}"
   ]
  },
  {
   "cell_type": "code",
   "execution_count": 34,
   "metadata": {},
   "outputs": [],
   "source": [
    "def ld_data(dir_name, files, label=None):\n",
    "    # Load data in files from directory dir_name in a pandas dataframe\n",
    "    df = pd.DataFrame()\n",
    "    for filename in files:\n",
    "        funcs = []\n",
    "        with open(os.path.join(dir_name, filename), 'r') as f:\n",
    "            lines = f.read().splitlines()\n",
    "            \n",
    "            for line in lines:\n",
    "                lib, func = line.split(' ')\n",
    "                if '@' in func or '?' in func:\n",
    "                    continue\n",
    "\n",
    "                if not func.lower() in func_dict:\n",
    "                    func_dict[func.lower()] = [(lib, func)]\n",
    "                else:\n",
    "                    func_dict[func.lower()].append((lib, func))\n",
    "\n",
    "                funcs.append(func)\n",
    "\n",
    "        # label = 'MALWARE' if filename.startswith('R') else 'GOODWARE'\n",
    "        df = pd.concat([df, pd.DataFrame({'filename': filename, 'label': label, 'funcs': ' '.join(funcs)}, index=[0])], ignore_index=True)\n",
    "        \n",
    "    return df"
   ]
  },
  {
   "cell_type": "code",
   "execution_count": 35,
   "metadata": {},
   "outputs": [],
   "source": [
    "malware_clusters_df = [ld_data(TRAIN_DIR, cluster, str(i)) for i, cluster in enumerate(mostly_malware_clusters)]\n",
    "rest_df = ld_data(TRAIN_DIR, [f for f in os.listdir(TRAIN_DIR) if not any([f in cluster for cluster in mostly_malware_clusters])], '-1')\n",
    "\n",
    "# Concat in rest_df all malware_clusters_df\n",
    "df = pd.concat([rest_df] + malware_clusters_df, ignore_index=True)"
   ]
  },
  {
   "cell_type": "code",
   "execution_count": 36,
   "metadata": {},
   "outputs": [
    {
     "data": {
      "text/html": [
       "<div>\n",
       "<style scoped>\n",
       "    .dataframe tbody tr th:only-of-type {\n",
       "        vertical-align: middle;\n",
       "    }\n",
       "\n",
       "    .dataframe tbody tr th {\n",
       "        vertical-align: top;\n",
       "    }\n",
       "\n",
       "    .dataframe thead th {\n",
       "        text-align: right;\n",
       "    }\n",
       "</style>\n",
       "<table border=\"1\" class=\"dataframe\">\n",
       "  <thead>\n",
       "    <tr style=\"text-align: right;\">\n",
       "      <th></th>\n",
       "      <th>filename</th>\n",
       "      <th>label</th>\n",
       "      <th>funcs</th>\n",
       "    </tr>\n",
       "  </thead>\n",
       "  <tbody>\n",
       "    <tr>\n",
       "      <th>0</th>\n",
       "      <td>G-cdp.dll</td>\n",
       "      <td>-1</td>\n",
       "      <td>_initterm_e _initterm _o__localtime64 _o__lock...</td>\n",
       "    </tr>\n",
       "    <tr>\n",
       "      <th>1</th>\n",
       "      <td>G-ConnectedAccountState.dll</td>\n",
       "      <td>-1</td>\n",
       "      <td>_unlock __C_specific_handler __dllonexit _amsg...</td>\n",
       "    </tr>\n",
       "    <tr>\n",
       "      <th>2</th>\n",
       "      <td>G-MapControlCore.dll</td>\n",
       "      <td>-1</td>\n",
       "      <td>_initterm _initterm_e _o__purecall _o__registe...</td>\n",
       "    </tr>\n",
       "    <tr>\n",
       "      <th>3</th>\n",
       "      <td>G-amsiproxy.dll</td>\n",
       "      <td>-1</td>\n",
       "      <td>__C_specific_handler malloc free _amsg_exit _i...</td>\n",
       "    </tr>\n",
       "    <tr>\n",
       "      <th>4</th>\n",
       "      <td>G-MDEServer.exe</td>\n",
       "      <td>-1</td>\n",
       "      <td>_wcsnicmp _unlock _lock _commode _fmode wcsncm...</td>\n",
       "    </tr>\n",
       "    <tr>\n",
       "      <th>...</th>\n",
       "      <td>...</td>\n",
       "      <td>...</td>\n",
       "      <td>...</td>\n",
       "    </tr>\n",
       "    <tr>\n",
       "      <th>1148</th>\n",
       "      <td>R-85abee48756b941dceb4fce6462dcc48ee0c484c1a7d...</td>\n",
       "      <td>84</td>\n",
       "      <td>LoadLibraryA VirtualAlloc VirtualProtect GetPr...</td>\n",
       "    </tr>\n",
       "    <tr>\n",
       "      <th>1149</th>\n",
       "      <td>R-8cd98f602c02e4b4719879f197641c4c42826774ac6a...</td>\n",
       "      <td>84</td>\n",
       "      <td>LoadLibraryA VirtualAlloc VirtualProtect GetPr...</td>\n",
       "    </tr>\n",
       "    <tr>\n",
       "      <th>1150</th>\n",
       "      <td>G-adal.dll</td>\n",
       "      <td>85</td>\n",
       "      <td>RtlLookupFunctionEntry RtlVirtualUnwind Unhand...</td>\n",
       "    </tr>\n",
       "    <tr>\n",
       "      <th>1151</th>\n",
       "      <td>R-Petya.sample</td>\n",
       "      <td>85</td>\n",
       "      <td>IIDFromString StringFromGUID2 OleUninitialize ...</td>\n",
       "    </tr>\n",
       "    <tr>\n",
       "      <th>1152</th>\n",
       "      <td>R-e894cb278095ee0c01d0bd686203f1a23689fadd1f93...</td>\n",
       "      <td>85</td>\n",
       "      <td>GlobalLock GlobalUnlock SetPriorityClass GetCu...</td>\n",
       "    </tr>\n",
       "  </tbody>\n",
       "</table>\n",
       "<p>1153 rows × 3 columns</p>\n",
       "</div>"
      ],
      "text/plain": [
       "                                               filename label  \\\n",
       "0                                             G-cdp.dll    -1   \n",
       "1                           G-ConnectedAccountState.dll    -1   \n",
       "2                                  G-MapControlCore.dll    -1   \n",
       "3                                       G-amsiproxy.dll    -1   \n",
       "4                                       G-MDEServer.exe    -1   \n",
       "...                                                 ...   ...   \n",
       "1148  R-85abee48756b941dceb4fce6462dcc48ee0c484c1a7d...    84   \n",
       "1149  R-8cd98f602c02e4b4719879f197641c4c42826774ac6a...    84   \n",
       "1150                                         G-adal.dll    85   \n",
       "1151                                     R-Petya.sample    85   \n",
       "1152  R-e894cb278095ee0c01d0bd686203f1a23689fadd1f93...    85   \n",
       "\n",
       "                                                  funcs  \n",
       "0     _initterm_e _initterm _o__localtime64 _o__lock...  \n",
       "1     _unlock __C_specific_handler __dllonexit _amsg...  \n",
       "2     _initterm _initterm_e _o__purecall _o__registe...  \n",
       "3     __C_specific_handler malloc free _amsg_exit _i...  \n",
       "4     _wcsnicmp _unlock _lock _commode _fmode wcsncm...  \n",
       "...                                                 ...  \n",
       "1148  LoadLibraryA VirtualAlloc VirtualProtect GetPr...  \n",
       "1149  LoadLibraryA VirtualAlloc VirtualProtect GetPr...  \n",
       "1150  RtlLookupFunctionEntry RtlVirtualUnwind Unhand...  \n",
       "1151  IIDFromString StringFromGUID2 OleUninitialize ...  \n",
       "1152  GlobalLock GlobalUnlock SetPriorityClass GetCu...  \n",
       "\n",
       "[1153 rows x 3 columns]"
      ]
     },
     "execution_count": 36,
     "metadata": {},
     "output_type": "execute_result"
    }
   ],
   "source": [
    "df"
   ]
  },
  {
   "cell_type": "code",
   "execution_count": 37,
   "metadata": {},
   "outputs": [
    {
     "data": {
      "text/html": [
       "<style>#sk-container-id-2 {color: black;background-color: white;}#sk-container-id-2 pre{padding: 0;}#sk-container-id-2 div.sk-toggleable {background-color: white;}#sk-container-id-2 label.sk-toggleable__label {cursor: pointer;display: block;width: 100%;margin-bottom: 0;padding: 0.3em;box-sizing: border-box;text-align: center;}#sk-container-id-2 label.sk-toggleable__label-arrow:before {content: \"▸\";float: left;margin-right: 0.25em;color: #696969;}#sk-container-id-2 label.sk-toggleable__label-arrow:hover:before {color: black;}#sk-container-id-2 div.sk-estimator:hover label.sk-toggleable__label-arrow:before {color: black;}#sk-container-id-2 div.sk-toggleable__content {max-height: 0;max-width: 0;overflow: hidden;text-align: left;background-color: #f0f8ff;}#sk-container-id-2 div.sk-toggleable__content pre {margin: 0.2em;color: black;border-radius: 0.25em;background-color: #f0f8ff;}#sk-container-id-2 input.sk-toggleable__control:checked~div.sk-toggleable__content {max-height: 200px;max-width: 100%;overflow: auto;}#sk-container-id-2 input.sk-toggleable__control:checked~label.sk-toggleable__label-arrow:before {content: \"▾\";}#sk-container-id-2 div.sk-estimator input.sk-toggleable__control:checked~label.sk-toggleable__label {background-color: #d4ebff;}#sk-container-id-2 div.sk-label input.sk-toggleable__control:checked~label.sk-toggleable__label {background-color: #d4ebff;}#sk-container-id-2 input.sk-hidden--visually {border: 0;clip: rect(1px 1px 1px 1px);clip: rect(1px, 1px, 1px, 1px);height: 1px;margin: -1px;overflow: hidden;padding: 0;position: absolute;width: 1px;}#sk-container-id-2 div.sk-estimator {font-family: monospace;background-color: #f0f8ff;border: 1px dotted black;border-radius: 0.25em;box-sizing: border-box;margin-bottom: 0.5em;}#sk-container-id-2 div.sk-estimator:hover {background-color: #d4ebff;}#sk-container-id-2 div.sk-parallel-item::after {content: \"\";width: 100%;border-bottom: 1px solid gray;flex-grow: 1;}#sk-container-id-2 div.sk-label:hover label.sk-toggleable__label {background-color: #d4ebff;}#sk-container-id-2 div.sk-serial::before {content: \"\";position: absolute;border-left: 1px solid gray;box-sizing: border-box;top: 0;bottom: 0;left: 50%;z-index: 0;}#sk-container-id-2 div.sk-serial {display: flex;flex-direction: column;align-items: center;background-color: white;padding-right: 0.2em;padding-left: 0.2em;position: relative;}#sk-container-id-2 div.sk-item {position: relative;z-index: 1;}#sk-container-id-2 div.sk-parallel {display: flex;align-items: stretch;justify-content: center;background-color: white;position: relative;}#sk-container-id-2 div.sk-item::before, #sk-container-id-2 div.sk-parallel-item::before {content: \"\";position: absolute;border-left: 1px solid gray;box-sizing: border-box;top: 0;bottom: 0;left: 50%;z-index: -1;}#sk-container-id-2 div.sk-parallel-item {display: flex;flex-direction: column;z-index: 1;position: relative;background-color: white;}#sk-container-id-2 div.sk-parallel-item:first-child::after {align-self: flex-end;width: 50%;}#sk-container-id-2 div.sk-parallel-item:last-child::after {align-self: flex-start;width: 50%;}#sk-container-id-2 div.sk-parallel-item:only-child::after {width: 0;}#sk-container-id-2 div.sk-dashed-wrapped {border: 1px dashed gray;margin: 0 0.4em 0.5em 0.4em;box-sizing: border-box;padding-bottom: 0.4em;background-color: white;}#sk-container-id-2 div.sk-label label {font-family: monospace;font-weight: bold;display: inline-block;line-height: 1.2em;}#sk-container-id-2 div.sk-label-container {text-align: center;}#sk-container-id-2 div.sk-container {/* jupyter's `normalize.less` sets `[hidden] { display: none; }` but bootstrap.min.css set `[hidden] { display: none !important; }` so we also need the `!important` here to be able to override the default hidden behavior on the sphinx rendered scikit-learn.org. See: https://github.com/scikit-learn/scikit-learn/issues/21755 */display: inline-block !important;position: relative;}#sk-container-id-2 div.sk-text-repr-fallback {display: none;}</style><div id=\"sk-container-id-2\" class=\"sk-top-container\"><div class=\"sk-text-repr-fallback\"><pre>DecisionTreeClassifier(criterion=&#x27;entropy&#x27;)</pre><b>In a Jupyter environment, please rerun this cell to show the HTML representation or trust the notebook. <br />On GitHub, the HTML representation is unable to render, please try loading this page with nbviewer.org.</b></div><div class=\"sk-container\" hidden><div class=\"sk-item\"><div class=\"sk-estimator sk-toggleable\"><input class=\"sk-toggleable__control sk-hidden--visually\" id=\"sk-estimator-id-2\" type=\"checkbox\" checked><label for=\"sk-estimator-id-2\" class=\"sk-toggleable__label sk-toggleable__label-arrow\">DecisionTreeClassifier</label><div class=\"sk-toggleable__content\"><pre>DecisionTreeClassifier(criterion=&#x27;entropy&#x27;)</pre></div></div></div></div></div>"
      ],
      "text/plain": [
       "DecisionTreeClassifier(criterion='entropy')"
      ]
     },
     "execution_count": 37,
     "metadata": {},
     "output_type": "execute_result"
    }
   ],
   "source": [
    "# Mudar isso para um BAG OF WORDS\n",
    "vectorizer = TfidfVectorizer()\n",
    "df_vectors = vectorizer.fit_transform(df['funcs']).ceil()\n",
    "\n",
    "classifier = DecisionTreeClassifier(criterion='entropy')\n",
    "classifier.fit(df_vectors, df['label'])"
   ]
  },
  {
   "cell_type": "code",
   "execution_count": 38,
   "metadata": {},
   "outputs": [
    {
     "name": "stderr",
     "output_type": "stream",
     "text": [
      "/home/joao/.local/lib/python3.10/site-packages/sklearn/utils/deprecation.py:87: FutureWarning: Function get_feature_names is deprecated; get_feature_names is deprecated in 1.0 and will be removed in 1.2. Please use get_feature_names_out instead.\n",
      "  warnings.warn(msg, category=FutureWarning)\n"
     ]
    },
    {
     "data": {
      "image/png": "[encoded data removed]",
      "text/plain": [
       "<Figure size 432x288 with 1 Axes>"
      ]
     },
     "metadata": {
      "needs_background": "light"
     },
     "output_type": "display_data"
    }
   ],
   "source": [
    "fn = vectorizer.get_feature_names()\n",
    "cn = df['label'].unique()\n",
    "\n",
    "plot_tree(classifier,\n",
    "               feature_names = fn,\n",
    "               class_names=cn,\n",
    "               filled = True);\n",
    "\n",
    "plt.savefig('asdf.svg')"
   ]
  },
  {
   "attachments": {},
   "cell_type": "markdown",
   "metadata": {},
   "source": [
    "### Testando o classificador"
   ]
  },
  {
   "cell_type": "code",
   "execution_count": 39,
   "metadata": {},
   "outputs": [],
   "source": [
    "test_mw = ld_data(TEST_MALWARE_DIR, os.listdir(TEST_MALWARE_DIR), 'MALWARE')\n",
    "test_gw = ld_data(TEST_GOODWARE_DIR, os.listdir(TEST_GOODWARE_DIR), 'GOODWARE')\n",
    "\n",
    "test_df = pd.concat([test_mw, test_gw], ignore_index=True)"
   ]
  },
  {
   "cell_type": "code",
   "execution_count": 40,
   "metadata": {},
   "outputs": [],
   "source": [
    "test_mw_vectors = vectorizer.transform(test_mw['funcs']).ceil()\n",
    "test_gw_vectors = vectorizer.transform(test_gw['funcs']).ceil()\n",
    "test_vectors = vectorizer.transform(test_df['funcs']).ceil()\n",
    "\n",
    "pred_mw = classifier.predict(test_mw_vectors)\n",
    "pred_gw = classifier.predict(test_gw_vectors)\n",
    "pred = classifier.predict(test_vectors)\n",
    "\n",
    "pred_mw = ['MALWARE' if p != '-1' else 'GOODWARE' for p in pred_mw]\n",
    "pred_gw = ['MALWARE' if p != '-1' else 'GOODWARE' for p in pred_gw]\n",
    "pred = ['MALWARE' if p != '-1' else 'GOODWARE' for p in pred]"
   ]
  },
  {
   "cell_type": "code",
   "execution_count": 41,
   "metadata": {},
   "outputs": [
    {
     "name": "stdout",
     "output_type": "stream",
     "text": [
      "Accuracy total: 0.800479246426309\n",
      "Accuracy malware: 0.9719319737695468\n",
      "Accuracy goodware: 0.2441248684672045\n",
      "F1 score: 0.760078207479409\n"
     ]
    }
   ],
   "source": [
    "print('Accuracy total: {}'.format(accuracy_score(test_df['label'], pred)))\n",
    "print('Accuracy malware: {}'.format(accuracy_score(test_mw['label'], pred_mw)))\n",
    "print('Accuracy goodware: {}'.format(accuracy_score(test_gw['label'], pred_gw)))\n",
    "print('F1 score: {}'.format(f1_score(test_df['label'], pred, average='weighted')))"
   ]
  },
  {
   "attachments": {},
   "cell_type": "markdown",
   "metadata": {},
   "source": [
    "### Criando regras YARA"
   ]
  },
  {
   "cell_type": "code",
   "execution_count": 42,
   "metadata": {},
   "outputs": [],
   "source": [
    "n_nodes = classifier.tree_.node_count\n",
    "children_left = classifier.tree_.children_left\n",
    "children_right = classifier.tree_.children_right\n",
    "feature = classifier.tree_.feature\n",
    "threshold = classifier.tree_.threshold\n",
    "value = classifier.tree_.value\n",
    "impurity = classifier.tree_.impurity"
   ]
  },
  {
   "cell_type": "code",
   "execution_count": 43,
   "metadata": {},
   "outputs": [],
   "source": [
    "def find_path(node_numb, path, x):\n",
    "    path.append(node_numb)\n",
    "    if node_numb == x:\n",
    "        return True\n",
    "    left = False\n",
    "    right = False\n",
    "    if (children_left[node_numb] != -1):\n",
    "        left = find_path(children_left[node_numb], path, x)\n",
    "    if (children_right[node_numb] != -1):\n",
    "        right = find_path(children_right[node_numb], path, x)\n",
    "    if left or right:\n",
    "        return True\n",
    "    path.remove(node_numb)\n",
    "    return False\n",
    "\n",
    "def get_rule(path, column_names):\n",
    "    mask = ''\n",
    "    for index, node in enumerate(path):\n",
    "        if index != len(path) - 1:\n",
    "            if (children_left[node] == path[index+1]):\n",
    "                mask += \"(df['{}']<= {}) \\t \".format(column_names[feature[node]], threshold[node])\n",
    "            else:\n",
    "                mask += \"(df['{}']> {}) \\t \".format(column_names[feature[node]], threshold[node])\n",
    "    mask = mask.replace(\"\\t\", \"&\", mask.count(\"\\t\") - 1)\n",
    "    mask = mask.replace(\"\\t\", \"\")\n",
    "    return mask\n",
    "\n",
    "def get_yara_rule(rule, condition_group, path, column_names):\n",
    "    for index, node in enumerate(path):\n",
    "        if index != len(path) - 1:\n",
    "            func_lwr = column_names[feature[node]]\n",
    "            if (children_left[node] == path[index+1]):\n",
    "                rule.create_condition_group(name=\"{}_{}\".format(condition_group, index), parent_group=condition_group, default_boolean=\"and\")\n",
    "                for lib, func in func_dict[func_lwr]:\n",
    "                    rule.add_condition(f'not(pe.imports(\"{lib}\", \"{func}\"))', condition_group=\"{}_{}\".format(condition_group, index))\n",
    "            else:\n",
    "                rule.create_condition_group(name=\"{}_{}\".format(condition_group, index), parent_group=condition_group, default_boolean=\"or\")\n",
    "                for lib, func in func_dict[func_lwr]:\n",
    "                    rule.add_condition(f'pe.imports(\"{lib}\", \"{func}\")', condition_group=\"{}_{}\".format(condition_group, index))"
   ]
  },
  {
   "cell_type": "code",
   "execution_count": 44,
   "metadata": {},
   "outputs": [],
   "source": [
    "for i in range(len(df['label'].unique()) - 1):\n",
    "\n",
    "    rule = yara_tools.create_rule(name=f\"rule_cluster_{i}\", default_boolean='or')\n",
    "\n",
    "    rule.add_import(name=\"pe\")\n",
    "\n",
    "    # Leaves\n",
    "    leave_id = classifier.apply(df_vectors)\n",
    "\n",
    "    paths = {}\n",
    "    for leaf in np.unique(leave_id):\n",
    "        path_leaf = []\n",
    "        find_path(0, path_leaf, leaf)\n",
    "        paths[leaf] = np.unique(np.sort(path_leaf))\n",
    "\n",
    "    # Cut paths that lead to goodwares\n",
    "    filtered_paths = {}\n",
    "    for path in paths:\n",
    "        samples_count = value[path][0]\n",
    "        goodware_value_index = 0\n",
    "        malware_value_index = i + 1\n",
    "        if samples_count[malware_value_index] > samples_count[goodware_value_index]:\n",
    "            filtered_paths[path] = paths[path]\n",
    "\n",
    "    paths = filtered_paths\n",
    "\n",
    "    for leaf_num in paths:\n",
    "        rule.create_condition_group(name=\"group_{}\".format(leaf_num), default_boolean='and')\n",
    "        get_yara_rule(rule, \"group_{}\".format(leaf_num), paths[leaf_num], vectorizer.get_feature_names_out())\n",
    "\n",
    "    # generated_rule = rule.build_rule(condition_groups=True)\n",
    "\n",
    "    # compiled_rule = yara.compile(source=generated_rule)\n",
    "\n",
    "    # print (generated_rule)\n"
   ]
  },
  {
   "attachments": {},
   "cell_type": "markdown",
   "metadata": {},
   "source": [
    "---\n",
    "\n",
    "## Segundo teste - Similaridades e diferencas"
   ]
  },
  {
   "attachments": {},
   "cell_type": "markdown",
   "metadata": {},
   "source": [
    "### Obtendo as similaridades e diferencas"
   ]
  },
  {
   "cell_type": "code",
   "execution_count": 45,
   "metadata": {},
   "outputs": [],
   "source": [
    "# Functions that occur in all malwares in the cluster\n",
    "def plus_functions(dir, cluster):\n",
    "    file_sets = []\n",
    "\n",
    "    for file in cluster:\n",
    "        \n",
    "        file_sets.append(set(line.split(' ')[1] for line in open(os.path.join(dir, file)).read().splitlines()))\n",
    "        \n",
    "        # Remove all the functions from set that has '@' or '?' in it\n",
    "        file_sets[-1] = {func for func in file_sets[-1] if not ('@' in func or '?' in func)}\n",
    "    \n",
    "\n",
    "    intersection = set.intersection(*file_sets)\n",
    "\n",
    "    return intersection\n",
    "\n",
    "\n",
    "# Functions that does not occur in any malwares in the cluster\n",
    "def minus_functions(dir, cluster):\n",
    "    others_set = set()\n",
    "\n",
    "    dir = os.path.join(dir)\n",
    "\n",
    "    for file in os.listdir(dir):\n",
    "        if file in cluster:\n",
    "            continue\n",
    "\n",
    "        others_set.update(set(line.split(' ')[1] for line in open(os.path.join(dir, file)).read().splitlines()))\n",
    "    \n",
    "    others_set = {func for func in others_set if not ('@' in func or '?' in func)}\n",
    "\n",
    "    cluster_set = set()\n",
    "    for file in cluster:\n",
    "        cluster_set.update(set(line.split(' ')[1] for line in open(os.path.join(dir, file)).read().splitlines()))\n",
    "\n",
    "    cluster_set = {func for func in cluster_set if not ('@' in func or '?' in func)}\n",
    "\n",
    "    others_minus_cluster = others_set - cluster_set\n",
    "\n",
    "    return others_minus_cluster\n",
    "\n",
    "def functions(dir):\n",
    "    return [set(line.split(' ')[1] for line in open(os.path.join(dir, file)).read().splitlines()) for file in os.listdir(dir)]"
   ]
  },
  {
   "cell_type": "code",
   "execution_count": 46,
   "metadata": {},
   "outputs": [],
   "source": [
    "\n",
    "plus = [plus_functions(TRAIN_DIR, cluster) for cluster in mostly_malware_clusters]\n",
    "minus = [minus_functions(TRAIN_DIR, cluster) for cluster in mostly_malware_clusters]"
   ]
  },
  {
   "cell_type": "code",
   "execution_count": 47,
   "metadata": {},
   "outputs": [
    {
     "data": {
      "text/plain": [
       "[150,\n",
       " 0,\n",
       " 1,\n",
       " 33,\n",
       " 0,\n",
       " 0,\n",
       " 0,\n",
       " 3,\n",
       " 4,\n",
       " 9,\n",
       " 4,\n",
       " 5,\n",
       " 0,\n",
       " 0,\n",
       " 3,\n",
       " 21,\n",
       " 20,\n",
       " 20,\n",
       " 44,\n",
       " 11,\n",
       " 18,\n",
       " 42,\n",
       " 46,\n",
       " 59,\n",
       " 38,\n",
       " 42,\n",
       " 42,\n",
       " 1,\n",
       " 12,\n",
       " 15,\n",
       " 28,\n",
       " 59,\n",
       " 0,\n",
       " 10,\n",
       " 53,\n",
       " 65,\n",
       " 60,\n",
       " 75,\n",
       " 46,\n",
       " 77,\n",
       " 78,\n",
       " 49,\n",
       " 107,\n",
       " 98,\n",
       " 66,\n",
       " 57,\n",
       " 50,\n",
       " 71,\n",
       " 150,\n",
       " 45,\n",
       " 63,\n",
       " 54,\n",
       " 63,\n",
       " 92,\n",
       " 52,\n",
       " 85,\n",
       " 58,\n",
       " 51,\n",
       " 140,\n",
       " 117,\n",
       " 92,\n",
       " 62,\n",
       " 23,\n",
       " 18,\n",
       " 159,\n",
       " 159,\n",
       " 159,\n",
       " 159,\n",
       " 159,\n",
       " 94,\n",
       " 47,\n",
       " 14,\n",
       " 165,\n",
       " 316,\n",
       " 343,\n",
       " 354,\n",
       " 348,\n",
       " 351,\n",
       " 386,\n",
       " 253,\n",
       " 203,\n",
       " 518,\n",
       " 624,\n",
       " 11,\n",
       " 127,\n",
       " 95]"
      ]
     },
     "execution_count": 47,
     "metadata": {},
     "output_type": "execute_result"
    }
   ],
   "source": [
    "[len(p) for p in plus]"
   ]
  },
  {
   "cell_type": "code",
   "execution_count": 48,
   "metadata": {},
   "outputs": [
    {
     "data": {
      "text/plain": [
       "[9743,\n",
       " 9410,\n",
       " 9809,\n",
       " 9683,\n",
       " 9870,\n",
       " 9878,\n",
       " 9784,\n",
       " 9864,\n",
       " 9874,\n",
       " 9884,\n",
       " 9880,\n",
       " 9863,\n",
       " 9855,\n",
       " 9795,\n",
       " 9805,\n",
       " 9872,\n",
       " 9873,\n",
       " 9873,\n",
       " 9849,\n",
       " 9882,\n",
       " 9875,\n",
       " 9809,\n",
       " 9827,\n",
       " 9819,\n",
       " 9842,\n",
       " 9851,\n",
       " 9851,\n",
       " 9739,\n",
       " 9748,\n",
       " 9733,\n",
       " 9799,\n",
       " 9834,\n",
       " 9342,\n",
       " 9395,\n",
       " 9782,\n",
       " 9828,\n",
       " 9776,\n",
       " 9818,\n",
       " 9766,\n",
       " 9816,\n",
       " 9815,\n",
       " 9708,\n",
       " 9786,\n",
       " 9795,\n",
       " 9827,\n",
       " 9737,\n",
       " 9604,\n",
       " 9673,\n",
       " 9743,\n",
       " 9645,\n",
       " 9757,\n",
       " 9712,\n",
       " 9754,\n",
       " 9801,\n",
       " 9736,\n",
       " 9808,\n",
       " 9716,\n",
       " 9599,\n",
       " 9753,\n",
       " 9776,\n",
       " 9743,\n",
       " 9459,\n",
       " 9444,\n",
       " 9478,\n",
       " 9734,\n",
       " 9734,\n",
       " 9734,\n",
       " 9734,\n",
       " 9734,\n",
       " 9549,\n",
       " 9670,\n",
       " 8875,\n",
       " 9127,\n",
       " 9465,\n",
       " 9510,\n",
       " 9499,\n",
       " 9527,\n",
       " 9525,\n",
       " 9507,\n",
       " 9120,\n",
       " 8993,\n",
       " 9375,\n",
       " 9269,\n",
       " 9641,\n",
       " 9766,\n",
       " 9302]"
      ]
     },
     "execution_count": 48,
     "metadata": {},
     "output_type": "execute_result"
    }
   ],
   "source": [
    "[len(m) for m in minus]"
   ]
  },
  {
   "cell_type": "code",
   "execution_count": 49,
   "metadata": {},
   "outputs": [],
   "source": [
    "def predict_similarity_difference(file_functions_set, plus_functions_set_list, minus_functions_set_list):\n",
    "\n",
    "    for plus_functions_set, minus_functions_set in zip(plus_functions_set_list, minus_functions_set_list):\n",
    "        plus_functions_intersection = file_functions_set & plus_functions_set\n",
    "        minus_functions_intersection = file_functions_set & minus_functions_set\n",
    "\n",
    "        if len(plus_functions_intersection) == len(plus_functions_set) and len(minus_functions_intersection) == 0:\n",
    "            return 'MALWARE'\n",
    "\n",
    "    return 'GOODWARE'\n"
   ]
  },
  {
   "cell_type": "code",
   "execution_count": 50,
   "metadata": {},
   "outputs": [],
   "source": [
    "test_mw = functions(TEST_MALWARE_DIR)\n",
    "test_gw = functions(TEST_GOODWARE_DIR)\n",
    "test = test_mw + test_gw\n",
    "\n",
    "test_mw_label = ['MALWARE' for _ in test_mw]\n",
    "test_gw_label = ['GOODWARE' for _ in test_gw]\n",
    "test_label = test_mw_label + test_gw_label\n",
    "\n",
    "pred_mw = [predict_similarity_difference(file_functions_set, plus, minus) for file_functions_set in test_mw]\n",
    "pred_gw = [predict_similarity_difference(file_functions_set, plus, minus) for file_functions_set in test_gw]\n",
    "pred = [predict_similarity_difference(file_functions_set, plus, minus) for file_functions_set in test]"
   ]
  },
  {
   "cell_type": "code",
   "execution_count": 51,
   "metadata": {},
   "outputs": [
    {
     "name": "stdout",
     "output_type": "stream",
     "text": [
      "Accuracy total: 0.3009337042443606\n",
      "Accuracy malware: 0.21452763565612165\n",
      "Accuracy goodware: 0.581316497135508\n",
      "F1 score: 0.31042862796735027\n"
     ]
    }
   ],
   "source": [
    "print('Accuracy total: {}'.format(accuracy_score(test_label, pred)))\n",
    "print('Accuracy malware: {}'.format(accuracy_score(test_mw_label, pred_mw)))\n",
    "print('Accuracy goodware: {}'.format(accuracy_score(test_gw_label, pred_gw)))\n",
    "print('F1 score: {}'.format(f1_score(test_label, pred, average='weighted')))"
   ]
  },
  {
   "attachments": {},
   "cell_type": "markdown",
   "metadata": {},
   "source": [
    "### Criando reegras YARA"
   ]
  },
  {
   "cell_type": "code",
   "execution_count": 52,
   "metadata": {},
   "outputs": [
    {
     "data": {
      "text/plain": [
       "'\\nif len(plus) != len(minus):\\n    raise ValueError(\"Plus and minus functions must be of the same length\")\\n\\nfor i in range(len(plus)):\\n    rule = yara_tools.create_rule(name=f\"rule_cluster_{i}\")\\n    rule.add_import(name=\"pe\")\\n\\n    for func_lwr in plus[i]:\\n        func_lwr = func_lwr.lower()\\n        rule.create_condition_group(name=\"group_{}\".format(func_lwr), default_boolean=\\'or\\')\\n        for lib, func in func_dict[func_lwr]:\\n            rule.add_condition(f\\'pe.imports(\"{lib}\", \"{func}\")\\', condition_group=\"group_{}\".format(func_lwr))\\n\\n    for func_lwr in minus[i]:\\n        func_lwr = func_lwr.lower()\\n        rule.create_condition_group(name=\"group_{}\".format(func_lwr), default_boolean=\\'and\\')\\n        for lib, func in func_dict[func_lwr]:\\n            rule.add_condition(f\\'not(pe.imports(\"{lib}\", \"{func}\"))\\', condition_group=\"group_{}\".format(func_lwr))\\n\\n    # generated_rule = rule.build_rule(condition_groups=True)\\n\\n    # compiled_rule = yara.compile(source=generated_rule)\\n\\n    # print (generated_rule)\\n'"
      ]
     },
     "execution_count": 52,
     "metadata": {},
     "output_type": "execute_result"
    }
   ],
   "source": [
    "\"\"\"\n",
    "if len(plus) != len(minus):\n",
    "    raise ValueError(\"Plus and minus functions must be of the same length\")\n",
    "\n",
    "for i in range(len(plus)):\n",
    "    rule = yara_tools.create_rule(name=f\"rule_cluster_{i}\")\n",
    "    rule.add_import(name=\"pe\")\n",
    "\n",
    "    for func_lwr in plus[i]:\n",
    "        func_lwr = func_lwr.lower()\n",
    "        rule.create_condition_group(name=\"group_{}\".format(func_lwr), default_boolean='or')\n",
    "        for lib, func in func_dict[func_lwr]:\n",
    "            rule.add_condition(f'pe.imports(\"{lib}\", \"{func}\")', condition_group=\"group_{}\".format(func_lwr))\n",
    "\n",
    "    for func_lwr in minus[i]:\n",
    "        func_lwr = func_lwr.lower()\n",
    "        rule.create_condition_group(name=\"group_{}\".format(func_lwr), default_boolean='and')\n",
    "        for lib, func in func_dict[func_lwr]:\n",
    "            rule.add_condition(f'not(pe.imports(\"{lib}\", \"{func}\"))', condition_group=\"group_{}\".format(func_lwr))\n",
    "\n",
    "    # generated_rule = rule.build_rule(condition_groups=True)\n",
    "\n",
    "    # compiled_rule = yara.compile(source=generated_rule)\n",
    "\n",
    "    # print (generated_rule)\n",
    "\"\"\""
   ]
  }
 ],
 "metadata": {
  "kernelspec": {
   "display_name": "Python 3",
   "language": "python",
   "name": "python3"
  },
  "language_info": {
   "codemirror_mode": {
    "name": "ipython",
    "version": 3
   },
   "file_extension": ".py",
   "mimetype": "text/x-python",
   "name": "python",
   "nbconvert_exporter": "python",
   "pygments_lexer": "ipython3",
   "version": "3.10.6"
  },
  "orig_nbformat": 4,
  "vscode": {
   "interpreter": {
    "hash": "916dbcbb3f70747c44a77c7bcd40155683ae19c65e1c03b4aa3499c5328201f1"
   }
  }
 },
 "nbformat": 4,
 "nbformat_minor": 2
}
