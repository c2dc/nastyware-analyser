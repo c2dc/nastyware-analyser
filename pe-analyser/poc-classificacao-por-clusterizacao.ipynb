{
 "cells": [
  {
   "attachments": {},
   "cell_type": "markdown",
   "metadata": {},
   "source": [
    "# Notebook para testar a classificacao por clusters"
   ]
  },
  {
   "cell_type": "code",
   "execution_count": 152,
   "metadata": {},
   "outputs": [],
   "source": [
    "import sys\n",
    "import os\n",
    "import pandas as pd\n",
    "import numpy as np\n",
    "import seaborn as sns\n",
    "from itertools import combinations\n",
    "from sklearn.feature_extraction.text import TfidfVectorizer\n",
    "from sklearn.tree import DecisionTreeClassifier, plot_tree\n",
    "from sklearn.model_selection import train_test_split\n",
    "from sklearn.metrics import accuracy_score, confusion_matrix, f1_score\n",
    "import matplotlib.pyplot as plt\n",
    "\n",
    "import yara\n",
    "import yara_tools"
   ]
  },
  {
   "cell_type": "code",
   "execution_count": 153,
   "metadata": {},
   "outputs": [],
   "source": [
    "TRAIN_DIR = '/archive/files/nastyware-files/import-arquivos-nilson/'\n",
    "TEST_MALWARE_DIR = '/archive/files/nastyware-files/import-malware-bazaar-2021-01-to-2021-02/'\n",
    "TEST_GOODWARE_DIR = '/archive/files/nastyware-files/import-windows-server-2016/'"
   ]
  },
  {
   "cell_type": "code",
   "execution_count": 154,
   "metadata": {},
   "outputs": [],
   "source": [
    "# !./pe-analyser.py --folder $TRAIN_DIR"
   ]
  },
  {
   "cell_type": "code",
   "execution_count": 155,
   "metadata": {},
   "outputs": [],
   "source": [
    "\n",
    "lines = open('node_clustering.txt', 'r').readlines()\n",
    "lines = lines[1:]\n",
    "\n",
    "clusters = [[el.strip() for el in line.strip().split(',') if not el.strip().startswith('-')] for line in lines]"
   ]
  },
  {
   "cell_type": "code",
   "execution_count": 156,
   "metadata": {},
   "outputs": [],
   "source": [
    "EPSILON = 0.2"
   ]
  },
  {
   "cell_type": "code",
   "execution_count": 157,
   "metadata": {},
   "outputs": [
    {
     "data": {
      "text/plain": [
       "[['R-Gandcrab.sample', 'R-cryptowall.sample', 'R-Locky.sample'],\n",
       " ['R-System_Lock_1.2b1.sample',\n",
       "  'R-Buhtrap.sample',\n",
       "  'R-Manager.sample',\n",
       "  'R-Vipasana.sample'],\n",
       " ['G-CompMgmtLauncher.exe',\n",
       "  'R-Dharma.sample',\n",
       "  'R-Mamba_xox_b.sample',\n",
       "  'R-Ransomware.tmp.sample',\n",
       "  'R-Ryuk2.sample',\n",
       "  'G-atl100.dll',\n",
       "  'G-mscories.dll',\n",
       "  'G-msdadiag.dll'],\n",
       " ['G-mqmigplugin.dll',\n",
       "  'G-mscoree.dll',\n",
       "  'R-Faux-v3.sample',\n",
       "  'R-131.sample',\n",
       "  'R-Ryuk_copy.sample'],\n",
       " ['R-Avaddon.sample',\n",
       "  'R-Lockbit.Trojan.sample',\n",
       "  'R-Ransomware.tmp2.sample',\n",
       "  'R-Troldesh.sample',\n",
       "  'R-Djvu.sample'],\n",
       " ['G-MRT.exe',\n",
       "  'G-adal.dll',\n",
       "  'R-Petya.sample',\n",
       "  'G-adprep.dll',\n",
       "  'R-LockBit_14_02_2021.sample',\n",
       "  'R-Lockbit.sample'],\n",
       " ['G-BOOTVID.DLL',\n",
       "  'G-mcupdate_AuthenticAMD.dll',\n",
       "  'G-mcupdate_GenuineIntel.dll',\n",
       "  'R-Satana.sample'],\n",
       " ['G-BPAInst.dll',\n",
       "  'G-MuxInst.dll',\n",
       "  'G-miguiresource.dll',\n",
       "  'G-mscat32.dll',\n",
       "  'G-mssip32.dll',\n",
       "  'R-File.sample',\n",
       "  'R-Revil.sample',\n",
       "  'R-Revil_Sodinokibi.sample'],\n",
       " ['R-Crysis.sample',\n",
       "  'R-LordEK.sample',\n",
       "  'R-Phobos.sample',\n",
       "  'R-Radamant.sample',\n",
       "  'R-Win32.Wannacry.sample'],\n",
       " ['R-Ransomware.sample', 'R-RedBoot.sample'],\n",
       " ['R-Buran.sample', 'R-MSSECSVC.sample', 'R-Wannacry.sample']]"
      ]
     },
     "execution_count": 157,
     "metadata": {},
     "output_type": "execute_result"
    }
   ],
   "source": [
    "mostly_malware_clusters = []\n",
    "\n",
    "for cluster in clusters:\n",
    "    if len(cluster) > 1:\n",
    "        malware_count = 0\n",
    "        for node in cluster:\n",
    "            if node.startswith('R-'):\n",
    "                malware_count += 1\n",
    "\n",
    "        # Verificar a frequencia com que sera adicionado no cluster\n",
    "        if malware_count >= EPSILON * len(cluster):\n",
    "            mostly_malware_clusters.append(cluster)\n",
    "\n",
    "mostly_malware_clusters"
   ]
  },
  {
   "attachments": {},
   "cell_type": "markdown",
   "metadata": {},
   "source": [
    "---\n",
    "\n",
    "## Primeiro teste - Decision Tree"
   ]
  },
  {
   "attachments": {},
   "cell_type": "markdown",
   "metadata": {},
   "source": [
    "### Treinando o classificador"
   ]
  },
  {
   "cell_type": "code",
   "execution_count": 158,
   "metadata": {},
   "outputs": [],
   "source": [
    "func_dict = {}"
   ]
  },
  {
   "cell_type": "code",
   "execution_count": 159,
   "metadata": {},
   "outputs": [],
   "source": [
    "def ld_data(dir_name, files, label=None):\n",
    "    # Load data in files from directory dir_name in a pandas dataframe\n",
    "    df = pd.DataFrame()\n",
    "    for filename in files:\n",
    "        funcs = []\n",
    "        with open(os.path.join(dir_name, filename), 'r') as f:\n",
    "            lines = f.read().splitlines()\n",
    "            \n",
    "            for line in lines:\n",
    "                lib, func = line.split(' ')\n",
    "                if '@' in func or '?' in func:\n",
    "                    continue\n",
    "\n",
    "                if not func.lower() in func_dict:\n",
    "                    func_dict[func.lower()] = [(lib, func)]\n",
    "                else:\n",
    "                    func_dict[func.lower()].append((lib, func))\n",
    "\n",
    "                funcs.append(func)\n",
    "\n",
    "        # label = 'MALWARE' if filename.startswith('R') else 'GOODWARE'\n",
    "        df = pd.concat([df, pd.DataFrame({'filename': filename, 'label': label, 'funcs': ' '.join(funcs)}, index=[0])], ignore_index=True)\n",
    "        \n",
    "    return df"
   ]
  },
  {
   "cell_type": "code",
   "execution_count": 160,
   "metadata": {},
   "outputs": [],
   "source": [
    "malware_clusters_df = [ld_data(TRAIN_DIR, cluster, str(i)) for i, cluster in enumerate(mostly_malware_clusters)]\n",
    "rest_df = ld_data(TRAIN_DIR, [f for f in os.listdir(TRAIN_DIR) if not any([f in cluster for cluster in mostly_malware_clusters])], '-1')\n",
    "\n",
    "# Concat in rest_df all malware_clusters_df\n",
    "df = pd.concat([rest_df] + malware_clusters_df, ignore_index=True)"
   ]
  },
  {
   "cell_type": "code",
   "execution_count": 161,
   "metadata": {},
   "outputs": [
    {
     "data": {
      "text/html": [
       "<div>\n",
       "<style scoped>\n",
       "    .dataframe tbody tr th:only-of-type {\n",
       "        vertical-align: middle;\n",
       "    }\n",
       "\n",
       "    .dataframe tbody tr th {\n",
       "        vertical-align: top;\n",
       "    }\n",
       "\n",
       "    .dataframe thead th {\n",
       "        text-align: right;\n",
       "    }\n",
       "</style>\n",
       "<table border=\"1\" class=\"dataframe\">\n",
       "  <thead>\n",
       "    <tr style=\"text-align: right;\">\n",
       "      <th></th>\n",
       "      <th>filename</th>\n",
       "      <th>label</th>\n",
       "      <th>funcs</th>\n",
       "    </tr>\n",
       "  </thead>\n",
       "  <tbody>\n",
       "    <tr>\n",
       "      <th>0</th>\n",
       "      <td>G-cdp.dll</td>\n",
       "      <td>-1</td>\n",
       "      <td>_initterm_e _initterm _o__localtime64 _o__lock...</td>\n",
       "    </tr>\n",
       "    <tr>\n",
       "      <th>1</th>\n",
       "      <td>G-ConnectedAccountState.dll</td>\n",
       "      <td>-1</td>\n",
       "      <td>_unlock __C_specific_handler __dllonexit _amsg...</td>\n",
       "    </tr>\n",
       "    <tr>\n",
       "      <th>2</th>\n",
       "      <td>G-MapControlCore.dll</td>\n",
       "      <td>-1</td>\n",
       "      <td>_initterm _initterm_e _o__purecall _o__registe...</td>\n",
       "    </tr>\n",
       "    <tr>\n",
       "      <th>3</th>\n",
       "      <td>G-amsiproxy.dll</td>\n",
       "      <td>-1</td>\n",
       "      <td>__C_specific_handler malloc free _amsg_exit _i...</td>\n",
       "    </tr>\n",
       "    <tr>\n",
       "      <th>4</th>\n",
       "      <td>G-MDEServer.exe</td>\n",
       "      <td>-1</td>\n",
       "      <td>_wcsnicmp _unlock _lock _commode _fmode wcsncm...</td>\n",
       "    </tr>\n",
       "    <tr>\n",
       "      <th>...</th>\n",
       "      <td>...</td>\n",
       "      <td>...</td>\n",
       "      <td>...</td>\n",
       "    </tr>\n",
       "    <tr>\n",
       "      <th>783</th>\n",
       "      <td>R-Ransomware.sample</td>\n",
       "      <td>9</td>\n",
       "      <td>WriteFile WriteConsoleW WaitForMultipleObjects...</td>\n",
       "    </tr>\n",
       "    <tr>\n",
       "      <th>784</th>\n",
       "      <td>R-RedBoot.sample</td>\n",
       "      <td>9</td>\n",
       "      <td>LoadLibraryA GetProcAddress VirtualProtect Vir...</td>\n",
       "    </tr>\n",
       "    <tr>\n",
       "      <th>785</th>\n",
       "      <td>R-Buran.sample</td>\n",
       "      <td>10</td>\n",
       "      <td>GetProcAddress GetVersion LoadLibraryA Virtual...</td>\n",
       "    </tr>\n",
       "    <tr>\n",
       "      <th>786</th>\n",
       "      <td>R-MSSECSVC.sample</td>\n",
       "      <td>10</td>\n",
       "      <td>WaitForSingleObject InterlockedIncrement GetCu...</td>\n",
       "    </tr>\n",
       "    <tr>\n",
       "      <th>787</th>\n",
       "      <td>R-Wannacry.sample</td>\n",
       "      <td>10</td>\n",
       "      <td>GetFileAttributesW GetFileSizeEx CreateFileA I...</td>\n",
       "    </tr>\n",
       "  </tbody>\n",
       "</table>\n",
       "<p>788 rows × 3 columns</p>\n",
       "</div>"
      ],
      "text/plain": [
       "                        filename label  \\\n",
       "0                      G-cdp.dll    -1   \n",
       "1    G-ConnectedAccountState.dll    -1   \n",
       "2           G-MapControlCore.dll    -1   \n",
       "3                G-amsiproxy.dll    -1   \n",
       "4                G-MDEServer.exe    -1   \n",
       "..                           ...   ...   \n",
       "783          R-Ransomware.sample     9   \n",
       "784             R-RedBoot.sample     9   \n",
       "785               R-Buran.sample    10   \n",
       "786            R-MSSECSVC.sample    10   \n",
       "787            R-Wannacry.sample    10   \n",
       "\n",
       "                                                 funcs  \n",
       "0    _initterm_e _initterm _o__localtime64 _o__lock...  \n",
       "1    _unlock __C_specific_handler __dllonexit _amsg...  \n",
       "2    _initterm _initterm_e _o__purecall _o__registe...  \n",
       "3    __C_specific_handler malloc free _amsg_exit _i...  \n",
       "4    _wcsnicmp _unlock _lock _commode _fmode wcsncm...  \n",
       "..                                                 ...  \n",
       "783  WriteFile WriteConsoleW WaitForMultipleObjects...  \n",
       "784  LoadLibraryA GetProcAddress VirtualProtect Vir...  \n",
       "785  GetProcAddress GetVersion LoadLibraryA Virtual...  \n",
       "786  WaitForSingleObject InterlockedIncrement GetCu...  \n",
       "787  GetFileAttributesW GetFileSizeEx CreateFileA I...  \n",
       "\n",
       "[788 rows x 3 columns]"
      ]
     },
     "execution_count": 161,
     "metadata": {},
     "output_type": "execute_result"
    }
   ],
   "source": [
    "df"
   ]
  },
  {
   "cell_type": "code",
   "execution_count": 162,
   "metadata": {},
   "outputs": [
    {
     "data": {
      "text/html": [
       "<style>#sk-container-id-6 {color: black;background-color: white;}#sk-container-id-6 pre{padding: 0;}#sk-container-id-6 div.sk-toggleable {background-color: white;}#sk-container-id-6 label.sk-toggleable__label {cursor: pointer;display: block;width: 100%;margin-bottom: 0;padding: 0.3em;box-sizing: border-box;text-align: center;}#sk-container-id-6 label.sk-toggleable__label-arrow:before {content: \"▸\";float: left;margin-right: 0.25em;color: #696969;}#sk-container-id-6 label.sk-toggleable__label-arrow:hover:before {color: black;}#sk-container-id-6 div.sk-estimator:hover label.sk-toggleable__label-arrow:before {color: black;}#sk-container-id-6 div.sk-toggleable__content {max-height: 0;max-width: 0;overflow: hidden;text-align: left;background-color: #f0f8ff;}#sk-container-id-6 div.sk-toggleable__content pre {margin: 0.2em;color: black;border-radius: 0.25em;background-color: #f0f8ff;}#sk-container-id-6 input.sk-toggleable__control:checked~div.sk-toggleable__content {max-height: 200px;max-width: 100%;overflow: auto;}#sk-container-id-6 input.sk-toggleable__control:checked~label.sk-toggleable__label-arrow:before {content: \"▾\";}#sk-container-id-6 div.sk-estimator input.sk-toggleable__control:checked~label.sk-toggleable__label {background-color: #d4ebff;}#sk-container-id-6 div.sk-label input.sk-toggleable__control:checked~label.sk-toggleable__label {background-color: #d4ebff;}#sk-container-id-6 input.sk-hidden--visually {border: 0;clip: rect(1px 1px 1px 1px);clip: rect(1px, 1px, 1px, 1px);height: 1px;margin: -1px;overflow: hidden;padding: 0;position: absolute;width: 1px;}#sk-container-id-6 div.sk-estimator {font-family: monospace;background-color: #f0f8ff;border: 1px dotted black;border-radius: 0.25em;box-sizing: border-box;margin-bottom: 0.5em;}#sk-container-id-6 div.sk-estimator:hover {background-color: #d4ebff;}#sk-container-id-6 div.sk-parallel-item::after {content: \"\";width: 100%;border-bottom: 1px solid gray;flex-grow: 1;}#sk-container-id-6 div.sk-label:hover label.sk-toggleable__label {background-color: #d4ebff;}#sk-container-id-6 div.sk-serial::before {content: \"\";position: absolute;border-left: 1px solid gray;box-sizing: border-box;top: 0;bottom: 0;left: 50%;z-index: 0;}#sk-container-id-6 div.sk-serial {display: flex;flex-direction: column;align-items: center;background-color: white;padding-right: 0.2em;padding-left: 0.2em;position: relative;}#sk-container-id-6 div.sk-item {position: relative;z-index: 1;}#sk-container-id-6 div.sk-parallel {display: flex;align-items: stretch;justify-content: center;background-color: white;position: relative;}#sk-container-id-6 div.sk-item::before, #sk-container-id-6 div.sk-parallel-item::before {content: \"\";position: absolute;border-left: 1px solid gray;box-sizing: border-box;top: 0;bottom: 0;left: 50%;z-index: -1;}#sk-container-id-6 div.sk-parallel-item {display: flex;flex-direction: column;z-index: 1;position: relative;background-color: white;}#sk-container-id-6 div.sk-parallel-item:first-child::after {align-self: flex-end;width: 50%;}#sk-container-id-6 div.sk-parallel-item:last-child::after {align-self: flex-start;width: 50%;}#sk-container-id-6 div.sk-parallel-item:only-child::after {width: 0;}#sk-container-id-6 div.sk-dashed-wrapped {border: 1px dashed gray;margin: 0 0.4em 0.5em 0.4em;box-sizing: border-box;padding-bottom: 0.4em;background-color: white;}#sk-container-id-6 div.sk-label label {font-family: monospace;font-weight: bold;display: inline-block;line-height: 1.2em;}#sk-container-id-6 div.sk-label-container {text-align: center;}#sk-container-id-6 div.sk-container {/* jupyter's `normalize.less` sets `[hidden] { display: none; }` but bootstrap.min.css set `[hidden] { display: none !important; }` so we also need the `!important` here to be able to override the default hidden behavior on the sphinx rendered scikit-learn.org. See: https://github.com/scikit-learn/scikit-learn/issues/21755 */display: inline-block !important;position: relative;}#sk-container-id-6 div.sk-text-repr-fallback {display: none;}</style><div id=\"sk-container-id-6\" class=\"sk-top-container\"><div class=\"sk-text-repr-fallback\"><pre>DecisionTreeClassifier(criterion=&#x27;entropy&#x27;)</pre><b>In a Jupyter environment, please rerun this cell to show the HTML representation or trust the notebook. <br />On GitHub, the HTML representation is unable to render, please try loading this page with nbviewer.org.</b></div><div class=\"sk-container\" hidden><div class=\"sk-item\"><div class=\"sk-estimator sk-toggleable\"><input class=\"sk-toggleable__control sk-hidden--visually\" id=\"sk-estimator-id-6\" type=\"checkbox\" checked><label for=\"sk-estimator-id-6\" class=\"sk-toggleable__label sk-toggleable__label-arrow\">DecisionTreeClassifier</label><div class=\"sk-toggleable__content\"><pre>DecisionTreeClassifier(criterion=&#x27;entropy&#x27;)</pre></div></div></div></div></div>"
      ],
      "text/plain": [
       "DecisionTreeClassifier(criterion='entropy')"
      ]
     },
     "execution_count": 162,
     "metadata": {},
     "output_type": "execute_result"
    }
   ],
   "source": [
    "# Mudar isso para um BAG OF WORDS\n",
    "vectorizer = TfidfVectorizer()\n",
    "df_vectors = vectorizer.fit_transform(df['funcs']).ceil()\n",
    "\n",
    "classifier = DecisionTreeClassifier(criterion='entropy')\n",
    "classifier.fit(df_vectors, df['label'])"
   ]
  },
  {
   "cell_type": "code",
   "execution_count": 163,
   "metadata": {},
   "outputs": [
    {
     "name": "stderr",
     "output_type": "stream",
     "text": [
      "/home/joao/.local/lib/python3.10/site-packages/sklearn/utils/deprecation.py:87: FutureWarning: Function get_feature_names is deprecated; get_feature_names is deprecated in 1.0 and will be removed in 1.2. Please use get_feature_names_out instead.\n",
      "  warnings.warn(msg, category=FutureWarning)\n"
     ]
    },
    {
     "data": {
      "image/png": "[encoded data removed]",
      "text/plain": [
       "<Figure size 432x288 with 1 Axes>"
      ]
     },
     "metadata": {
      "needs_background": "light"
     },
     "output_type": "display_data"
    }
   ],
   "source": [
    "fn = vectorizer.get_feature_names()\n",
    "cn = df['label'].unique()\n",
    "\n",
    "plot_tree(classifier,\n",
    "               feature_names = fn,\n",
    "               class_names=cn,\n",
    "               filled = True);\n",
    "\n",
    "plt.savefig('asdf.svg')"
   ]
  },
  {
   "attachments": {},
   "cell_type": "markdown",
   "metadata": {},
   "source": [
    "### Testando o classificador"
   ]
  },
  {
   "cell_type": "code",
   "execution_count": 164,
   "metadata": {},
   "outputs": [],
   "source": [
    "test_mw = ld_data(TEST_MALWARE_DIR, os.listdir(TEST_MALWARE_DIR), 'MALWARE')\n",
    "test_gw = ld_data(TEST_GOODWARE_DIR, os.listdir(TEST_GOODWARE_DIR), 'GOODWARE')\n",
    "\n",
    "test_df = pd.concat([test_mw, test_gw], ignore_index=True)"
   ]
  },
  {
   "cell_type": "code",
   "execution_count": 165,
   "metadata": {},
   "outputs": [],
   "source": [
    "test_mw_vectors = vectorizer.transform(test_mw['funcs']).ceil()\n",
    "test_gw_vectors = vectorizer.transform(test_gw['funcs']).ceil()\n",
    "test_vectors = vectorizer.transform(test_df['funcs']).ceil()\n",
    "\n",
    "pred_mw = classifier.predict(test_mw_vectors)\n",
    "pred_gw = classifier.predict(test_gw_vectors)\n",
    "pred = classifier.predict(test_vectors)\n",
    "\n",
    "pred_mw = ['MALWARE' if p != '-1' else 'GOODWARE' for p in pred_mw]\n",
    "pred_gw = ['MALWARE' if p != '-1' else 'GOODWARE' for p in pred_gw]\n",
    "pred = ['MALWARE' if p != '-1' else 'GOODWARE' for p in pred]"
   ]
  },
  {
   "cell_type": "code",
   "execution_count": 166,
   "metadata": {},
   "outputs": [
    {
     "name": "stdout",
     "output_type": "stream",
     "text": [
      "Accuracy total: 0.7029625623460128\n",
      "Accuracy malware: 0.9559841740850643\n",
      "Accuracy goodware: 0.46369694843914416\n",
      "F1 score: 0.6849486465364006\n"
     ]
    }
   ],
   "source": [
    "print('Accuracy total: {}'.format(accuracy_score(test_df['label'], pred)))\n",
    "print('Accuracy malware: {}'.format(accuracy_score(test_mw['label'], pred_mw)))\n",
    "print('Accuracy goodware: {}'.format(accuracy_score(test_gw['label'], pred_gw)))\n",
    "print('F1 score: {}'.format(f1_score(test_df['label'], pred, average='weighted')))"
   ]
  },
  {
   "attachments": {},
   "cell_type": "markdown",
   "metadata": {},
   "source": [
    "### Criando regras YARA"
   ]
  },
  {
   "cell_type": "code",
   "execution_count": 167,
   "metadata": {},
   "outputs": [],
   "source": [
    "n_nodes = classifier.tree_.node_count\n",
    "children_left = classifier.tree_.children_left\n",
    "children_right = classifier.tree_.children_right\n",
    "feature = classifier.tree_.feature\n",
    "threshold = classifier.tree_.threshold\n",
    "value = classifier.tree_.value\n",
    "impurity = classifier.tree_.impurity"
   ]
  },
  {
   "cell_type": "code",
   "execution_count": 168,
   "metadata": {},
   "outputs": [],
   "source": [
    "def find_path(node_numb, path, x):\n",
    "    path.append(node_numb)\n",
    "    if node_numb == x:\n",
    "        return True\n",
    "    left = False\n",
    "    right = False\n",
    "    if (children_left[node_numb] != -1):\n",
    "        left = find_path(children_left[node_numb], path, x)\n",
    "    if (children_right[node_numb] != -1):\n",
    "        right = find_path(children_right[node_numb], path, x)\n",
    "    if left or right:\n",
    "        return True\n",
    "    path.remove(node_numb)\n",
    "    return False\n",
    "\n",
    "def get_rule(path, column_names):\n",
    "    mask = ''\n",
    "    for index, node in enumerate(path):\n",
    "        if index != len(path) - 1:\n",
    "            if (children_left[node] == path[index+1]):\n",
    "                mask += \"(df['{}']<= {}) \\t \".format(column_names[feature[node]], threshold[node])\n",
    "            else:\n",
    "                mask += \"(df['{}']> {}) \\t \".format(column_names[feature[node]], threshold[node])\n",
    "    mask = mask.replace(\"\\t\", \"&\", mask.count(\"\\t\") - 1)\n",
    "    mask = mask.replace(\"\\t\", \"\")\n",
    "    return mask\n",
    "\n",
    "def get_yara_rule(rule, condition_group, path, column_names):\n",
    "    for index, node in enumerate(path):\n",
    "        if index != len(path) - 1:\n",
    "            func_lwr = column_names[feature[node]]\n",
    "            if (children_left[node] == path[index+1]):\n",
    "                rule.create_condition_group(name=\"{}_{}\".format(condition_group, index), parent_group=condition_group, default_boolean=\"and\")\n",
    "                for lib, func in func_dict[func_lwr]:\n",
    "                    rule.add_condition(f'not(pe.imports(\"{lib}\", \"{func}\"))', condition_group=\"{}_{}\".format(condition_group, index))\n",
    "            else:\n",
    "                rule.create_condition_group(name=\"{}_{}\".format(condition_group, index), parent_group=condition_group, default_boolean=\"or\")\n",
    "                for lib, func in func_dict[func_lwr]:\n",
    "                    rule.add_condition(f'pe.imports(\"{lib}\", \"{func}\")', condition_group=\"{}_{}\".format(condition_group, index))"
   ]
  },
  {
   "cell_type": "code",
   "execution_count": 172,
   "metadata": {},
   "outputs": [
    {
     "name": "stdout",
     "output_type": "stream",
     "text": [
      "import \"pe\"\n",
      "\n",
      "rule rule_cluster_0\n",
      "{\n",
      "\n",
      "\n",
      "\tcondition:\n",
      "\t\t((not(pe.imports(\"msvcrt.dll\", \"__C_specific_handler\")) and not(pe.imports(\"api-ms-win-crt-private-l1-1-0.dll\", \"__C_specific_handler\")) and not(pe.imports(\"vcruntime140.dll\", \"__C_specific_handler\")) and not(pe.imports(\"msvcr120_clr0400.dll\", \"__C_specific_handler\")) and not(pe.imports(\"ntdll.dll\", \"__C_specific_handler\")) and not(pe.imports(\"api-ms-win-core-crt-l1-1-0.dll\", \"__C_specific_handler\")) and not(pe.imports(\"msvcr120.dll\", \"__C_specific_handler\")) and not(pe.imports(\"msvcr100.dll\", \"__C_specific_handler\")) and not(pe.imports(\"win32k.sys\", \"__C_specific_handler\")) and not(pe.imports(\"ntoskrnl.exe\", \"__C_specific_handler\")) and not(pe.imports(\"kernel32.dll\", \"__C_specific_handler\")) and not(pe.imports(\"msvcr90.dll\", \"__C_specific_handler\")) and not(pe.imports(\"securekernel.exe\", \"__C_specific_handler\"))) and (not(pe.imports(\"kernel32.dll\", \"UnhandledExceptionFilter\")) and not(pe.imports(\"api-ms-win-core-errorhandling-l1-1-1.dll\", \"UnhandledExceptionFilter\")) and not(pe.imports(\"api-ms-win-core-errorhandling-l1-1-0.dll\", \"UnhandledExceptionFilter\")) and not(pe.imports(\"api-ms-win-downlevel-kernel32-l1-1-0.dll\", \"UnhandledExceptionFilter\")) and not(pe.imports(\"kernelbase.dll\", \"UnhandledExceptionFilter\")) and not(pe.imports(\"rtmpal.dll\", \"UnhandledExceptionFilter\"))) and (not(pe.imports(\"kernel32.dll\", \"GetProcAddress\")) and not(pe.imports(\"api-ms-win-core-libraryloader-l1-2-0.dll\", \"GetProcAddress\")) and not(pe.imports(\"api-ms-win-core-libraryloader-l1-1-0.dll\", \"GetProcAddress\")) and not(pe.imports(\"api-ms-win-downlevel-kernel32-l1-1-0.dll\", \"GetProcAddress\")) and not(pe.imports(\"api-ms-win-core-libraryloader-l1-1-1.dll\", \"GetProcAddress\")) and not(pe.imports(\"kernelbase.dll\", \"GetProcAddress\")) and not(pe.imports(\"rtmpal.dll\", \"GetProcAddress\")) and not(pe.imports(\"kernel32\", \"GetProcAddress\"))) and (not(pe.imports(\"ntdll.dll\", \"NtTerminateProcess\"))) and (pe.imports(\"advapi32.dll\", \"OpenEventLogW\")) and (pe.imports(\"advapi32.dll\", \"GetSecurityDescriptorDacl\") or pe.imports(\"api-ms-win-security-base-l1-2-0.dll\", \"GetSecurityDescriptorDacl\") or pe.imports(\"api-ms-win-downlevel-advapi32-l1-1-1.dll\", \"GetSecurityDescriptorDacl\") or pe.imports(\"api-ms-win-security-base-l1-1-0.dll\", \"GetSecurityDescriptorDacl\") or pe.imports(\"api-ms-win-downlevel-advapi32-l1-1-0.dll\", \"GetSecurityDescriptorDacl\"))) or \n",
      "\t\t((not(pe.imports(\"msvcrt.dll\", \"__C_specific_handler\")) and not(pe.imports(\"api-ms-win-crt-private-l1-1-0.dll\", \"__C_specific_handler\")) and not(pe.imports(\"vcruntime140.dll\", \"__C_specific_handler\")) and not(pe.imports(\"msvcr120_clr0400.dll\", \"__C_specific_handler\")) and not(pe.imports(\"ntdll.dll\", \"__C_specific_handler\")) and not(pe.imports(\"api-ms-win-core-crt-l1-1-0.dll\", \"__C_specific_handler\")) and not(pe.imports(\"msvcr120.dll\", \"__C_specific_handler\")) and not(pe.imports(\"msvcr100.dll\", \"__C_specific_handler\")) and not(pe.imports(\"win32k.sys\", \"__C_specific_handler\")) and not(pe.imports(\"ntoskrnl.exe\", \"__C_specific_handler\")) and not(pe.imports(\"kernel32.dll\", \"__C_specific_handler\")) and not(pe.imports(\"msvcr90.dll\", \"__C_specific_handler\")) and not(pe.imports(\"securekernel.exe\", \"__C_specific_handler\"))) and (pe.imports(\"kernel32.dll\", \"UnhandledExceptionFilter\") or pe.imports(\"api-ms-win-core-errorhandling-l1-1-1.dll\", \"UnhandledExceptionFilter\") or pe.imports(\"api-ms-win-core-errorhandling-l1-1-0.dll\", \"UnhandledExceptionFilter\") or pe.imports(\"api-ms-win-downlevel-kernel32-l1-1-0.dll\", \"UnhandledExceptionFilter\") or pe.imports(\"kernelbase.dll\", \"UnhandledExceptionFilter\") or pe.imports(\"rtmpal.dll\", \"UnhandledExceptionFilter\")) and (pe.imports(\"kernel32.dll\", \"RtlUnwind\") or pe.imports(\"ntdll.dll\", \"RtlUnwind\") or pe.imports(\"api-ms-win-core-rtlsupport-l1-1-0.dll\", \"RtlUnwind\") or pe.imports(\"api-ms-win-core-rtlsupport-l1-2-0.dll\", \"RtlUnwind\") or pe.imports(\"win32k.sys\", \"RtlUnwind\") or pe.imports(\"ntoskrnl.exe\", \"RtlUnwind\")) and (not(pe.imports(\"oleaut32.dll\", \"VariantClear\")) and not(pe.imports(\"rtmpal.dll\", \"VariantClear\"))) and (not(pe.imports(\"kernel32.dll\", \"CreateThread\")) and not(pe.imports(\"api-ms-win-core-processthreads-l1-1-2.dll\", \"CreateThread\")) and not(pe.imports(\"api-ms-win-core-processthreads-l1-1-1.dll\", \"CreateThread\")) and not(pe.imports(\"api-ms-win-downlevel-kernel32-l1-1-0.dll\", \"CreateThread\")) and not(pe.imports(\"rtmpal.dll\", \"CreateThread\")) and not(pe.imports(\"api-ms-win-core-processthreads-l1-1-0.dll\", \"CreateThread\"))) and (pe.imports(\"user32.dll\", \"ClientToScreen\") or pe.imports(\"api-ms-win-rtcore-ntuser-window-l1-1-0.dll\", \"ClientToScreen\")))\n",
      "\n",
      "}\n",
      "import \"pe\"\n",
      "\n",
      "rule rule_cluster_1\n",
      "{\n",
      "\n",
      "\n",
      "\tcondition:\n",
      "\t\t((not(pe.imports(\"msvcrt.dll\", \"__C_specific_handler\")) and not(pe.imports(\"api-ms-win-crt-private-l1-1-0.dll\", \"__C_specific_handler\")) and not(pe.imports(\"vcruntime140.dll\", \"__C_specific_handler\")) and not(pe.imports(\"msvcr120_clr0400.dll\", \"__C_specific_handler\")) and not(pe.imports(\"ntdll.dll\", \"__C_specific_handler\")) and not(pe.imports(\"api-ms-win-core-crt-l1-1-0.dll\", \"__C_specific_handler\")) and not(pe.imports(\"msvcr120.dll\", \"__C_specific_handler\")) and not(pe.imports(\"msvcr100.dll\", \"__C_specific_handler\")) and not(pe.imports(\"win32k.sys\", \"__C_specific_handler\")) and not(pe.imports(\"ntoskrnl.exe\", \"__C_specific_handler\")) and not(pe.imports(\"kernel32.dll\", \"__C_specific_handler\")) and not(pe.imports(\"msvcr90.dll\", \"__C_specific_handler\")) and not(pe.imports(\"securekernel.exe\", \"__C_specific_handler\"))) and (pe.imports(\"kernel32.dll\", \"UnhandledExceptionFilter\") or pe.imports(\"api-ms-win-core-errorhandling-l1-1-1.dll\", \"UnhandledExceptionFilter\") or pe.imports(\"api-ms-win-core-errorhandling-l1-1-0.dll\", \"UnhandledExceptionFilter\") or pe.imports(\"api-ms-win-downlevel-kernel32-l1-1-0.dll\", \"UnhandledExceptionFilter\") or pe.imports(\"kernelbase.dll\", \"UnhandledExceptionFilter\") or pe.imports(\"rtmpal.dll\", \"UnhandledExceptionFilter\")) and (pe.imports(\"kernel32.dll\", \"RtlUnwind\") or pe.imports(\"ntdll.dll\", \"RtlUnwind\") or pe.imports(\"api-ms-win-core-rtlsupport-l1-1-0.dll\", \"RtlUnwind\") or pe.imports(\"api-ms-win-core-rtlsupport-l1-2-0.dll\", \"RtlUnwind\") or pe.imports(\"win32k.sys\", \"RtlUnwind\") or pe.imports(\"ntoskrnl.exe\", \"RtlUnwind\")) and (pe.imports(\"oleaut32.dll\", \"VariantClear\") or pe.imports(\"rtmpal.dll\", \"VariantClear\")) and (not(pe.imports(\"kernel32.dll\", \"GetConsoleCP\")) and not(pe.imports(\"api-ms-win-core-console-l1-1-0.dll\", \"GetConsoleCP\"))))\n",
      "\n",
      "}\n",
      "import \"pe\"\n",
      "\n",
      "rule rule_cluster_2\n",
      "{\n",
      "\n",
      "\n",
      "\tcondition:\n",
      "\t\t((not(pe.imports(\"msvcrt.dll\", \"__C_specific_handler\")) and not(pe.imports(\"api-ms-win-crt-private-l1-1-0.dll\", \"__C_specific_handler\")) and not(pe.imports(\"vcruntime140.dll\", \"__C_specific_handler\")) and not(pe.imports(\"msvcr120_clr0400.dll\", \"__C_specific_handler\")) and not(pe.imports(\"ntdll.dll\", \"__C_specific_handler\")) and not(pe.imports(\"api-ms-win-core-crt-l1-1-0.dll\", \"__C_specific_handler\")) and not(pe.imports(\"msvcr120.dll\", \"__C_specific_handler\")) and not(pe.imports(\"msvcr100.dll\", \"__C_specific_handler\")) and not(pe.imports(\"win32k.sys\", \"__C_specific_handler\")) and not(pe.imports(\"ntoskrnl.exe\", \"__C_specific_handler\")) and not(pe.imports(\"kernel32.dll\", \"__C_specific_handler\")) and not(pe.imports(\"msvcr90.dll\", \"__C_specific_handler\")) and not(pe.imports(\"securekernel.exe\", \"__C_specific_handler\"))) and (not(pe.imports(\"kernel32.dll\", \"UnhandledExceptionFilter\")) and not(pe.imports(\"api-ms-win-core-errorhandling-l1-1-1.dll\", \"UnhandledExceptionFilter\")) and not(pe.imports(\"api-ms-win-core-errorhandling-l1-1-0.dll\", \"UnhandledExceptionFilter\")) and not(pe.imports(\"api-ms-win-downlevel-kernel32-l1-1-0.dll\", \"UnhandledExceptionFilter\")) and not(pe.imports(\"kernelbase.dll\", \"UnhandledExceptionFilter\")) and not(pe.imports(\"rtmpal.dll\", \"UnhandledExceptionFilter\"))) and (pe.imports(\"kernel32.dll\", \"GetProcAddress\") or pe.imports(\"api-ms-win-core-libraryloader-l1-2-0.dll\", \"GetProcAddress\") or pe.imports(\"api-ms-win-core-libraryloader-l1-1-0.dll\", \"GetProcAddress\") or pe.imports(\"api-ms-win-downlevel-kernel32-l1-1-0.dll\", \"GetProcAddress\") or pe.imports(\"api-ms-win-core-libraryloader-l1-1-1.dll\", \"GetProcAddress\") or pe.imports(\"kernelbase.dll\", \"GetProcAddress\") or pe.imports(\"rtmpal.dll\", \"GetProcAddress\") or pe.imports(\"kernel32\", \"GetProcAddress\")) and (not(pe.imports(\"kernel32.dll\", \"SetConsoleTextAttribute\")) and not(pe.imports(\"api-ms-win-core-console-l2-1-0.dll\", \"SetConsoleTextAttribute\")) and not(pe.imports(\"api-ms-win-downlevel-kernel32-l1-1-0.dll\", \"SetConsoleTextAttribute\"))) and (not(pe.imports(\"advapi32.dll\", \"CloseServiceHandle\")) and not(pe.imports(\"api-ms-win-service-management-l1-1-0.dll\", \"CloseServiceHandle\"))) and (pe.imports(\"gdi32.dll\", \"GetRgnBox\"))) or \n",
      "\t\t((not(pe.imports(\"msvcrt.dll\", \"__C_specific_handler\")) and not(pe.imports(\"api-ms-win-crt-private-l1-1-0.dll\", \"__C_specific_handler\")) and not(pe.imports(\"vcruntime140.dll\", \"__C_specific_handler\")) and not(pe.imports(\"msvcr120_clr0400.dll\", \"__C_specific_handler\")) and not(pe.imports(\"ntdll.dll\", \"__C_specific_handler\")) and not(pe.imports(\"api-ms-win-core-crt-l1-1-0.dll\", \"__C_specific_handler\")) and not(pe.imports(\"msvcr120.dll\", \"__C_specific_handler\")) and not(pe.imports(\"msvcr100.dll\", \"__C_specific_handler\")) and not(pe.imports(\"win32k.sys\", \"__C_specific_handler\")) and not(pe.imports(\"ntoskrnl.exe\", \"__C_specific_handler\")) and not(pe.imports(\"kernel32.dll\", \"__C_specific_handler\")) and not(pe.imports(\"msvcr90.dll\", \"__C_specific_handler\")) and not(pe.imports(\"securekernel.exe\", \"__C_specific_handler\"))) and (not(pe.imports(\"kernel32.dll\", \"UnhandledExceptionFilter\")) and not(pe.imports(\"api-ms-win-core-errorhandling-l1-1-1.dll\", \"UnhandledExceptionFilter\")) and not(pe.imports(\"api-ms-win-core-errorhandling-l1-1-0.dll\", \"UnhandledExceptionFilter\")) and not(pe.imports(\"api-ms-win-downlevel-kernel32-l1-1-0.dll\", \"UnhandledExceptionFilter\")) and not(pe.imports(\"kernelbase.dll\", \"UnhandledExceptionFilter\")) and not(pe.imports(\"rtmpal.dll\", \"UnhandledExceptionFilter\"))) and (pe.imports(\"kernel32.dll\", \"GetProcAddress\") or pe.imports(\"api-ms-win-core-libraryloader-l1-2-0.dll\", \"GetProcAddress\") or pe.imports(\"api-ms-win-core-libraryloader-l1-1-0.dll\", \"GetProcAddress\") or pe.imports(\"api-ms-win-downlevel-kernel32-l1-1-0.dll\", \"GetProcAddress\") or pe.imports(\"api-ms-win-core-libraryloader-l1-1-1.dll\", \"GetProcAddress\") or pe.imports(\"kernelbase.dll\", \"GetProcAddress\") or pe.imports(\"rtmpal.dll\", \"GetProcAddress\") or pe.imports(\"kernel32\", \"GetProcAddress\")) and (not(pe.imports(\"kernel32.dll\", \"SetConsoleTextAttribute\")) and not(pe.imports(\"api-ms-win-core-console-l2-1-0.dll\", \"SetConsoleTextAttribute\")) and not(pe.imports(\"api-ms-win-downlevel-kernel32-l1-1-0.dll\", \"SetConsoleTextAttribute\"))) and (pe.imports(\"advapi32.dll\", \"CloseServiceHandle\") or pe.imports(\"api-ms-win-service-management-l1-1-0.dll\", \"CloseServiceHandle\")))\n",
      "\n",
      "}\n",
      "import \"pe\"\n",
      "\n",
      "rule rule_cluster_3\n",
      "{\n",
      "\n",
      "\n",
      "\tcondition:\n",
      "\t\t((not(pe.imports(\"msvcrt.dll\", \"__C_specific_handler\")) and not(pe.imports(\"api-ms-win-crt-private-l1-1-0.dll\", \"__C_specific_handler\")) and not(pe.imports(\"vcruntime140.dll\", \"__C_specific_handler\")) and not(pe.imports(\"msvcr120_clr0400.dll\", \"__C_specific_handler\")) and not(pe.imports(\"ntdll.dll\", \"__C_specific_handler\")) and not(pe.imports(\"api-ms-win-core-crt-l1-1-0.dll\", \"__C_specific_handler\")) and not(pe.imports(\"msvcr120.dll\", \"__C_specific_handler\")) and not(pe.imports(\"msvcr100.dll\", \"__C_specific_handler\")) and not(pe.imports(\"win32k.sys\", \"__C_specific_handler\")) and not(pe.imports(\"ntoskrnl.exe\", \"__C_specific_handler\")) and not(pe.imports(\"kernel32.dll\", \"__C_specific_handler\")) and not(pe.imports(\"msvcr90.dll\", \"__C_specific_handler\")) and not(pe.imports(\"securekernel.exe\", \"__C_specific_handler\"))) and (pe.imports(\"kernel32.dll\", \"UnhandledExceptionFilter\") or pe.imports(\"api-ms-win-core-errorhandling-l1-1-1.dll\", \"UnhandledExceptionFilter\") or pe.imports(\"api-ms-win-core-errorhandling-l1-1-0.dll\", \"UnhandledExceptionFilter\") or pe.imports(\"api-ms-win-downlevel-kernel32-l1-1-0.dll\", \"UnhandledExceptionFilter\") or pe.imports(\"kernelbase.dll\", \"UnhandledExceptionFilter\") or pe.imports(\"rtmpal.dll\", \"UnhandledExceptionFilter\")) and (not(pe.imports(\"kernel32.dll\", \"RtlUnwind\")) and not(pe.imports(\"ntdll.dll\", \"RtlUnwind\")) and not(pe.imports(\"api-ms-win-core-rtlsupport-l1-1-0.dll\", \"RtlUnwind\")) and not(pe.imports(\"api-ms-win-core-rtlsupport-l1-2-0.dll\", \"RtlUnwind\")) and not(pe.imports(\"win32k.sys\", \"RtlUnwind\")) and not(pe.imports(\"ntoskrnl.exe\", \"RtlUnwind\"))) and (pe.imports(\"kernel32.dll\", \"FlsGetValue\") or pe.imports(\"api-ms-win-core-fibers-l1-1-1.dll\", \"FlsGetValue\")) and (not(pe.imports(\"kernel32.dll\", \"CreateThread\")) and not(pe.imports(\"api-ms-win-core-processthreads-l1-1-2.dll\", \"CreateThread\")) and not(pe.imports(\"api-ms-win-core-processthreads-l1-1-1.dll\", \"CreateThread\")) and not(pe.imports(\"api-ms-win-downlevel-kernel32-l1-1-0.dll\", \"CreateThread\")) and not(pe.imports(\"rtmpal.dll\", \"CreateThread\")) and not(pe.imports(\"api-ms-win-core-processthreads-l1-1-0.dll\", \"CreateThread\"))) and (not(pe.imports(\"kernel32.dll\", \"FindFirstFileW\")) and not(pe.imports(\"api-ms-win-core-file-l1-2-1.dll\", \"FindFirstFileW\")) and not(pe.imports(\"api-ms-win-core-file-l1-1-0.dll\", \"FindFirstFileW\")) and not(pe.imports(\"api-ms-win-core-file-l1-2-0.dll\", \"FindFirstFileW\")) and not(pe.imports(\"api-ms-win-downlevel-kernel32-l1-1-0.dll\", \"FindFirstFileW\")))) or \n",
      "\t\t((not(pe.imports(\"msvcrt.dll\", \"__C_specific_handler\")) and not(pe.imports(\"api-ms-win-crt-private-l1-1-0.dll\", \"__C_specific_handler\")) and not(pe.imports(\"vcruntime140.dll\", \"__C_specific_handler\")) and not(pe.imports(\"msvcr120_clr0400.dll\", \"__C_specific_handler\")) and not(pe.imports(\"ntdll.dll\", \"__C_specific_handler\")) and not(pe.imports(\"api-ms-win-core-crt-l1-1-0.dll\", \"__C_specific_handler\")) and not(pe.imports(\"msvcr120.dll\", \"__C_specific_handler\")) and not(pe.imports(\"msvcr100.dll\", \"__C_specific_handler\")) and not(pe.imports(\"win32k.sys\", \"__C_specific_handler\")) and not(pe.imports(\"ntoskrnl.exe\", \"__C_specific_handler\")) and not(pe.imports(\"kernel32.dll\", \"__C_specific_handler\")) and not(pe.imports(\"msvcr90.dll\", \"__C_specific_handler\")) and not(pe.imports(\"securekernel.exe\", \"__C_specific_handler\"))) and (pe.imports(\"kernel32.dll\", \"UnhandledExceptionFilter\") or pe.imports(\"api-ms-win-core-errorhandling-l1-1-1.dll\", \"UnhandledExceptionFilter\") or pe.imports(\"api-ms-win-core-errorhandling-l1-1-0.dll\", \"UnhandledExceptionFilter\") or pe.imports(\"api-ms-win-downlevel-kernel32-l1-1-0.dll\", \"UnhandledExceptionFilter\") or pe.imports(\"kernelbase.dll\", \"UnhandledExceptionFilter\") or pe.imports(\"rtmpal.dll\", \"UnhandledExceptionFilter\")) and (pe.imports(\"kernel32.dll\", \"RtlUnwind\") or pe.imports(\"ntdll.dll\", \"RtlUnwind\") or pe.imports(\"api-ms-win-core-rtlsupport-l1-1-0.dll\", \"RtlUnwind\") or pe.imports(\"api-ms-win-core-rtlsupport-l1-2-0.dll\", \"RtlUnwind\") or pe.imports(\"win32k.sys\", \"RtlUnwind\") or pe.imports(\"ntoskrnl.exe\", \"RtlUnwind\")) and (not(pe.imports(\"oleaut32.dll\", \"VariantClear\")) and not(pe.imports(\"rtmpal.dll\", \"VariantClear\"))) and (not(pe.imports(\"kernel32.dll\", \"CreateThread\")) and not(pe.imports(\"api-ms-win-core-processthreads-l1-1-2.dll\", \"CreateThread\")) and not(pe.imports(\"api-ms-win-core-processthreads-l1-1-1.dll\", \"CreateThread\")) and not(pe.imports(\"api-ms-win-downlevel-kernel32-l1-1-0.dll\", \"CreateThread\")) and not(pe.imports(\"rtmpal.dll\", \"CreateThread\")) and not(pe.imports(\"api-ms-win-core-processthreads-l1-1-0.dll\", \"CreateThread\"))) and (not(pe.imports(\"user32.dll\", \"ClientToScreen\")) and not(pe.imports(\"api-ms-win-rtcore-ntuser-window-l1-1-0.dll\", \"ClientToScreen\"))) and (not(pe.imports(\"kernel32.dll\", \"SetEndOfFile\")) and not(pe.imports(\"api-ms-win-core-file-l1-2-1.dll\", \"SetEndOfFile\")) and not(pe.imports(\"api-ms-win-core-file-l1-1-0.dll\", \"SetEndOfFile\")) and not(pe.imports(\"api-ms-win-core-file-l1-2-0.dll\", \"SetEndOfFile\")) and not(pe.imports(\"api-ms-win-downlevel-kernel32-l1-1-0.dll\", \"SetEndOfFile\"))) and (not(pe.imports(\"kernel32.dll\", \"LocalAlloc\")) and not(pe.imports(\"api-ms-win-core-heap-l2-1-0.dll\", \"LocalAlloc\")) and not(pe.imports(\"api-ms-win-core-heap-obsolete-l1-1-0.dll\", \"LocalAlloc\")) and not(pe.imports(\"kernelbase.dll\", \"LocalAlloc\")) and not(pe.imports(\"api-ms-win-downlevel-kernel32-l2-1-0.dll\", \"LocalAlloc\")) and not(pe.imports(\"api-ms-win-core-misc-l1-1-0.dll\", \"LocalAlloc\"))))\n",
      "\n",
      "}\n",
      "import \"pe\"\n",
      "\n",
      "rule rule_cluster_4\n",
      "{\n",
      "\n",
      "\n",
      "\tcondition:\n",
      "\t\t((not(pe.imports(\"msvcrt.dll\", \"__C_specific_handler\")) and not(pe.imports(\"api-ms-win-crt-private-l1-1-0.dll\", \"__C_specific_handler\")) and not(pe.imports(\"vcruntime140.dll\", \"__C_specific_handler\")) and not(pe.imports(\"msvcr120_clr0400.dll\", \"__C_specific_handler\")) and not(pe.imports(\"ntdll.dll\", \"__C_specific_handler\")) and not(pe.imports(\"api-ms-win-core-crt-l1-1-0.dll\", \"__C_specific_handler\")) and not(pe.imports(\"msvcr120.dll\", \"__C_specific_handler\")) and not(pe.imports(\"msvcr100.dll\", \"__C_specific_handler\")) and not(pe.imports(\"win32k.sys\", \"__C_specific_handler\")) and not(pe.imports(\"ntoskrnl.exe\", \"__C_specific_handler\")) and not(pe.imports(\"kernel32.dll\", \"__C_specific_handler\")) and not(pe.imports(\"msvcr90.dll\", \"__C_specific_handler\")) and not(pe.imports(\"securekernel.exe\", \"__C_specific_handler\"))) and (pe.imports(\"kernel32.dll\", \"UnhandledExceptionFilter\") or pe.imports(\"api-ms-win-core-errorhandling-l1-1-1.dll\", \"UnhandledExceptionFilter\") or pe.imports(\"api-ms-win-core-errorhandling-l1-1-0.dll\", \"UnhandledExceptionFilter\") or pe.imports(\"api-ms-win-downlevel-kernel32-l1-1-0.dll\", \"UnhandledExceptionFilter\") or pe.imports(\"kernelbase.dll\", \"UnhandledExceptionFilter\") or pe.imports(\"rtmpal.dll\", \"UnhandledExceptionFilter\")) and (not(pe.imports(\"kernel32.dll\", \"RtlUnwind\")) and not(pe.imports(\"ntdll.dll\", \"RtlUnwind\")) and not(pe.imports(\"api-ms-win-core-rtlsupport-l1-1-0.dll\", \"RtlUnwind\")) and not(pe.imports(\"api-ms-win-core-rtlsupport-l1-2-0.dll\", \"RtlUnwind\")) and not(pe.imports(\"win32k.sys\", \"RtlUnwind\")) and not(pe.imports(\"ntoskrnl.exe\", \"RtlUnwind\"))) and (pe.imports(\"kernel32.dll\", \"FlsGetValue\") or pe.imports(\"api-ms-win-core-fibers-l1-1-1.dll\", \"FlsGetValue\")) and (not(pe.imports(\"kernel32.dll\", \"CreateThread\")) and not(pe.imports(\"api-ms-win-core-processthreads-l1-1-2.dll\", \"CreateThread\")) and not(pe.imports(\"api-ms-win-core-processthreads-l1-1-1.dll\", \"CreateThread\")) and not(pe.imports(\"api-ms-win-downlevel-kernel32-l1-1-0.dll\", \"CreateThread\")) and not(pe.imports(\"rtmpal.dll\", \"CreateThread\")) and not(pe.imports(\"api-ms-win-core-processthreads-l1-1-0.dll\", \"CreateThread\"))) and (pe.imports(\"kernel32.dll\", \"FindFirstFileW\") or pe.imports(\"api-ms-win-core-file-l1-2-1.dll\", \"FindFirstFileW\") or pe.imports(\"api-ms-win-core-file-l1-1-0.dll\", \"FindFirstFileW\") or pe.imports(\"api-ms-win-core-file-l1-2-0.dll\", \"FindFirstFileW\") or pe.imports(\"api-ms-win-downlevel-kernel32-l1-1-0.dll\", \"FindFirstFileW\"))) or \n",
      "\t\t((not(pe.imports(\"msvcrt.dll\", \"__C_specific_handler\")) and not(pe.imports(\"api-ms-win-crt-private-l1-1-0.dll\", \"__C_specific_handler\")) and not(pe.imports(\"vcruntime140.dll\", \"__C_specific_handler\")) and not(pe.imports(\"msvcr120_clr0400.dll\", \"__C_specific_handler\")) and not(pe.imports(\"ntdll.dll\", \"__C_specific_handler\")) and not(pe.imports(\"api-ms-win-core-crt-l1-1-0.dll\", \"__C_specific_handler\")) and not(pe.imports(\"msvcr120.dll\", \"__C_specific_handler\")) and not(pe.imports(\"msvcr100.dll\", \"__C_specific_handler\")) and not(pe.imports(\"win32k.sys\", \"__C_specific_handler\")) and not(pe.imports(\"ntoskrnl.exe\", \"__C_specific_handler\")) and not(pe.imports(\"kernel32.dll\", \"__C_specific_handler\")) and not(pe.imports(\"msvcr90.dll\", \"__C_specific_handler\")) and not(pe.imports(\"securekernel.exe\", \"__C_specific_handler\"))) and (pe.imports(\"kernel32.dll\", \"UnhandledExceptionFilter\") or pe.imports(\"api-ms-win-core-errorhandling-l1-1-1.dll\", \"UnhandledExceptionFilter\") or pe.imports(\"api-ms-win-core-errorhandling-l1-1-0.dll\", \"UnhandledExceptionFilter\") or pe.imports(\"api-ms-win-downlevel-kernel32-l1-1-0.dll\", \"UnhandledExceptionFilter\") or pe.imports(\"kernelbase.dll\", \"UnhandledExceptionFilter\") or pe.imports(\"rtmpal.dll\", \"UnhandledExceptionFilter\")) and (pe.imports(\"kernel32.dll\", \"RtlUnwind\") or pe.imports(\"ntdll.dll\", \"RtlUnwind\") or pe.imports(\"api-ms-win-core-rtlsupport-l1-1-0.dll\", \"RtlUnwind\") or pe.imports(\"api-ms-win-core-rtlsupport-l1-2-0.dll\", \"RtlUnwind\") or pe.imports(\"win32k.sys\", \"RtlUnwind\") or pe.imports(\"ntoskrnl.exe\", \"RtlUnwind\")) and (not(pe.imports(\"oleaut32.dll\", \"VariantClear\")) and not(pe.imports(\"rtmpal.dll\", \"VariantClear\"))) and (pe.imports(\"kernel32.dll\", \"CreateThread\") or pe.imports(\"api-ms-win-core-processthreads-l1-1-2.dll\", \"CreateThread\") or pe.imports(\"api-ms-win-core-processthreads-l1-1-1.dll\", \"CreateThread\") or pe.imports(\"api-ms-win-downlevel-kernel32-l1-1-0.dll\", \"CreateThread\") or pe.imports(\"rtmpal.dll\", \"CreateThread\") or pe.imports(\"api-ms-win-core-processthreads-l1-1-0.dll\", \"CreateThread\")))\n",
      "\n",
      "}\n",
      "import \"pe\"\n",
      "\n",
      "rule rule_cluster_5\n",
      "{\n",
      "\n",
      "\n",
      "\tcondition:\n",
      "\t\t((not(pe.imports(\"msvcrt.dll\", \"__C_specific_handler\")) and not(pe.imports(\"api-ms-win-crt-private-l1-1-0.dll\", \"__C_specific_handler\")) and not(pe.imports(\"vcruntime140.dll\", \"__C_specific_handler\")) and not(pe.imports(\"msvcr120_clr0400.dll\", \"__C_specific_handler\")) and not(pe.imports(\"ntdll.dll\", \"__C_specific_handler\")) and not(pe.imports(\"api-ms-win-core-crt-l1-1-0.dll\", \"__C_specific_handler\")) and not(pe.imports(\"msvcr120.dll\", \"__C_specific_handler\")) and not(pe.imports(\"msvcr100.dll\", \"__C_specific_handler\")) and not(pe.imports(\"win32k.sys\", \"__C_specific_handler\")) and not(pe.imports(\"ntoskrnl.exe\", \"__C_specific_handler\")) and not(pe.imports(\"kernel32.dll\", \"__C_specific_handler\")) and not(pe.imports(\"msvcr90.dll\", \"__C_specific_handler\")) and not(pe.imports(\"securekernel.exe\", \"__C_specific_handler\"))) and (pe.imports(\"kernel32.dll\", \"UnhandledExceptionFilter\") or pe.imports(\"api-ms-win-core-errorhandling-l1-1-1.dll\", \"UnhandledExceptionFilter\") or pe.imports(\"api-ms-win-core-errorhandling-l1-1-0.dll\", \"UnhandledExceptionFilter\") or pe.imports(\"api-ms-win-downlevel-kernel32-l1-1-0.dll\", \"UnhandledExceptionFilter\") or pe.imports(\"kernelbase.dll\", \"UnhandledExceptionFilter\") or pe.imports(\"rtmpal.dll\", \"UnhandledExceptionFilter\")) and (pe.imports(\"kernel32.dll\", \"RtlUnwind\") or pe.imports(\"ntdll.dll\", \"RtlUnwind\") or pe.imports(\"api-ms-win-core-rtlsupport-l1-1-0.dll\", \"RtlUnwind\") or pe.imports(\"api-ms-win-core-rtlsupport-l1-2-0.dll\", \"RtlUnwind\") or pe.imports(\"win32k.sys\", \"RtlUnwind\") or pe.imports(\"ntoskrnl.exe\", \"RtlUnwind\")) and (not(pe.imports(\"oleaut32.dll\", \"VariantClear\")) and not(pe.imports(\"rtmpal.dll\", \"VariantClear\"))) and (not(pe.imports(\"kernel32.dll\", \"CreateThread\")) and not(pe.imports(\"api-ms-win-core-processthreads-l1-1-2.dll\", \"CreateThread\")) and not(pe.imports(\"api-ms-win-core-processthreads-l1-1-1.dll\", \"CreateThread\")) and not(pe.imports(\"api-ms-win-downlevel-kernel32-l1-1-0.dll\", \"CreateThread\")) and not(pe.imports(\"rtmpal.dll\", \"CreateThread\")) and not(pe.imports(\"api-ms-win-core-processthreads-l1-1-0.dll\", \"CreateThread\"))) and (not(pe.imports(\"user32.dll\", \"ClientToScreen\")) and not(pe.imports(\"api-ms-win-rtcore-ntuser-window-l1-1-0.dll\", \"ClientToScreen\"))) and (not(pe.imports(\"kernel32.dll\", \"SetEndOfFile\")) and not(pe.imports(\"api-ms-win-core-file-l1-2-1.dll\", \"SetEndOfFile\")) and not(pe.imports(\"api-ms-win-core-file-l1-1-0.dll\", \"SetEndOfFile\")) and not(pe.imports(\"api-ms-win-core-file-l1-2-0.dll\", \"SetEndOfFile\")) and not(pe.imports(\"api-ms-win-downlevel-kernel32-l1-1-0.dll\", \"SetEndOfFile\"))) and (pe.imports(\"kernel32.dll\", \"LocalAlloc\") or pe.imports(\"api-ms-win-core-heap-l2-1-0.dll\", \"LocalAlloc\") or pe.imports(\"api-ms-win-core-heap-obsolete-l1-1-0.dll\", \"LocalAlloc\") or pe.imports(\"kernelbase.dll\", \"LocalAlloc\") or pe.imports(\"api-ms-win-downlevel-kernel32-l2-1-0.dll\", \"LocalAlloc\") or pe.imports(\"api-ms-win-core-misc-l1-1-0.dll\", \"LocalAlloc\"))) or \n",
      "\t\t((not(pe.imports(\"msvcrt.dll\", \"__C_specific_handler\")) and not(pe.imports(\"api-ms-win-crt-private-l1-1-0.dll\", \"__C_specific_handler\")) and not(pe.imports(\"vcruntime140.dll\", \"__C_specific_handler\")) and not(pe.imports(\"msvcr120_clr0400.dll\", \"__C_specific_handler\")) and not(pe.imports(\"ntdll.dll\", \"__C_specific_handler\")) and not(pe.imports(\"api-ms-win-core-crt-l1-1-0.dll\", \"__C_specific_handler\")) and not(pe.imports(\"msvcr120.dll\", \"__C_specific_handler\")) and not(pe.imports(\"msvcr100.dll\", \"__C_specific_handler\")) and not(pe.imports(\"win32k.sys\", \"__C_specific_handler\")) and not(pe.imports(\"ntoskrnl.exe\", \"__C_specific_handler\")) and not(pe.imports(\"kernel32.dll\", \"__C_specific_handler\")) and not(pe.imports(\"msvcr90.dll\", \"__C_specific_handler\")) and not(pe.imports(\"securekernel.exe\", \"__C_specific_handler\"))) and (pe.imports(\"kernel32.dll\", \"UnhandledExceptionFilter\") or pe.imports(\"api-ms-win-core-errorhandling-l1-1-1.dll\", \"UnhandledExceptionFilter\") or pe.imports(\"api-ms-win-core-errorhandling-l1-1-0.dll\", \"UnhandledExceptionFilter\") or pe.imports(\"api-ms-win-downlevel-kernel32-l1-1-0.dll\", \"UnhandledExceptionFilter\") or pe.imports(\"kernelbase.dll\", \"UnhandledExceptionFilter\") or pe.imports(\"rtmpal.dll\", \"UnhandledExceptionFilter\")) and (pe.imports(\"kernel32.dll\", \"RtlUnwind\") or pe.imports(\"ntdll.dll\", \"RtlUnwind\") or pe.imports(\"api-ms-win-core-rtlsupport-l1-1-0.dll\", \"RtlUnwind\") or pe.imports(\"api-ms-win-core-rtlsupport-l1-2-0.dll\", \"RtlUnwind\") or pe.imports(\"win32k.sys\", \"RtlUnwind\") or pe.imports(\"ntoskrnl.exe\", \"RtlUnwind\")) and (not(pe.imports(\"oleaut32.dll\", \"VariantClear\")) and not(pe.imports(\"rtmpal.dll\", \"VariantClear\"))) and (not(pe.imports(\"kernel32.dll\", \"CreateThread\")) and not(pe.imports(\"api-ms-win-core-processthreads-l1-1-2.dll\", \"CreateThread\")) and not(pe.imports(\"api-ms-win-core-processthreads-l1-1-1.dll\", \"CreateThread\")) and not(pe.imports(\"api-ms-win-downlevel-kernel32-l1-1-0.dll\", \"CreateThread\")) and not(pe.imports(\"rtmpal.dll\", \"CreateThread\")) and not(pe.imports(\"api-ms-win-core-processthreads-l1-1-0.dll\", \"CreateThread\"))) and (not(pe.imports(\"user32.dll\", \"ClientToScreen\")) and not(pe.imports(\"api-ms-win-rtcore-ntuser-window-l1-1-0.dll\", \"ClientToScreen\"))) and (pe.imports(\"kernel32.dll\", \"SetEndOfFile\") or pe.imports(\"api-ms-win-core-file-l1-2-1.dll\", \"SetEndOfFile\") or pe.imports(\"api-ms-win-core-file-l1-1-0.dll\", \"SetEndOfFile\") or pe.imports(\"api-ms-win-core-file-l1-2-0.dll\", \"SetEndOfFile\") or pe.imports(\"api-ms-win-downlevel-kernel32-l1-1-0.dll\", \"SetEndOfFile\")))\n",
      "\n",
      "}\n",
      "import \"pe\"\n",
      "\n",
      "rule rule_cluster_6\n",
      "{\n",
      "\n",
      "\n",
      "\tcondition:\n",
      "\t\t((not(pe.imports(\"msvcrt.dll\", \"__C_specific_handler\")) and not(pe.imports(\"api-ms-win-crt-private-l1-1-0.dll\", \"__C_specific_handler\")) and not(pe.imports(\"vcruntime140.dll\", \"__C_specific_handler\")) and not(pe.imports(\"msvcr120_clr0400.dll\", \"__C_specific_handler\")) and not(pe.imports(\"ntdll.dll\", \"__C_specific_handler\")) and not(pe.imports(\"api-ms-win-core-crt-l1-1-0.dll\", \"__C_specific_handler\")) and not(pe.imports(\"msvcr120.dll\", \"__C_specific_handler\")) and not(pe.imports(\"msvcr100.dll\", \"__C_specific_handler\")) and not(pe.imports(\"win32k.sys\", \"__C_specific_handler\")) and not(pe.imports(\"ntoskrnl.exe\", \"__C_specific_handler\")) and not(pe.imports(\"kernel32.dll\", \"__C_specific_handler\")) and not(pe.imports(\"msvcr90.dll\", \"__C_specific_handler\")) and not(pe.imports(\"securekernel.exe\", \"__C_specific_handler\"))) and (not(pe.imports(\"kernel32.dll\", \"UnhandledExceptionFilter\")) and not(pe.imports(\"api-ms-win-core-errorhandling-l1-1-1.dll\", \"UnhandledExceptionFilter\")) and not(pe.imports(\"api-ms-win-core-errorhandling-l1-1-0.dll\", \"UnhandledExceptionFilter\")) and not(pe.imports(\"api-ms-win-downlevel-kernel32-l1-1-0.dll\", \"UnhandledExceptionFilter\")) and not(pe.imports(\"kernelbase.dll\", \"UnhandledExceptionFilter\")) and not(pe.imports(\"rtmpal.dll\", \"UnhandledExceptionFilter\"))) and (pe.imports(\"kernel32.dll\", \"GetProcAddress\") or pe.imports(\"api-ms-win-core-libraryloader-l1-2-0.dll\", \"GetProcAddress\") or pe.imports(\"api-ms-win-core-libraryloader-l1-1-0.dll\", \"GetProcAddress\") or pe.imports(\"api-ms-win-downlevel-kernel32-l1-1-0.dll\", \"GetProcAddress\") or pe.imports(\"api-ms-win-core-libraryloader-l1-1-1.dll\", \"GetProcAddress\") or pe.imports(\"kernelbase.dll\", \"GetProcAddress\") or pe.imports(\"rtmpal.dll\", \"GetProcAddress\") or pe.imports(\"kernel32\", \"GetProcAddress\")) and (pe.imports(\"kernel32.dll\", \"SetConsoleTextAttribute\") or pe.imports(\"api-ms-win-core-console-l2-1-0.dll\", \"SetConsoleTextAttribute\") or pe.imports(\"api-ms-win-downlevel-kernel32-l1-1-0.dll\", \"SetConsoleTextAttribute\")) and (pe.imports(\"shlwapi.dll\", \"PathFindExtensionW\") or pe.imports(\"api-ms-win-core-shlwapi-legacy-l1-1-0.dll\", \"PathFindExtensionW\") or pe.imports(\"api-ms-win-downlevel-shlwapi-l1-1-0.dll\", \"PathFindExtensionW\"))) or \n",
      "\t\t((not(pe.imports(\"msvcrt.dll\", \"__C_specific_handler\")) and not(pe.imports(\"api-ms-win-crt-private-l1-1-0.dll\", \"__C_specific_handler\")) and not(pe.imports(\"vcruntime140.dll\", \"__C_specific_handler\")) and not(pe.imports(\"msvcr120_clr0400.dll\", \"__C_specific_handler\")) and not(pe.imports(\"ntdll.dll\", \"__C_specific_handler\")) and not(pe.imports(\"api-ms-win-core-crt-l1-1-0.dll\", \"__C_specific_handler\")) and not(pe.imports(\"msvcr120.dll\", \"__C_specific_handler\")) and not(pe.imports(\"msvcr100.dll\", \"__C_specific_handler\")) and not(pe.imports(\"win32k.sys\", \"__C_specific_handler\")) and not(pe.imports(\"ntoskrnl.exe\", \"__C_specific_handler\")) and not(pe.imports(\"kernel32.dll\", \"__C_specific_handler\")) and not(pe.imports(\"msvcr90.dll\", \"__C_specific_handler\")) and not(pe.imports(\"securekernel.exe\", \"__C_specific_handler\"))) and (pe.imports(\"kernel32.dll\", \"UnhandledExceptionFilter\") or pe.imports(\"api-ms-win-core-errorhandling-l1-1-1.dll\", \"UnhandledExceptionFilter\") or pe.imports(\"api-ms-win-core-errorhandling-l1-1-0.dll\", \"UnhandledExceptionFilter\") or pe.imports(\"api-ms-win-downlevel-kernel32-l1-1-0.dll\", \"UnhandledExceptionFilter\") or pe.imports(\"kernelbase.dll\", \"UnhandledExceptionFilter\") or pe.imports(\"rtmpal.dll\", \"UnhandledExceptionFilter\")) and (not(pe.imports(\"kernel32.dll\", \"RtlUnwind\")) and not(pe.imports(\"ntdll.dll\", \"RtlUnwind\")) and not(pe.imports(\"api-ms-win-core-rtlsupport-l1-1-0.dll\", \"RtlUnwind\")) and not(pe.imports(\"api-ms-win-core-rtlsupport-l1-2-0.dll\", \"RtlUnwind\")) and not(pe.imports(\"win32k.sys\", \"RtlUnwind\")) and not(pe.imports(\"ntoskrnl.exe\", \"RtlUnwind\"))) and (pe.imports(\"kernel32.dll\", \"FlsGetValue\") or pe.imports(\"api-ms-win-core-fibers-l1-1-1.dll\", \"FlsGetValue\")) and (pe.imports(\"kernel32.dll\", \"CreateThread\") or pe.imports(\"api-ms-win-core-processthreads-l1-1-2.dll\", \"CreateThread\") or pe.imports(\"api-ms-win-core-processthreads-l1-1-1.dll\", \"CreateThread\") or pe.imports(\"api-ms-win-downlevel-kernel32-l1-1-0.dll\", \"CreateThread\") or pe.imports(\"rtmpal.dll\", \"CreateThread\") or pe.imports(\"api-ms-win-core-processthreads-l1-1-0.dll\", \"CreateThread\")) and (pe.imports(\"kernel32.dll\", \"GetConsoleOutputCP\") or pe.imports(\"api-ms-win-core-console-l1-1-0.dll\", \"GetConsoleOutputCP\") or pe.imports(\"api-ms-win-downlevel-kernel32-l1-1-0.dll\", \"GetConsoleOutputCP\"))) or \n",
      "\t\t((not(pe.imports(\"msvcrt.dll\", \"__C_specific_handler\")) and not(pe.imports(\"api-ms-win-crt-private-l1-1-0.dll\", \"__C_specific_handler\")) and not(pe.imports(\"vcruntime140.dll\", \"__C_specific_handler\")) and not(pe.imports(\"msvcr120_clr0400.dll\", \"__C_specific_handler\")) and not(pe.imports(\"ntdll.dll\", \"__C_specific_handler\")) and not(pe.imports(\"api-ms-win-core-crt-l1-1-0.dll\", \"__C_specific_handler\")) and not(pe.imports(\"msvcr120.dll\", \"__C_specific_handler\")) and not(pe.imports(\"msvcr100.dll\", \"__C_specific_handler\")) and not(pe.imports(\"win32k.sys\", \"__C_specific_handler\")) and not(pe.imports(\"ntoskrnl.exe\", \"__C_specific_handler\")) and not(pe.imports(\"kernel32.dll\", \"__C_specific_handler\")) and not(pe.imports(\"msvcr90.dll\", \"__C_specific_handler\")) and not(pe.imports(\"securekernel.exe\", \"__C_specific_handler\"))) and (pe.imports(\"kernel32.dll\", \"UnhandledExceptionFilter\") or pe.imports(\"api-ms-win-core-errorhandling-l1-1-1.dll\", \"UnhandledExceptionFilter\") or pe.imports(\"api-ms-win-core-errorhandling-l1-1-0.dll\", \"UnhandledExceptionFilter\") or pe.imports(\"api-ms-win-downlevel-kernel32-l1-1-0.dll\", \"UnhandledExceptionFilter\") or pe.imports(\"kernelbase.dll\", \"UnhandledExceptionFilter\") or pe.imports(\"rtmpal.dll\", \"UnhandledExceptionFilter\")) and (pe.imports(\"kernel32.dll\", \"RtlUnwind\") or pe.imports(\"ntdll.dll\", \"RtlUnwind\") or pe.imports(\"api-ms-win-core-rtlsupport-l1-1-0.dll\", \"RtlUnwind\") or pe.imports(\"api-ms-win-core-rtlsupport-l1-2-0.dll\", \"RtlUnwind\") or pe.imports(\"win32k.sys\", \"RtlUnwind\") or pe.imports(\"ntoskrnl.exe\", \"RtlUnwind\")) and (pe.imports(\"oleaut32.dll\", \"VariantClear\") or pe.imports(\"rtmpal.dll\", \"VariantClear\")) and (pe.imports(\"kernel32.dll\", \"GetConsoleCP\") or pe.imports(\"api-ms-win-core-console-l1-1-0.dll\", \"GetConsoleCP\")) and (not(pe.imports(\"ws2_32.dll\", \"WSAStartup\")) and not(pe.imports(\"wsock32.dll\", \"WSAStartup\")) and not(pe.imports(\"ws2\", \"WSAStartup\"))))\n",
      "\n",
      "}\n",
      "import \"pe\"\n",
      "\n",
      "rule rule_cluster_7\n",
      "{\n",
      "\n",
      "\n",
      "\tcondition:\n",
      "\t\t((not(pe.imports(\"msvcrt.dll\", \"__C_specific_handler\")) and not(pe.imports(\"api-ms-win-crt-private-l1-1-0.dll\", \"__C_specific_handler\")) and not(pe.imports(\"vcruntime140.dll\", \"__C_specific_handler\")) and not(pe.imports(\"msvcr120_clr0400.dll\", \"__C_specific_handler\")) and not(pe.imports(\"ntdll.dll\", \"__C_specific_handler\")) and not(pe.imports(\"api-ms-win-core-crt-l1-1-0.dll\", \"__C_specific_handler\")) and not(pe.imports(\"msvcr120.dll\", \"__C_specific_handler\")) and not(pe.imports(\"msvcr100.dll\", \"__C_specific_handler\")) and not(pe.imports(\"win32k.sys\", \"__C_specific_handler\")) and not(pe.imports(\"ntoskrnl.exe\", \"__C_specific_handler\")) and not(pe.imports(\"kernel32.dll\", \"__C_specific_handler\")) and not(pe.imports(\"msvcr90.dll\", \"__C_specific_handler\")) and not(pe.imports(\"securekernel.exe\", \"__C_specific_handler\"))) and (not(pe.imports(\"kernel32.dll\", \"UnhandledExceptionFilter\")) and not(pe.imports(\"api-ms-win-core-errorhandling-l1-1-1.dll\", \"UnhandledExceptionFilter\")) and not(pe.imports(\"api-ms-win-core-errorhandling-l1-1-0.dll\", \"UnhandledExceptionFilter\")) and not(pe.imports(\"api-ms-win-downlevel-kernel32-l1-1-0.dll\", \"UnhandledExceptionFilter\")) and not(pe.imports(\"kernelbase.dll\", \"UnhandledExceptionFilter\")) and not(pe.imports(\"rtmpal.dll\", \"UnhandledExceptionFilter\"))) and (not(pe.imports(\"kernel32.dll\", \"GetProcAddress\")) and not(pe.imports(\"api-ms-win-core-libraryloader-l1-2-0.dll\", \"GetProcAddress\")) and not(pe.imports(\"api-ms-win-core-libraryloader-l1-1-0.dll\", \"GetProcAddress\")) and not(pe.imports(\"api-ms-win-downlevel-kernel32-l1-1-0.dll\", \"GetProcAddress\")) and not(pe.imports(\"api-ms-win-core-libraryloader-l1-1-1.dll\", \"GetProcAddress\")) and not(pe.imports(\"kernelbase.dll\", \"GetProcAddress\")) and not(pe.imports(\"rtmpal.dll\", \"GetProcAddress\")) and not(pe.imports(\"kernel32\", \"GetProcAddress\"))) and (not(pe.imports(\"ntdll.dll\", \"NtTerminateProcess\"))) and (not(pe.imports(\"advapi32.dll\", \"OpenEventLogW\"))) and (not(pe.imports(\"kernel32.dll\", \"LockResource\")) and not(pe.imports(\"api-ms-win-core-libraryloader-l1-2-0.dll\", \"LockResource\")) and not(pe.imports(\"api-ms-win-core-libraryloader-l1-1-0.dll\", \"LockResource\")) and not(pe.imports(\"api-ms-win-downlevel-kernel32-l1-1-0.dll\", \"LockResource\")) and not(pe.imports(\"api-ms-win-core-libraryloader-l1-1-1.dll\", \"LockResource\"))) and (not(pe.imports(\"kernel32.dll\", \"GetCurrentThreadId\")) and not(pe.imports(\"api-ms-win-core-processthreads-l1-1-2.dll\", \"GetCurrentThreadId\")) and not(pe.imports(\"api-ms-win-core-processthreads-l1-1-0.dll\", \"GetCurrentThreadId\")) and not(pe.imports(\"api-ms-win-downlevel-kernel32-l1-1-0.dll\", \"GetCurrentThreadId\")) and not(pe.imports(\"api-ms-win-core-processthreads-l1-1-1.dll\", \"GetCurrentThreadId\")) and not(pe.imports(\"kernelbase.dll\", \"GetCurrentThreadId\")) and not(pe.imports(\"rtmpal.dll\", \"GetCurrentThreadId\"))) and (not(pe.imports(\"advapi32.dll\", \"CheckTokenMembership\")) and not(pe.imports(\"api-ms-win-security-base-l1-2-0.dll\", \"CheckTokenMembership\")) and not(pe.imports(\"api-ms-win-security-base-l1-1-0.dll\", \"CheckTokenMembership\")) and not(pe.imports(\"api-ms-win-downlevel-advapi32-l1-1-0.dll\", \"CheckTokenMembership\")) and not(pe.imports(\"api-ms-win-downlevel-advapi32-l1-1-1.dll\", \"CheckTokenMembership\"))))\n",
      "\n",
      "}\n",
      "import \"pe\"\n",
      "\n",
      "rule rule_cluster_8\n",
      "{\n",
      "\n",
      "\n",
      "\tcondition:\n",
      "\t\t((not(pe.imports(\"msvcrt.dll\", \"__C_specific_handler\")) and not(pe.imports(\"api-ms-win-crt-private-l1-1-0.dll\", \"__C_specific_handler\")) and not(pe.imports(\"vcruntime140.dll\", \"__C_specific_handler\")) and not(pe.imports(\"msvcr120_clr0400.dll\", \"__C_specific_handler\")) and not(pe.imports(\"ntdll.dll\", \"__C_specific_handler\")) and not(pe.imports(\"api-ms-win-core-crt-l1-1-0.dll\", \"__C_specific_handler\")) and not(pe.imports(\"msvcr120.dll\", \"__C_specific_handler\")) and not(pe.imports(\"msvcr100.dll\", \"__C_specific_handler\")) and not(pe.imports(\"win32k.sys\", \"__C_specific_handler\")) and not(pe.imports(\"ntoskrnl.exe\", \"__C_specific_handler\")) and not(pe.imports(\"kernel32.dll\", \"__C_specific_handler\")) and not(pe.imports(\"msvcr90.dll\", \"__C_specific_handler\")) and not(pe.imports(\"securekernel.exe\", \"__C_specific_handler\"))) and (not(pe.imports(\"kernel32.dll\", \"UnhandledExceptionFilter\")) and not(pe.imports(\"api-ms-win-core-errorhandling-l1-1-1.dll\", \"UnhandledExceptionFilter\")) and not(pe.imports(\"api-ms-win-core-errorhandling-l1-1-0.dll\", \"UnhandledExceptionFilter\")) and not(pe.imports(\"api-ms-win-downlevel-kernel32-l1-1-0.dll\", \"UnhandledExceptionFilter\")) and not(pe.imports(\"kernelbase.dll\", \"UnhandledExceptionFilter\")) and not(pe.imports(\"rtmpal.dll\", \"UnhandledExceptionFilter\"))) and (not(pe.imports(\"kernel32.dll\", \"GetProcAddress\")) and not(pe.imports(\"api-ms-win-core-libraryloader-l1-2-0.dll\", \"GetProcAddress\")) and not(pe.imports(\"api-ms-win-core-libraryloader-l1-1-0.dll\", \"GetProcAddress\")) and not(pe.imports(\"api-ms-win-downlevel-kernel32-l1-1-0.dll\", \"GetProcAddress\")) and not(pe.imports(\"api-ms-win-core-libraryloader-l1-1-1.dll\", \"GetProcAddress\")) and not(pe.imports(\"kernelbase.dll\", \"GetProcAddress\")) and not(pe.imports(\"rtmpal.dll\", \"GetProcAddress\")) and not(pe.imports(\"kernel32\", \"GetProcAddress\"))) and (not(pe.imports(\"ntdll.dll\", \"NtTerminateProcess\"))) and (not(pe.imports(\"advapi32.dll\", \"OpenEventLogW\"))) and (not(pe.imports(\"kernel32.dll\", \"LockResource\")) and not(pe.imports(\"api-ms-win-core-libraryloader-l1-2-0.dll\", \"LockResource\")) and not(pe.imports(\"api-ms-win-core-libraryloader-l1-1-0.dll\", \"LockResource\")) and not(pe.imports(\"api-ms-win-downlevel-kernel32-l1-1-0.dll\", \"LockResource\")) and not(pe.imports(\"api-ms-win-core-libraryloader-l1-1-1.dll\", \"LockResource\"))) and (not(pe.imports(\"kernel32.dll\", \"GetCurrentThreadId\")) and not(pe.imports(\"api-ms-win-core-processthreads-l1-1-2.dll\", \"GetCurrentThreadId\")) and not(pe.imports(\"api-ms-win-core-processthreads-l1-1-0.dll\", \"GetCurrentThreadId\")) and not(pe.imports(\"api-ms-win-downlevel-kernel32-l1-1-0.dll\", \"GetCurrentThreadId\")) and not(pe.imports(\"api-ms-win-core-processthreads-l1-1-1.dll\", \"GetCurrentThreadId\")) and not(pe.imports(\"kernelbase.dll\", \"GetCurrentThreadId\")) and not(pe.imports(\"rtmpal.dll\", \"GetCurrentThreadId\"))) and (pe.imports(\"advapi32.dll\", \"CheckTokenMembership\") or pe.imports(\"api-ms-win-security-base-l1-2-0.dll\", \"CheckTokenMembership\") or pe.imports(\"api-ms-win-security-base-l1-1-0.dll\", \"CheckTokenMembership\") or pe.imports(\"api-ms-win-downlevel-advapi32-l1-1-0.dll\", \"CheckTokenMembership\") or pe.imports(\"api-ms-win-downlevel-advapi32-l1-1-1.dll\", \"CheckTokenMembership\"))) or \n",
      "\t\t((not(pe.imports(\"msvcrt.dll\", \"__C_specific_handler\")) and not(pe.imports(\"api-ms-win-crt-private-l1-1-0.dll\", \"__C_specific_handler\")) and not(pe.imports(\"vcruntime140.dll\", \"__C_specific_handler\")) and not(pe.imports(\"msvcr120_clr0400.dll\", \"__C_specific_handler\")) and not(pe.imports(\"ntdll.dll\", \"__C_specific_handler\")) and not(pe.imports(\"api-ms-win-core-crt-l1-1-0.dll\", \"__C_specific_handler\")) and not(pe.imports(\"msvcr120.dll\", \"__C_specific_handler\")) and not(pe.imports(\"msvcr100.dll\", \"__C_specific_handler\")) and not(pe.imports(\"win32k.sys\", \"__C_specific_handler\")) and not(pe.imports(\"ntoskrnl.exe\", \"__C_specific_handler\")) and not(pe.imports(\"kernel32.dll\", \"__C_specific_handler\")) and not(pe.imports(\"msvcr90.dll\", \"__C_specific_handler\")) and not(pe.imports(\"securekernel.exe\", \"__C_specific_handler\"))) and (not(pe.imports(\"kernel32.dll\", \"UnhandledExceptionFilter\")) and not(pe.imports(\"api-ms-win-core-errorhandling-l1-1-1.dll\", \"UnhandledExceptionFilter\")) and not(pe.imports(\"api-ms-win-core-errorhandling-l1-1-0.dll\", \"UnhandledExceptionFilter\")) and not(pe.imports(\"api-ms-win-downlevel-kernel32-l1-1-0.dll\", \"UnhandledExceptionFilter\")) and not(pe.imports(\"kernelbase.dll\", \"UnhandledExceptionFilter\")) and not(pe.imports(\"rtmpal.dll\", \"UnhandledExceptionFilter\"))) and (not(pe.imports(\"kernel32.dll\", \"GetProcAddress\")) and not(pe.imports(\"api-ms-win-core-libraryloader-l1-2-0.dll\", \"GetProcAddress\")) and not(pe.imports(\"api-ms-win-core-libraryloader-l1-1-0.dll\", \"GetProcAddress\")) and not(pe.imports(\"api-ms-win-downlevel-kernel32-l1-1-0.dll\", \"GetProcAddress\")) and not(pe.imports(\"api-ms-win-core-libraryloader-l1-1-1.dll\", \"GetProcAddress\")) and not(pe.imports(\"kernelbase.dll\", \"GetProcAddress\")) and not(pe.imports(\"rtmpal.dll\", \"GetProcAddress\")) and not(pe.imports(\"kernel32\", \"GetProcAddress\"))) and (not(pe.imports(\"ntdll.dll\", \"NtTerminateProcess\"))) and (not(pe.imports(\"advapi32.dll\", \"OpenEventLogW\"))) and (not(pe.imports(\"kernel32.dll\", \"LockResource\")) and not(pe.imports(\"api-ms-win-core-libraryloader-l1-2-0.dll\", \"LockResource\")) and not(pe.imports(\"api-ms-win-core-libraryloader-l1-1-0.dll\", \"LockResource\")) and not(pe.imports(\"api-ms-win-downlevel-kernel32-l1-1-0.dll\", \"LockResource\")) and not(pe.imports(\"api-ms-win-core-libraryloader-l1-1-1.dll\", \"LockResource\"))) and (pe.imports(\"kernel32.dll\", \"GetCurrentThreadId\") or pe.imports(\"api-ms-win-core-processthreads-l1-1-2.dll\", \"GetCurrentThreadId\") or pe.imports(\"api-ms-win-core-processthreads-l1-1-0.dll\", \"GetCurrentThreadId\") or pe.imports(\"api-ms-win-downlevel-kernel32-l1-1-0.dll\", \"GetCurrentThreadId\") or pe.imports(\"api-ms-win-core-processthreads-l1-1-1.dll\", \"GetCurrentThreadId\") or pe.imports(\"kernelbase.dll\", \"GetCurrentThreadId\") or pe.imports(\"rtmpal.dll\", \"GetCurrentThreadId\"))) or \n",
      "\t\t((not(pe.imports(\"msvcrt.dll\", \"__C_specific_handler\")) and not(pe.imports(\"api-ms-win-crt-private-l1-1-0.dll\", \"__C_specific_handler\")) and not(pe.imports(\"vcruntime140.dll\", \"__C_specific_handler\")) and not(pe.imports(\"msvcr120_clr0400.dll\", \"__C_specific_handler\")) and not(pe.imports(\"ntdll.dll\", \"__C_specific_handler\")) and not(pe.imports(\"api-ms-win-core-crt-l1-1-0.dll\", \"__C_specific_handler\")) and not(pe.imports(\"msvcr120.dll\", \"__C_specific_handler\")) and not(pe.imports(\"msvcr100.dll\", \"__C_specific_handler\")) and not(pe.imports(\"win32k.sys\", \"__C_specific_handler\")) and not(pe.imports(\"ntoskrnl.exe\", \"__C_specific_handler\")) and not(pe.imports(\"kernel32.dll\", \"__C_specific_handler\")) and not(pe.imports(\"msvcr90.dll\", \"__C_specific_handler\")) and not(pe.imports(\"securekernel.exe\", \"__C_specific_handler\"))) and (not(pe.imports(\"kernel32.dll\", \"UnhandledExceptionFilter\")) and not(pe.imports(\"api-ms-win-core-errorhandling-l1-1-1.dll\", \"UnhandledExceptionFilter\")) and not(pe.imports(\"api-ms-win-core-errorhandling-l1-1-0.dll\", \"UnhandledExceptionFilter\")) and not(pe.imports(\"api-ms-win-downlevel-kernel32-l1-1-0.dll\", \"UnhandledExceptionFilter\")) and not(pe.imports(\"kernelbase.dll\", \"UnhandledExceptionFilter\")) and not(pe.imports(\"rtmpal.dll\", \"UnhandledExceptionFilter\"))) and (pe.imports(\"kernel32.dll\", \"GetProcAddress\") or pe.imports(\"api-ms-win-core-libraryloader-l1-2-0.dll\", \"GetProcAddress\") or pe.imports(\"api-ms-win-core-libraryloader-l1-1-0.dll\", \"GetProcAddress\") or pe.imports(\"api-ms-win-downlevel-kernel32-l1-1-0.dll\", \"GetProcAddress\") or pe.imports(\"api-ms-win-core-libraryloader-l1-1-1.dll\", \"GetProcAddress\") or pe.imports(\"kernelbase.dll\", \"GetProcAddress\") or pe.imports(\"rtmpal.dll\", \"GetProcAddress\") or pe.imports(\"kernel32\", \"GetProcAddress\")) and (pe.imports(\"kernel32.dll\", \"SetConsoleTextAttribute\") or pe.imports(\"api-ms-win-core-console-l2-1-0.dll\", \"SetConsoleTextAttribute\") or pe.imports(\"api-ms-win-downlevel-kernel32-l1-1-0.dll\", \"SetConsoleTextAttribute\")) and (not(pe.imports(\"shlwapi.dll\", \"PathFindExtensionW\")) and not(pe.imports(\"api-ms-win-core-shlwapi-legacy-l1-1-0.dll\", \"PathFindExtensionW\")) and not(pe.imports(\"api-ms-win-downlevel-shlwapi-l1-1-0.dll\", \"PathFindExtensionW\")))) or \n",
      "\t\t((pe.imports(\"msvcrt.dll\", \"__C_specific_handler\") or pe.imports(\"api-ms-win-crt-private-l1-1-0.dll\", \"__C_specific_handler\") or pe.imports(\"vcruntime140.dll\", \"__C_specific_handler\") or pe.imports(\"msvcr120_clr0400.dll\", \"__C_specific_handler\") or pe.imports(\"ntdll.dll\", \"__C_specific_handler\") or pe.imports(\"api-ms-win-core-crt-l1-1-0.dll\", \"__C_specific_handler\") or pe.imports(\"msvcr120.dll\", \"__C_specific_handler\") or pe.imports(\"msvcr100.dll\", \"__C_specific_handler\") or pe.imports(\"win32k.sys\", \"__C_specific_handler\") or pe.imports(\"ntoskrnl.exe\", \"__C_specific_handler\") or pe.imports(\"kernel32.dll\", \"__C_specific_handler\") or pe.imports(\"msvcr90.dll\", \"__C_specific_handler\") or pe.imports(\"securekernel.exe\", \"__C_specific_handler\")) and (not(pe.imports(\"ntdll.dll\", \"RtlLookupFunctionEntry\")) and not(pe.imports(\"kernel32.dll\", \"RtlLookupFunctionEntry\")) and not(pe.imports(\"api-ms-win-core-rtlsupport-l1-2-0.dll\", \"RtlLookupFunctionEntry\")) and not(pe.imports(\"api-ms-win-core-rtlsupport-l1-1-0.dll\", \"RtlLookupFunctionEntry\")) and not(pe.imports(\"rtmpal.dll\", \"RtlLookupFunctionEntry\"))) and (pe.imports(\"msvcrt.dll\", \"_XcptFilter\") or pe.imports(\"msvcr100.dll\", \"_XcptFilter\") or pe.imports(\"msvcr90.dll\", \"_XcptFilter\") or pe.imports(\"msvcr120_clr0400.dll\", \"_XcptFilter\") or pe.imports(\"msvcr80.dll\", \"_XcptFilter\")))\n",
      "\n",
      "}\n",
      "import \"pe\"\n",
      "\n",
      "rule rule_cluster_9\n",
      "{\n",
      "\n",
      "\n",
      "\tcondition:\n",
      "\t\t((not(pe.imports(\"msvcrt.dll\", \"__C_specific_handler\")) and not(pe.imports(\"api-ms-win-crt-private-l1-1-0.dll\", \"__C_specific_handler\")) and not(pe.imports(\"vcruntime140.dll\", \"__C_specific_handler\")) and not(pe.imports(\"msvcr120_clr0400.dll\", \"__C_specific_handler\")) and not(pe.imports(\"ntdll.dll\", \"__C_specific_handler\")) and not(pe.imports(\"api-ms-win-core-crt-l1-1-0.dll\", \"__C_specific_handler\")) and not(pe.imports(\"msvcr120.dll\", \"__C_specific_handler\")) and not(pe.imports(\"msvcr100.dll\", \"__C_specific_handler\")) and not(pe.imports(\"win32k.sys\", \"__C_specific_handler\")) and not(pe.imports(\"ntoskrnl.exe\", \"__C_specific_handler\")) and not(pe.imports(\"kernel32.dll\", \"__C_specific_handler\")) and not(pe.imports(\"msvcr90.dll\", \"__C_specific_handler\")) and not(pe.imports(\"securekernel.exe\", \"__C_specific_handler\"))) and (not(pe.imports(\"kernel32.dll\", \"UnhandledExceptionFilter\")) and not(pe.imports(\"api-ms-win-core-errorhandling-l1-1-1.dll\", \"UnhandledExceptionFilter\")) and not(pe.imports(\"api-ms-win-core-errorhandling-l1-1-0.dll\", \"UnhandledExceptionFilter\")) and not(pe.imports(\"api-ms-win-downlevel-kernel32-l1-1-0.dll\", \"UnhandledExceptionFilter\")) and not(pe.imports(\"kernelbase.dll\", \"UnhandledExceptionFilter\")) and not(pe.imports(\"rtmpal.dll\", \"UnhandledExceptionFilter\"))) and (not(pe.imports(\"kernel32.dll\", \"GetProcAddress\")) and not(pe.imports(\"api-ms-win-core-libraryloader-l1-2-0.dll\", \"GetProcAddress\")) and not(pe.imports(\"api-ms-win-core-libraryloader-l1-1-0.dll\", \"GetProcAddress\")) and not(pe.imports(\"api-ms-win-downlevel-kernel32-l1-1-0.dll\", \"GetProcAddress\")) and not(pe.imports(\"api-ms-win-core-libraryloader-l1-1-1.dll\", \"GetProcAddress\")) and not(pe.imports(\"kernelbase.dll\", \"GetProcAddress\")) and not(pe.imports(\"rtmpal.dll\", \"GetProcAddress\")) and not(pe.imports(\"kernel32\", \"GetProcAddress\"))) and (not(pe.imports(\"ntdll.dll\", \"NtTerminateProcess\"))) and (not(pe.imports(\"advapi32.dll\", \"OpenEventLogW\"))) and (pe.imports(\"kernel32.dll\", \"LockResource\") or pe.imports(\"api-ms-win-core-libraryloader-l1-2-0.dll\", \"LockResource\") or pe.imports(\"api-ms-win-core-libraryloader-l1-1-0.dll\", \"LockResource\") or pe.imports(\"api-ms-win-downlevel-kernel32-l1-1-0.dll\", \"LockResource\") or pe.imports(\"api-ms-win-core-libraryloader-l1-1-1.dll\", \"LockResource\"))) or \n",
      "\t\t((not(pe.imports(\"msvcrt.dll\", \"__C_specific_handler\")) and not(pe.imports(\"api-ms-win-crt-private-l1-1-0.dll\", \"__C_specific_handler\")) and not(pe.imports(\"vcruntime140.dll\", \"__C_specific_handler\")) and not(pe.imports(\"msvcr120_clr0400.dll\", \"__C_specific_handler\")) and not(pe.imports(\"ntdll.dll\", \"__C_specific_handler\")) and not(pe.imports(\"api-ms-win-core-crt-l1-1-0.dll\", \"__C_specific_handler\")) and not(pe.imports(\"msvcr120.dll\", \"__C_specific_handler\")) and not(pe.imports(\"msvcr100.dll\", \"__C_specific_handler\")) and not(pe.imports(\"win32k.sys\", \"__C_specific_handler\")) and not(pe.imports(\"ntoskrnl.exe\", \"__C_specific_handler\")) and not(pe.imports(\"kernel32.dll\", \"__C_specific_handler\")) and not(pe.imports(\"msvcr90.dll\", \"__C_specific_handler\")) and not(pe.imports(\"securekernel.exe\", \"__C_specific_handler\"))) and (not(pe.imports(\"kernel32.dll\", \"UnhandledExceptionFilter\")) and not(pe.imports(\"api-ms-win-core-errorhandling-l1-1-1.dll\", \"UnhandledExceptionFilter\")) and not(pe.imports(\"api-ms-win-core-errorhandling-l1-1-0.dll\", \"UnhandledExceptionFilter\")) and not(pe.imports(\"api-ms-win-downlevel-kernel32-l1-1-0.dll\", \"UnhandledExceptionFilter\")) and not(pe.imports(\"kernelbase.dll\", \"UnhandledExceptionFilter\")) and not(pe.imports(\"rtmpal.dll\", \"UnhandledExceptionFilter\"))) and (pe.imports(\"kernel32.dll\", \"GetProcAddress\") or pe.imports(\"api-ms-win-core-libraryloader-l1-2-0.dll\", \"GetProcAddress\") or pe.imports(\"api-ms-win-core-libraryloader-l1-1-0.dll\", \"GetProcAddress\") or pe.imports(\"api-ms-win-downlevel-kernel32-l1-1-0.dll\", \"GetProcAddress\") or pe.imports(\"api-ms-win-core-libraryloader-l1-1-1.dll\", \"GetProcAddress\") or pe.imports(\"kernelbase.dll\", \"GetProcAddress\") or pe.imports(\"rtmpal.dll\", \"GetProcAddress\") or pe.imports(\"kernel32\", \"GetProcAddress\")) and (not(pe.imports(\"kernel32.dll\", \"SetConsoleTextAttribute\")) and not(pe.imports(\"api-ms-win-core-console-l2-1-0.dll\", \"SetConsoleTextAttribute\")) and not(pe.imports(\"api-ms-win-downlevel-kernel32-l1-1-0.dll\", \"SetConsoleTextAttribute\"))) and (not(pe.imports(\"advapi32.dll\", \"CloseServiceHandle\")) and not(pe.imports(\"api-ms-win-service-management-l1-1-0.dll\", \"CloseServiceHandle\"))) and (not(pe.imports(\"gdi32.dll\", \"GetRgnBox\"))) and (not(pe.imports(\"kernel32.dll\", \"VirtualAlloc\")) and not(pe.imports(\"api-ms-win-core-memory-l1-1-0.dll\", \"VirtualAlloc\")) and not(pe.imports(\"api-ms-win-core-memory-l1-1-2.dll\", \"VirtualAlloc\")) and not(pe.imports(\"api-ms-win-core-memory-l1-1-1.dll\", \"VirtualAlloc\")) and not(pe.imports(\"api-ms-win-downlevel-kernel32-l1-1-0.dll\", \"VirtualAlloc\")))) or \n",
      "\t\t((not(pe.imports(\"msvcrt.dll\", \"__C_specific_handler\")) and not(pe.imports(\"api-ms-win-crt-private-l1-1-0.dll\", \"__C_specific_handler\")) and not(pe.imports(\"vcruntime140.dll\", \"__C_specific_handler\")) and not(pe.imports(\"msvcr120_clr0400.dll\", \"__C_specific_handler\")) and not(pe.imports(\"ntdll.dll\", \"__C_specific_handler\")) and not(pe.imports(\"api-ms-win-core-crt-l1-1-0.dll\", \"__C_specific_handler\")) and not(pe.imports(\"msvcr120.dll\", \"__C_specific_handler\")) and not(pe.imports(\"msvcr100.dll\", \"__C_specific_handler\")) and not(pe.imports(\"win32k.sys\", \"__C_specific_handler\")) and not(pe.imports(\"ntoskrnl.exe\", \"__C_specific_handler\")) and not(pe.imports(\"kernel32.dll\", \"__C_specific_handler\")) and not(pe.imports(\"msvcr90.dll\", \"__C_specific_handler\")) and not(pe.imports(\"securekernel.exe\", \"__C_specific_handler\"))) and (not(pe.imports(\"kernel32.dll\", \"UnhandledExceptionFilter\")) and not(pe.imports(\"api-ms-win-core-errorhandling-l1-1-1.dll\", \"UnhandledExceptionFilter\")) and not(pe.imports(\"api-ms-win-core-errorhandling-l1-1-0.dll\", \"UnhandledExceptionFilter\")) and not(pe.imports(\"api-ms-win-downlevel-kernel32-l1-1-0.dll\", \"UnhandledExceptionFilter\")) and not(pe.imports(\"kernelbase.dll\", \"UnhandledExceptionFilter\")) and not(pe.imports(\"rtmpal.dll\", \"UnhandledExceptionFilter\"))) and (pe.imports(\"kernel32.dll\", \"GetProcAddress\") or pe.imports(\"api-ms-win-core-libraryloader-l1-2-0.dll\", \"GetProcAddress\") or pe.imports(\"api-ms-win-core-libraryloader-l1-1-0.dll\", \"GetProcAddress\") or pe.imports(\"api-ms-win-downlevel-kernel32-l1-1-0.dll\", \"GetProcAddress\") or pe.imports(\"api-ms-win-core-libraryloader-l1-1-1.dll\", \"GetProcAddress\") or pe.imports(\"kernelbase.dll\", \"GetProcAddress\") or pe.imports(\"rtmpal.dll\", \"GetProcAddress\") or pe.imports(\"kernel32\", \"GetProcAddress\")) and (not(pe.imports(\"kernel32.dll\", \"SetConsoleTextAttribute\")) and not(pe.imports(\"api-ms-win-core-console-l2-1-0.dll\", \"SetConsoleTextAttribute\")) and not(pe.imports(\"api-ms-win-downlevel-kernel32-l1-1-0.dll\", \"SetConsoleTextAttribute\"))) and (not(pe.imports(\"advapi32.dll\", \"CloseServiceHandle\")) and not(pe.imports(\"api-ms-win-service-management-l1-1-0.dll\", \"CloseServiceHandle\"))) and (not(pe.imports(\"gdi32.dll\", \"GetRgnBox\"))) and (pe.imports(\"kernel32.dll\", \"VirtualAlloc\") or pe.imports(\"api-ms-win-core-memory-l1-1-0.dll\", \"VirtualAlloc\") or pe.imports(\"api-ms-win-core-memory-l1-1-2.dll\", \"VirtualAlloc\") or pe.imports(\"api-ms-win-core-memory-l1-1-1.dll\", \"VirtualAlloc\") or pe.imports(\"api-ms-win-downlevel-kernel32-l1-1-0.dll\", \"VirtualAlloc\")) and (pe.imports(\"shell32.dll\", \"ShellExecuteA\")))\n",
      "\n",
      "}\n",
      "import \"pe\"\n",
      "\n",
      "rule rule_cluster_10\n",
      "{\n",
      "\n",
      "\n",
      "\tcondition:\n",
      "\t\t((not(pe.imports(\"msvcrt.dll\", \"__C_specific_handler\")) and not(pe.imports(\"api-ms-win-crt-private-l1-1-0.dll\", \"__C_specific_handler\")) and not(pe.imports(\"vcruntime140.dll\", \"__C_specific_handler\")) and not(pe.imports(\"msvcr120_clr0400.dll\", \"__C_specific_handler\")) and not(pe.imports(\"ntdll.dll\", \"__C_specific_handler\")) and not(pe.imports(\"api-ms-win-core-crt-l1-1-0.dll\", \"__C_specific_handler\")) and not(pe.imports(\"msvcr120.dll\", \"__C_specific_handler\")) and not(pe.imports(\"msvcr100.dll\", \"__C_specific_handler\")) and not(pe.imports(\"win32k.sys\", \"__C_specific_handler\")) and not(pe.imports(\"ntoskrnl.exe\", \"__C_specific_handler\")) and not(pe.imports(\"kernel32.dll\", \"__C_specific_handler\")) and not(pe.imports(\"msvcr90.dll\", \"__C_specific_handler\")) and not(pe.imports(\"securekernel.exe\", \"__C_specific_handler\"))) and (not(pe.imports(\"kernel32.dll\", \"UnhandledExceptionFilter\")) and not(pe.imports(\"api-ms-win-core-errorhandling-l1-1-1.dll\", \"UnhandledExceptionFilter\")) and not(pe.imports(\"api-ms-win-core-errorhandling-l1-1-0.dll\", \"UnhandledExceptionFilter\")) and not(pe.imports(\"api-ms-win-downlevel-kernel32-l1-1-0.dll\", \"UnhandledExceptionFilter\")) and not(pe.imports(\"kernelbase.dll\", \"UnhandledExceptionFilter\")) and not(pe.imports(\"rtmpal.dll\", \"UnhandledExceptionFilter\"))) and (pe.imports(\"kernel32.dll\", \"GetProcAddress\") or pe.imports(\"api-ms-win-core-libraryloader-l1-2-0.dll\", \"GetProcAddress\") or pe.imports(\"api-ms-win-core-libraryloader-l1-1-0.dll\", \"GetProcAddress\") or pe.imports(\"api-ms-win-downlevel-kernel32-l1-1-0.dll\", \"GetProcAddress\") or pe.imports(\"api-ms-win-core-libraryloader-l1-1-1.dll\", \"GetProcAddress\") or pe.imports(\"kernelbase.dll\", \"GetProcAddress\") or pe.imports(\"rtmpal.dll\", \"GetProcAddress\") or pe.imports(\"kernel32\", \"GetProcAddress\")) and (not(pe.imports(\"kernel32.dll\", \"SetConsoleTextAttribute\")) and not(pe.imports(\"api-ms-win-core-console-l2-1-0.dll\", \"SetConsoleTextAttribute\")) and not(pe.imports(\"api-ms-win-downlevel-kernel32-l1-1-0.dll\", \"SetConsoleTextAttribute\"))) and (not(pe.imports(\"advapi32.dll\", \"CloseServiceHandle\")) and not(pe.imports(\"api-ms-win-service-management-l1-1-0.dll\", \"CloseServiceHandle\"))) and (not(pe.imports(\"gdi32.dll\", \"GetRgnBox\"))) and (pe.imports(\"kernel32.dll\", \"VirtualAlloc\") or pe.imports(\"api-ms-win-core-memory-l1-1-0.dll\", \"VirtualAlloc\") or pe.imports(\"api-ms-win-core-memory-l1-1-2.dll\", \"VirtualAlloc\") or pe.imports(\"api-ms-win-core-memory-l1-1-1.dll\", \"VirtualAlloc\") or pe.imports(\"api-ms-win-downlevel-kernel32-l1-1-0.dll\", \"VirtualAlloc\")) and (not(pe.imports(\"shell32.dll\", \"ShellExecuteA\"))))\n",
      "\n",
      "}\n"
     ]
    }
   ],
   "source": [
    "for i in range(len(df['label'].unique()) - 1):\n",
    "\n",
    "    rule = yara_tools.create_rule(name=f\"rule_cluster_{i}\", default_boolean='or')\n",
    "\n",
    "    rule.add_import(name=\"pe\")\n",
    "\n",
    "    # Leaves\n",
    "    leave_id = classifier.apply(df_vectors)\n",
    "\n",
    "    paths = {}\n",
    "    for leaf in np.unique(leave_id):\n",
    "        path_leaf = []\n",
    "        find_path(0, path_leaf, leaf)\n",
    "        paths[leaf] = np.unique(np.sort(path_leaf))\n",
    "\n",
    "    # Cut paths that lead to goodwares\n",
    "    filtered_paths = {}\n",
    "    for path in paths:\n",
    "        samples_count = value[path][0]\n",
    "        goodware_value_index = 0\n",
    "        malware_value_index = i + 1\n",
    "        if samples_count[malware_value_index] > samples_count[goodware_value_index]:\n",
    "            filtered_paths[path] = paths[path]\n",
    "\n",
    "    paths = filtered_paths\n",
    "\n",
    "    for leaf_num in paths:\n",
    "        rule.create_condition_group(name=\"group_{}\".format(leaf_num), default_boolean='and')\n",
    "        get_yara_rule(rule, \"group_{}\".format(leaf_num), paths[leaf_num], vectorizer.get_feature_names_out())\n",
    "\n",
    "    generated_rule = rule.build_rule(condition_groups=True)\n",
    "\n",
    "    compiled_rule = yara.compile(source=generated_rule)\n",
    "\n",
    "    print (generated_rule)\n"
   ]
  },
  {
   "attachments": {},
   "cell_type": "markdown",
   "metadata": {},
   "source": [
    "---\n",
    "\n",
    "## Segundo teste - Similaridades e diferencas"
   ]
  },
  {
   "attachments": {},
   "cell_type": "markdown",
   "metadata": {},
   "source": [
    "### Obtendo as similaridades e diferencas"
   ]
  },
  {
   "cell_type": "code",
   "execution_count": 142,
   "metadata": {},
   "outputs": [],
   "source": [
    "# Functions that occur in all malwares in the cluster\n",
    "def plus_functions(dir, cluster):\n",
    "    file_sets = []\n",
    "\n",
    "    for file in cluster:\n",
    "        file_sets.append(set(line.split(' ')[1] for line in open(os.path.join(dir, file)).read().splitlines()))\n",
    "    \n",
    "    intersection = set.intersection(*file_sets)\n",
    "\n",
    "    return intersection\n",
    "\n",
    "\n",
    "# Functions that does not occur in any malwares in the cluster\n",
    "def minus_functions(dir, cluster):\n",
    "    others_set = set()\n",
    "\n",
    "    dir = os.path.join(dir)\n",
    "\n",
    "    for file in os.listdir(dir):\n",
    "        if file in cluster:\n",
    "            continue\n",
    "\n",
    "        others_set.update(set(line.split(' ')[1] for line in open(os.path.join(dir, file)).read().splitlines()))\n",
    "    \n",
    "    cluster_set = set()\n",
    "    for file in cluster:\n",
    "        cluster_set.update(set(line.split(' ')[1] for line in open(os.path.join(dir, file)).read().splitlines()))\n",
    "\n",
    "    others_minus_cluster = others_set - cluster_set\n",
    "\n",
    "    return others_minus_cluster\n",
    "\n",
    "def functions(dir):\n",
    "    return [set(line.split(' ')[1] for line in open(os.path.join(dir, file)).read().splitlines()) for file in os.listdir(dir)]"
   ]
  },
  {
   "cell_type": "code",
   "execution_count": 143,
   "metadata": {},
   "outputs": [],
   "source": [
    "\n",
    "plus = [plus_functions(TRAIN_DIR, cluster) for cluster in mostly_malware_clusters]\n",
    "minus = [minus_functions(TRAIN_DIR, cluster) for cluster in mostly_malware_clusters]"
   ]
  },
  {
   "cell_type": "code",
   "execution_count": 144,
   "metadata": {},
   "outputs": [
    {
     "data": {
      "text/plain": [
       "[6, 39, 32, 54, 49, 16, 0, 0, 0, 5, 1, 214]"
      ]
     },
     "execution_count": 144,
     "metadata": {},
     "output_type": "execute_result"
    }
   ],
   "source": [
    "[len(p) for p in plus]"
   ]
  },
  {
   "cell_type": "code",
   "execution_count": 145,
   "metadata": {},
   "outputs": [
    {
     "data": {
      "text/plain": [
       "[11227,\n",
       " 11323,\n",
       " 11443,\n",
       " 11371,\n",
       " 11425,\n",
       " 10822,\n",
       " 11596,\n",
       " 11590,\n",
       " 11597,\n",
       " 11572,\n",
       " 11421,\n",
       " 10768]"
      ]
     },
     "execution_count": 145,
     "metadata": {},
     "output_type": "execute_result"
    }
   ],
   "source": [
    "[len(m) for m in minus]"
   ]
  },
  {
   "cell_type": "code",
   "execution_count": 146,
   "metadata": {},
   "outputs": [],
   "source": [
    "def predict_similarity_difference(file_functions_set, plus_functions_set_list, minus_functions_set_list):\n",
    "\n",
    "    for plus_functions_set, minus_functions_set in zip(plus_functions_set_list, minus_functions_set_list):\n",
    "        plus_functions_intersection = file_functions_set & plus_functions_set\n",
    "        minus_functions_intersection = file_functions_set & minus_functions_set\n",
    "\n",
    "        if len(plus_functions_intersection) == len(plus_functions_set) and len(minus_functions_intersection) == 0:\n",
    "            return 'MALWARE'\n",
    "\n",
    "    return 'GOODWARE'\n"
   ]
  },
  {
   "cell_type": "code",
   "execution_count": 147,
   "metadata": {},
   "outputs": [],
   "source": [
    "test_mw = functions(TEST_MALWARE_DIR)\n",
    "test_gw = functions(TEST_GOODWARE_DIR)\n",
    "test = test_mw + test_gw\n",
    "\n",
    "test_mw_label = ['MALWARE' for _ in test_mw]\n",
    "test_gw_label = ['GOODWARE' for _ in test_gw]\n",
    "test_label = test_mw_label + test_gw_label\n",
    "\n",
    "pred_mw = [predict_similarity_difference(file_functions_set, plus, minus) for file_functions_set in test_mw]\n",
    "pred_gw = [predict_similarity_difference(file_functions_set, plus, minus) for file_functions_set in test_gw]\n",
    "pred = [predict_similarity_difference(file_functions_set, plus, minus) for file_functions_set in test]"
   ]
  },
  {
   "cell_type": "code",
   "execution_count": 148,
   "metadata": {},
   "outputs": [
    {
     "name": "stdout",
     "output_type": "stream",
     "text": [
      "Accuracy total: 0.5662520281233099\n",
      "Accuracy malware: 0.5382047477744807\n",
      "Accuracy goodware: 0.5927744650999649\n",
      "F1 score: 0.5659684940215779\n"
     ]
    }
   ],
   "source": [
    "print('Accuracy total: {}'.format(accuracy_score(test_label, pred)))\n",
    "print('Accuracy malware: {}'.format(accuracy_score(test_mw_label, pred_mw)))\n",
    "print('Accuracy goodware: {}'.format(accuracy_score(test_gw_label, pred_gw)))\n",
    "print('F1 score: {}'.format(f1_score(test_label, pred, average='weighted')))"
   ]
  },
  {
   "attachments": {},
   "cell_type": "markdown",
   "metadata": {},
   "source": [
    "### Criando reegras YARA"
   ]
  },
  {
   "cell_type": "code",
   "execution_count": null,
   "metadata": {},
   "outputs": [],
   "source": [
    "if len(plus_functions) != len(minus_functions):\n",
    "    raise ValueError(\"Plus and minus functions must be of the same length\")\n",
    "\n",
    "for i in range(len(plus_functions)):\n",
    "    rule = yara_tools.create_rule(name=\"rule_cluster_{i}\")\n",
    "    rule.add_import(name=\"pe\")\n",
    "\n",
    "    # Adicionar o parse com \"or\" para todas as libs em uma funcao. Talvez usar \"groups\""
   ]
  }
 ],
 "metadata": {
  "kernelspec": {
   "display_name": "Python 3",
   "language": "python",
   "name": "python3"
  },
  "language_info": {
   "codemirror_mode": {
    "name": "ipython",
    "version": 3
   },
   "file_extension": ".py",
   "mimetype": "text/x-python",
   "name": "python",
   "nbconvert_exporter": "python",
   "pygments_lexer": "ipython3",
   "version": "3.10.6"
  },
  "orig_nbformat": 4,
  "vscode": {
   "interpreter": {
    "hash": "916dbcbb3f70747c44a77c7bcd40155683ae19c65e1c03b4aa3499c5328201f1"
   }
  }
 },
 "nbformat": 4,
 "nbformat_minor": 2
}
