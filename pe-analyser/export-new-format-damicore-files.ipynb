{
 "cells": [
  {
   "cell_type": "code",
   "execution_count": 1,
   "metadata": {},
   "outputs": [],
   "source": [
    "import sys\n",
    "import os\n",
    "import pandas as pd\n",
    "import numpy as np\n",
    "import seaborn as sns\n",
    "from sklearn.feature_extraction.text import CountVectorizer\n",
    "from sklearn.tree import DecisionTreeClassifier, plot_tree\n",
    "from sklearn.model_selection import train_test_split\n",
    "from sklearn.metrics import accuracy_score, confusion_matrix, f1_score\n",
    "import matplotlib.pyplot as plt"
   ]
  },
  {
   "cell_type": "code",
   "execution_count": 2,
   "metadata": {},
   "outputs": [],
   "source": [
    "func_dict = {}"
   ]
  },
  {
   "cell_type": "code",
   "execution_count": 3,
   "metadata": {},
   "outputs": [],
   "source": [
    "def ld_data(dir_name):\n",
    "    # Load data in files from directory dir_name in a pandas dataframe\n",
    "    df = pd.DataFrame()\n",
    "    for filename in os.listdir(dir_name):\n",
    "        funcs = []\n",
    "        with open(os.path.join(dir_name, filename), 'r') as f:\n",
    "            lines = f.read().splitlines()\n",
    "            \n",
    "            for line in lines:\n",
    "                lib, func = line.split(' ')\n",
    "                if '@' in func or '?' in func:\n",
    "                    continue\n",
    "                \n",
    "                # TODO: Comentado para testar Vectorizer sem lower()\n",
    "                # if not func.lower() in func_dict:\n",
    "                #     func_dict[func.lower()] = [(lib, func)]\n",
    "                # else:\n",
    "                #     func_dict[func.lower()].append((lib, func))\n",
    "\n",
    "                if not func in func_dict:\n",
    "                    func_dict[func] = [(lib, func)]\n",
    "                else:\n",
    "                    # TODO: Melhorar. So dar append se a lib for diferente das atuais\n",
    "                    func_dict[func].append((lib, func))\n",
    "\n",
    "\n",
    "                funcs.append(func)\n",
    "\n",
    "        label = 'MALWARE' if filename.startswith('R') else 'GOODWARE'\n",
    "        df = pd.concat([df, pd.DataFrame({'filename': filename, 'label': label, 'funcs': ' '.join(funcs)}, index=[0])], ignore_index=True)\n",
    "        \n",
    "    return df\n"
   ]
  },
  {
   "cell_type": "code",
   "execution_count": 4,
   "metadata": {},
   "outputs": [],
   "source": [
    "# train_dt_dir_name = '../data/arquivos-nilson-filtro-2/'\n",
    "train_dt_dir_name = '/archive/files/nastyware-files/mix/'\n",
    "export_dt_dir_name = '/archive/files/nastyware-files/mix-new-format/'"
   ]
  },
  {
   "cell_type": "code",
   "execution_count": 5,
   "metadata": {},
   "outputs": [],
   "source": [
    "train = ld_data(train_dt_dir_name)"
   ]
  },
  {
   "cell_type": "code",
   "execution_count": 6,
   "metadata": {},
   "outputs": [
    {
     "data": {
      "text/html": [
       "<div>\n",
       "<style scoped>\n",
       "    .dataframe tbody tr th:only-of-type {\n",
       "        vertical-align: middle;\n",
       "    }\n",
       "\n",
       "    .dataframe tbody tr th {\n",
       "        vertical-align: top;\n",
       "    }\n",
       "\n",
       "    .dataframe thead th {\n",
       "        text-align: right;\n",
       "    }\n",
       "</style>\n",
       "<table border=\"1\" class=\"dataframe\">\n",
       "  <thead>\n",
       "    <tr style=\"text-align: right;\">\n",
       "      <th></th>\n",
       "      <th>filename</th>\n",
       "      <th>label</th>\n",
       "      <th>funcs</th>\n",
       "    </tr>\n",
       "  </thead>\n",
       "  <tbody>\n",
       "    <tr>\n",
       "      <th>0</th>\n",
       "      <td>G-cdp.dll</td>\n",
       "      <td>GOODWARE</td>\n",
       "      <td>_initterm_e _initterm _o__localtime64 _o__lock...</td>\n",
       "    </tr>\n",
       "    <tr>\n",
       "      <th>1</th>\n",
       "      <td>R-f0cd7710ff81d06494b7130e510dbdd80503aa290be1...</td>\n",
       "      <td>MALWARE</td>\n",
       "      <td>LoadLibraryA ExitProcess GetProcAddress Virtua...</td>\n",
       "    </tr>\n",
       "    <tr>\n",
       "      <th>2</th>\n",
       "      <td>G-ConnectedAccountState.dll</td>\n",
       "      <td>GOODWARE</td>\n",
       "      <td>_unlock __C_specific_handler __dllonexit _amsg...</td>\n",
       "    </tr>\n",
       "    <tr>\n",
       "      <th>3</th>\n",
       "      <td>G-MapControlCore.dll</td>\n",
       "      <td>GOODWARE</td>\n",
       "      <td>_initterm _initterm_e _o__purecall _o__registe...</td>\n",
       "    </tr>\n",
       "    <tr>\n",
       "      <th>4</th>\n",
       "      <td>G-amsiproxy.dll</td>\n",
       "      <td>GOODWARE</td>\n",
       "      <td>__C_specific_handler malloc free _amsg_exit _i...</td>\n",
       "    </tr>\n",
       "    <tr>\n",
       "      <th>...</th>\n",
       "      <td>...</td>\n",
       "      <td>...</td>\n",
       "      <td>...</td>\n",
       "    </tr>\n",
       "    <tr>\n",
       "      <th>1148</th>\n",
       "      <td>G-cmd.exe</td>\n",
       "      <td>GOODWARE</td>\n",
       "      <td>__set_app_type __getmainargs _amsg_exit _XcptF...</td>\n",
       "    </tr>\n",
       "    <tr>\n",
       "      <th>1149</th>\n",
       "      <td>G-Microsoft.Management.Infrastructure.Native.U...</td>\n",
       "      <td>GOODWARE</td>\n",
       "      <td>_initterm malloc __C_specific_handler _XcptFil...</td>\n",
       "    </tr>\n",
       "    <tr>\n",
       "      <th>1150</th>\n",
       "      <td>G-msasn1.dll</td>\n",
       "      <td>GOODWARE</td>\n",
       "      <td>_ui64toa _ultoa _vsnprintf _atoi64 strchr memm...</td>\n",
       "    </tr>\n",
       "    <tr>\n",
       "      <th>1151</th>\n",
       "      <td>R-9491c91cae1e9ad06eeba4463f79aaeb35329c72a24d...</td>\n",
       "      <td>MALWARE</td>\n",
       "      <td>RegCreateKeyExA RegEnumKeyA RegQueryValueExA R...</td>\n",
       "    </tr>\n",
       "    <tr>\n",
       "      <th>1152</th>\n",
       "      <td>G-mtxoci.dll</td>\n",
       "      <td>GOODWARE</td>\n",
       "      <td>CoTaskMemFree StringFromGUID2 CoTaskMemAlloc C...</td>\n",
       "    </tr>\n",
       "  </tbody>\n",
       "</table>\n",
       "<p>1153 rows × 3 columns</p>\n",
       "</div>"
      ],
      "text/plain": [
       "                                               filename     label  \\\n",
       "0                                             G-cdp.dll  GOODWARE   \n",
       "1     R-f0cd7710ff81d06494b7130e510dbdd80503aa290be1...   MALWARE   \n",
       "2                           G-ConnectedAccountState.dll  GOODWARE   \n",
       "3                                  G-MapControlCore.dll  GOODWARE   \n",
       "4                                       G-amsiproxy.dll  GOODWARE   \n",
       "...                                                 ...       ...   \n",
       "1148                                          G-cmd.exe  GOODWARE   \n",
       "1149  G-Microsoft.Management.Infrastructure.Native.U...  GOODWARE   \n",
       "1150                                       G-msasn1.dll  GOODWARE   \n",
       "1151  R-9491c91cae1e9ad06eeba4463f79aaeb35329c72a24d...   MALWARE   \n",
       "1152                                       G-mtxoci.dll  GOODWARE   \n",
       "\n",
       "                                                  funcs  \n",
       "0     _initterm_e _initterm _o__localtime64 _o__lock...  \n",
       "1     LoadLibraryA ExitProcess GetProcAddress Virtua...  \n",
       "2     _unlock __C_specific_handler __dllonexit _amsg...  \n",
       "3     _initterm _initterm_e _o__purecall _o__registe...  \n",
       "4     __C_specific_handler malloc free _amsg_exit _i...  \n",
       "...                                                 ...  \n",
       "1148  __set_app_type __getmainargs _amsg_exit _XcptF...  \n",
       "1149  _initterm malloc __C_specific_handler _XcptFil...  \n",
       "1150  _ui64toa _ultoa _vsnprintf _atoi64 strchr memm...  \n",
       "1151  RegCreateKeyExA RegEnumKeyA RegQueryValueExA R...  \n",
       "1152  CoTaskMemFree StringFromGUID2 CoTaskMemAlloc C...  \n",
       "\n",
       "[1153 rows x 3 columns]"
      ]
     },
     "execution_count": 6,
     "metadata": {},
     "output_type": "execute_result"
    }
   ],
   "source": [
    "train"
   ]
  },
  {
   "cell_type": "code",
   "execution_count": 7,
   "metadata": {},
   "outputs": [],
   "source": [
    "vectorizer = CountVectorizer(lowercase=False)\n",
    "train_vectors = vectorizer.fit_transform(train['funcs'])"
   ]
  },
  {
   "cell_type": "code",
   "execution_count": 8,
   "metadata": {},
   "outputs": [
    {
     "name": "stderr",
     "output_type": "stream",
     "text": [
      "/home/joao/.local/lib/python3.10/site-packages/sklearn/utils/deprecation.py:87: FutureWarning: Function get_feature_names is deprecated; get_feature_names is deprecated in 1.0 and will be removed in 1.2. Please use get_feature_names_out instead.\n",
      "  warnings.warn(msg, category=FutureWarning)\n"
     ]
    }
   ],
   "source": [
    "# export the ordered list of features used by the vectorizer\n",
    "with open('feature_names.txt', 'w') as f:\n",
    "    for feature in vectorizer.get_feature_names():\n",
    "        f.write(feature + '\\n')"
   ]
  },
  {
   "cell_type": "code",
   "execution_count": 9,
   "metadata": {},
   "outputs": [
    {
     "name": "stdout",
     "output_type": "stream",
     "text": [
      "[8923 8922 9075 9077 9082 9087 9090 9092 9095 9101 9107 9110 9648 9151\n",
      " 9154 9155 9156 9164 9168 9172 9174 9189 9197 9199 9200 9201 9210 9215\n",
      " 9224 9228 9230 9231 9236 9237 9239 9241 9252 8568 9061 9059 9055 9049\n",
      " 9048 9044 9041 9039 9037 9070 9069 9650 8643 8644 9646 9757 9771 9847\n",
      " 8571 8527 9032 9031 9030 9029 9027 9021 9020 9019 9067 9066 8581 9647\n",
      " 2961 4201 2413 1760 4193 2359 4226 2956 2958 3059 4867 4856  622 4890\n",
      "  626  620 4868 3513  623 3511  618  625 4869 4892  621 3509  619 4859\n",
      "  624 6301 4870 5818 2741 3958 2742 7277 5383 7678 2745 5372 2747 2707\n",
      " 2915 3174 3226 3267 3176 3773 6631 6764 6386 5395 3932 7286 7174 7769\n",
      " 5875 2909 7855 7856 8518 8535 8548 8542 8554 8537 8515 8517 8543 8566\n",
      " 8522 8534 8521 8516 8524 8520 8519 8523 8553 8536 8514 8552 8551 8555\n",
      " 8540 8538 8539 9770 9766 9311 9436 2917 3173 2395 7467 2060 1230 4171\n",
      " 3766  174 1231 5377 6200 6148 8178 7139 1188 6146 6143 8177  173 1657\n",
      " 1189 3774 6147 1276 6002 6040 6064 6054 6031 1008 1014 1007  931  929\n",
      " 1006 1287  570 1005 7593  930 6220  966  999 3489 2182 2177 2179 2178\n",
      " 2180  702  720  673  670  692  650  727  659  667  711  707  699  700\n",
      "  706  657  668  736 4840 4819 4837 4838 4828 4829 4822 4831 1192 1196\n",
      " 2839 7147 1173 7148 8338 7129 2829 5975 2383  830 6222 7233 8305 8306\n",
      " 8311 8307 6219 6215 3420 3424 3065 4194 3257 4232 1918 2913 6212 3233\n",
      " 1122 2607 7281 1296  842 8180 9567 8123 9707 9606 2609 8117 8127 9498\n",
      " 8113 2970 2402 8092 9424 8104 9437 8121 8119 8125 8126 9566 9502 8084\n",
      " 9562 8101 8114 8102 9738 9496 1054 5669  642 3094 1214 1740 6907 8270\n",
      " 8263 8255 8257 8264 8258 8273 8256 8261 8266 8267 8271 8275 8269 8274\n",
      " 3319 2225 5256 5254 5232 5251 5257 5231 5259 5258 5233 5234 5255 7801\n",
      " 6132 7802 8453  249  250 7717 8449 6766 6563 8451 7706 6370 8450 7698\n",
      " 6767 8448 6666 6652 6528 6749 5160 6730 6507 2149 2150 2147 9807 8452\n",
      " 2739 6932  337  359  349  331  336  341  366  346  333  350  345  334\n",
      "  338  357  365  363  353  347  355  332  356  351 1652 6203  260]\n",
      "GetEnabledXStateFeatures\n",
      "G-cdp.dll\n"
     ]
    }
   ],
   "source": [
    "# Print train_vectors index that are not zero\n",
    "print(train_vectors[0].nonzero()[1])\n",
    "print(vectorizer.get_feature_names()[2800])\n",
    "\n",
    "print(train.iloc[0]['filename'])\n"
   ]
  },
  {
   "cell_type": "code",
   "execution_count": 10,
   "metadata": {},
   "outputs": [],
   "source": [
    "# For each row in train datatable, write a new file in the export directory\n",
    "\n",
    "for index, row in train.iterrows():\n",
    "    filename = row['filename']\n",
    "    # Create file in export directory \n",
    "    with open(os.path.join(export_dt_dir_name, filename), 'w') as f:\n",
    "        # write train_vectors list as a string in the file\n",
    "        f.write(''.join([str(x) * 1 for x in train_vectors[index].toarray()[0]]))"
   ]
  }
 ],
 "metadata": {
  "kernelspec": {
   "display_name": "Python 3",
   "language": "python",
   "name": "python3"
  },
  "language_info": {
   "codemirror_mode": {
    "name": "ipython",
    "version": 3
   },
   "file_extension": ".py",
   "mimetype": "text/x-python",
   "name": "python",
   "nbconvert_exporter": "python",
   "pygments_lexer": "ipython3",
   "version": "3.10.6"
  },
  "orig_nbformat": 4
 },
 "nbformat": 4,
 "nbformat_minor": 2
}
