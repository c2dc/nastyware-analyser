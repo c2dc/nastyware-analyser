{
 "cells": [
  {
   "attachments": {},
   "cell_type": "markdown",
   "metadata": {},
   "source": [
    "# Notebook para testar a classificacao por clusters"
   ]
  },
  {
   "cell_type": "code",
   "execution_count": 212,
   "metadata": {},
   "outputs": [],
   "source": [
    "import sys\n",
    "import os\n",
    "import pandas as pd\n",
    "import numpy as np\n",
    "import seaborn as sns\n",
    "from itertools import combinations\n",
    "from sklearn.feature_extraction.text import TfidfVectorizer\n",
    "from sklearn.tree import DecisionTreeClassifier, plot_tree\n",
    "from sklearn.model_selection import train_test_split\n",
    "from sklearn.metrics import accuracy_score, confusion_matrix, f1_score\n",
    "import matplotlib.pyplot as plt\n",
    "\n",
    "import yara\n",
    "import yara_tools"
   ]
  },
  {
   "cell_type": "code",
   "execution_count": 213,
   "metadata": {},
   "outputs": [],
   "source": [
    "TRAIN_DIR = '/archive/files/nastyware-files-mix/mix-import/'\n",
    "TEST_MALWARE_DIR = '/archive/files/nastyware-files/import-malware-bazaar-2021-01-to-2021-02/'\n",
    "TEST_GOODWARE_DIR = '/archive/files/nastyware-files/import-windows-server-2016/'"
   ]
  },
  {
   "cell_type": "code",
   "execution_count": 214,
   "metadata": {},
   "outputs": [],
   "source": [
    "# !./pe-analyser.py --folder $TRAIN_DIR"
   ]
  },
  {
   "cell_type": "code",
   "execution_count": 215,
   "metadata": {},
   "outputs": [],
   "source": [
    "node_clustering_fn = 'node_clustering_fastgreedy.txt'\n",
    "\n",
    "lines = open(node_clustering_fn, 'r').readlines()\n",
    "lines = lines[1:]\n",
    "\n",
    "clusters = [[el.strip() for el in line.strip().split(',') if not el.strip().startswith('-')] for line in lines]"
   ]
  },
  {
   "cell_type": "code",
   "execution_count": 216,
   "metadata": {},
   "outputs": [],
   "source": [
    "EPSILON = 1"
   ]
  },
  {
   "cell_type": "code",
   "execution_count": 217,
   "metadata": {},
   "outputs": [],
   "source": [
    "mostly_malware_clusters = []\n",
    "\n",
    "for cluster in clusters:\n",
    "    if len(cluster) > 1:\n",
    "        malware_count = 0\n",
    "        for node in cluster:\n",
    "            if node.startswith('R-'):\n",
    "                malware_count += 1\n",
    "\n",
    "        # Verificar a frequencia com que sera adicionado no cluster\n",
    "        if malware_count >= EPSILON * len(cluster):\n",
    "            mostly_malware_clusters.append(cluster)\n",
    "\n",
    "# mostly_malware_clusters"
   ]
  },
  {
   "attachments": {},
   "cell_type": "markdown",
   "metadata": {},
   "source": [
    "---\n",
    "\n",
    "## Primeiro teste - Decision Tree"
   ]
  },
  {
   "attachments": {},
   "cell_type": "markdown",
   "metadata": {},
   "source": [
    "### Treinando o classificador"
   ]
  },
  {
   "cell_type": "code",
   "execution_count": 218,
   "metadata": {},
   "outputs": [],
   "source": [
    "func_dict = {}"
   ]
  },
  {
   "cell_type": "code",
   "execution_count": 219,
   "metadata": {},
   "outputs": [],
   "source": [
    "def ld_data(dir_name, files, label=None):\n",
    "    # Load data in files from directory dir_name in a pandas dataframe\n",
    "    df = pd.DataFrame()\n",
    "    for filename in files:\n",
    "        funcs = []\n",
    "        with open(os.path.join(dir_name, filename), 'r') as f:\n",
    "            lines = f.read().splitlines()\n",
    "            \n",
    "            for line in lines:\n",
    "                lib, func = line.split(' ')\n",
    "                if '@' in func or '?' in func:\n",
    "                    continue\n",
    "\n",
    "                if not func.lower() in func_dict:\n",
    "                    func_dict[func.lower()] = [(lib, func)]\n",
    "                else:\n",
    "                    func_dict[func.lower()].append((lib, func))\n",
    "\n",
    "                funcs.append(func)\n",
    "\n",
    "        # label = 'MALWARE' if filename.startswith('R') else 'GOODWARE'\n",
    "        df = pd.concat([df, pd.DataFrame({'filename': filename, 'label': label, 'funcs': ' '.join(funcs)}, index=[0])], ignore_index=True)\n",
    "        \n",
    "    return df"
   ]
  },
  {
   "cell_type": "code",
   "execution_count": 220,
   "metadata": {},
   "outputs": [],
   "source": [
    "malware_clusters_df = [ld_data(TRAIN_DIR, cluster, str(i)) for i, cluster in enumerate(mostly_malware_clusters)]\n",
    "rest_df = ld_data(TRAIN_DIR, [f for f in os.listdir(TRAIN_DIR) if not any([f in cluster for cluster in mostly_malware_clusters])], '-1')\n",
    "\n",
    "# Concat in rest_df all malware_clusters_df\n",
    "df = pd.concat([rest_df] + malware_clusters_df, ignore_index=True)"
   ]
  },
  {
   "cell_type": "code",
   "execution_count": 221,
   "metadata": {},
   "outputs": [
    {
     "data": {
      "text/html": [
       "<div>\n",
       "<style scoped>\n",
       "    .dataframe tbody tr th:only-of-type {\n",
       "        vertical-align: middle;\n",
       "    }\n",
       "\n",
       "    .dataframe tbody tr th {\n",
       "        vertical-align: top;\n",
       "    }\n",
       "\n",
       "    .dataframe thead th {\n",
       "        text-align: right;\n",
       "    }\n",
       "</style>\n",
       "<table border=\"1\" class=\"dataframe\">\n",
       "  <thead>\n",
       "    <tr style=\"text-align: right;\">\n",
       "      <th></th>\n",
       "      <th>filename</th>\n",
       "      <th>label</th>\n",
       "      <th>funcs</th>\n",
       "    </tr>\n",
       "  </thead>\n",
       "  <tbody>\n",
       "    <tr>\n",
       "      <th>0</th>\n",
       "      <td>G-CNBJOPAD.DLL</td>\n",
       "      <td>-1</td>\n",
       "      <td>_lock _unlock __dllonexit __C_specific_handler...</td>\n",
       "    </tr>\n",
       "    <tr>\n",
       "      <th>1</th>\n",
       "      <td>G-Register-CimProvider.exe</td>\n",
       "      <td>-1</td>\n",
       "      <td>wprintf _except_handler4_common _controlfp _in...</td>\n",
       "    </tr>\n",
       "    <tr>\n",
       "      <th>2</th>\n",
       "      <td>G-PrintManagementProvider.dll</td>\n",
       "      <td>-1</td>\n",
       "      <td>_amsg_exit wcstol _itow_s _XcptFilter malloc f...</td>\n",
       "    </tr>\n",
       "    <tr>\n",
       "      <th>3</th>\n",
       "      <td>G-asycfilt.dll</td>\n",
       "      <td>-1</td>\n",
       "      <td>memcpy memset _except_handler4_common _initter...</td>\n",
       "    </tr>\n",
       "    <tr>\n",
       "      <th>4</th>\n",
       "      <td>G-WMVXENCD.DLL</td>\n",
       "      <td>-1</td>\n",
       "      <td>_unlock __dllonexit _lock asctime fflush fclos...</td>\n",
       "    </tr>\n",
       "    <tr>\n",
       "      <th>...</th>\n",
       "      <td>...</td>\n",
       "      <td>...</td>\n",
       "      <td>...</td>\n",
       "    </tr>\n",
       "    <tr>\n",
       "      <th>118</th>\n",
       "      <td>R-b4a9843d6c2869da17c9fb36d3aae7b869f3df444280...</td>\n",
       "      <td>12</td>\n",
       "      <td>system memcpy _exit _XcptFilter exit __p___ini...</td>\n",
       "    </tr>\n",
       "    <tr>\n",
       "      <th>119</th>\n",
       "      <td>R-5d1414b47d88e95ae6612d3fc211c29b35cc5db4a8a9...</td>\n",
       "      <td>12</td>\n",
       "      <td>OpenProcessToken LookupPrivilegeValueA wsprint...</td>\n",
       "    </tr>\n",
       "    <tr>\n",
       "      <th>120</th>\n",
       "      <td>R-63453d440a7ade8b0e6ea3cdc46459fa69dce6b91611...</td>\n",
       "      <td>12</td>\n",
       "      <td>htons bind WSASocketW ntohs shutdown ntohl hto...</td>\n",
       "    </tr>\n",
       "    <tr>\n",
       "      <th>121</th>\n",
       "      <td>R-3a54b464379ff2e2ca7795a14f76b91fb7a4624dcc38...</td>\n",
       "      <td>13</td>\n",
       "      <td>VarBstrFromI4 CryptVerifyMessageSignature Cert...</td>\n",
       "    </tr>\n",
       "    <tr>\n",
       "      <th>122</th>\n",
       "      <td>R-5e7d149b580e06b1a2f97e7e1735c9b53183134d24ed...</td>\n",
       "      <td>13</td>\n",
       "      <td>VarBstrFromI4 CryptVerifyMessageSignature Cert...</td>\n",
       "    </tr>\n",
       "  </tbody>\n",
       "</table>\n",
       "<p>123 rows × 3 columns</p>\n",
       "</div>"
      ],
      "text/plain": [
       "                                              filename label  \\\n",
       "0                                       G-CNBJOPAD.DLL    -1   \n",
       "1                           G-Register-CimProvider.exe    -1   \n",
       "2                        G-PrintManagementProvider.dll    -1   \n",
       "3                                       G-asycfilt.dll    -1   \n",
       "4                                       G-WMVXENCD.DLL    -1   \n",
       "..                                                 ...   ...   \n",
       "118  R-b4a9843d6c2869da17c9fb36d3aae7b869f3df444280...    12   \n",
       "119  R-5d1414b47d88e95ae6612d3fc211c29b35cc5db4a8a9...    12   \n",
       "120  R-63453d440a7ade8b0e6ea3cdc46459fa69dce6b91611...    12   \n",
       "121  R-3a54b464379ff2e2ca7795a14f76b91fb7a4624dcc38...    13   \n",
       "122  R-5e7d149b580e06b1a2f97e7e1735c9b53183134d24ed...    13   \n",
       "\n",
       "                                                 funcs  \n",
       "0    _lock _unlock __dllonexit __C_specific_handler...  \n",
       "1    wprintf _except_handler4_common _controlfp _in...  \n",
       "2    _amsg_exit wcstol _itow_s _XcptFilter malloc f...  \n",
       "3    memcpy memset _except_handler4_common _initter...  \n",
       "4    _unlock __dllonexit _lock asctime fflush fclos...  \n",
       "..                                                 ...  \n",
       "118  system memcpy _exit _XcptFilter exit __p___ini...  \n",
       "119  OpenProcessToken LookupPrivilegeValueA wsprint...  \n",
       "120  htons bind WSASocketW ntohs shutdown ntohl hto...  \n",
       "121  VarBstrFromI4 CryptVerifyMessageSignature Cert...  \n",
       "122  VarBstrFromI4 CryptVerifyMessageSignature Cert...  \n",
       "\n",
       "[123 rows x 3 columns]"
      ]
     },
     "execution_count": 221,
     "metadata": {},
     "output_type": "execute_result"
    }
   ],
   "source": [
    "df"
   ]
  },
  {
   "cell_type": "code",
   "execution_count": 222,
   "metadata": {},
   "outputs": [
    {
     "data": {
      "text/html": [
       "<style>#sk-container-id-13 {color: black;background-color: white;}#sk-container-id-13 pre{padding: 0;}#sk-container-id-13 div.sk-toggleable {background-color: white;}#sk-container-id-13 label.sk-toggleable__label {cursor: pointer;display: block;width: 100%;margin-bottom: 0;padding: 0.3em;box-sizing: border-box;text-align: center;}#sk-container-id-13 label.sk-toggleable__label-arrow:before {content: \"▸\";float: left;margin-right: 0.25em;color: #696969;}#sk-container-id-13 label.sk-toggleable__label-arrow:hover:before {color: black;}#sk-container-id-13 div.sk-estimator:hover label.sk-toggleable__label-arrow:before {color: black;}#sk-container-id-13 div.sk-toggleable__content {max-height: 0;max-width: 0;overflow: hidden;text-align: left;background-color: #f0f8ff;}#sk-container-id-13 div.sk-toggleable__content pre {margin: 0.2em;color: black;border-radius: 0.25em;background-color: #f0f8ff;}#sk-container-id-13 input.sk-toggleable__control:checked~div.sk-toggleable__content {max-height: 200px;max-width: 100%;overflow: auto;}#sk-container-id-13 input.sk-toggleable__control:checked~label.sk-toggleable__label-arrow:before {content: \"▾\";}#sk-container-id-13 div.sk-estimator input.sk-toggleable__control:checked~label.sk-toggleable__label {background-color: #d4ebff;}#sk-container-id-13 div.sk-label input.sk-toggleable__control:checked~label.sk-toggleable__label {background-color: #d4ebff;}#sk-container-id-13 input.sk-hidden--visually {border: 0;clip: rect(1px 1px 1px 1px);clip: rect(1px, 1px, 1px, 1px);height: 1px;margin: -1px;overflow: hidden;padding: 0;position: absolute;width: 1px;}#sk-container-id-13 div.sk-estimator {font-family: monospace;background-color: #f0f8ff;border: 1px dotted black;border-radius: 0.25em;box-sizing: border-box;margin-bottom: 0.5em;}#sk-container-id-13 div.sk-estimator:hover {background-color: #d4ebff;}#sk-container-id-13 div.sk-parallel-item::after {content: \"\";width: 100%;border-bottom: 1px solid gray;flex-grow: 1;}#sk-container-id-13 div.sk-label:hover label.sk-toggleable__label {background-color: #d4ebff;}#sk-container-id-13 div.sk-serial::before {content: \"\";position: absolute;border-left: 1px solid gray;box-sizing: border-box;top: 0;bottom: 0;left: 50%;z-index: 0;}#sk-container-id-13 div.sk-serial {display: flex;flex-direction: column;align-items: center;background-color: white;padding-right: 0.2em;padding-left: 0.2em;position: relative;}#sk-container-id-13 div.sk-item {position: relative;z-index: 1;}#sk-container-id-13 div.sk-parallel {display: flex;align-items: stretch;justify-content: center;background-color: white;position: relative;}#sk-container-id-13 div.sk-item::before, #sk-container-id-13 div.sk-parallel-item::before {content: \"\";position: absolute;border-left: 1px solid gray;box-sizing: border-box;top: 0;bottom: 0;left: 50%;z-index: -1;}#sk-container-id-13 div.sk-parallel-item {display: flex;flex-direction: column;z-index: 1;position: relative;background-color: white;}#sk-container-id-13 div.sk-parallel-item:first-child::after {align-self: flex-end;width: 50%;}#sk-container-id-13 div.sk-parallel-item:last-child::after {align-self: flex-start;width: 50%;}#sk-container-id-13 div.sk-parallel-item:only-child::after {width: 0;}#sk-container-id-13 div.sk-dashed-wrapped {border: 1px dashed gray;margin: 0 0.4em 0.5em 0.4em;box-sizing: border-box;padding-bottom: 0.4em;background-color: white;}#sk-container-id-13 div.sk-label label {font-family: monospace;font-weight: bold;display: inline-block;line-height: 1.2em;}#sk-container-id-13 div.sk-label-container {text-align: center;}#sk-container-id-13 div.sk-container {/* jupyter's `normalize.less` sets `[hidden] { display: none; }` but bootstrap.min.css set `[hidden] { display: none !important; }` so we also need the `!important` here to be able to override the default hidden behavior on the sphinx rendered scikit-learn.org. See: https://github.com/scikit-learn/scikit-learn/issues/21755 */display: inline-block !important;position: relative;}#sk-container-id-13 div.sk-text-repr-fallback {display: none;}</style><div id=\"sk-container-id-13\" class=\"sk-top-container\"><div class=\"sk-text-repr-fallback\"><pre>DecisionTreeClassifier(criterion=&#x27;entropy&#x27;)</pre><b>In a Jupyter environment, please rerun this cell to show the HTML representation or trust the notebook. <br />On GitHub, the HTML representation is unable to render, please try loading this page with nbviewer.org.</b></div><div class=\"sk-container\" hidden><div class=\"sk-item\"><div class=\"sk-estimator sk-toggleable\"><input class=\"sk-toggleable__control sk-hidden--visually\" id=\"sk-estimator-id-13\" type=\"checkbox\" checked><label for=\"sk-estimator-id-13\" class=\"sk-toggleable__label sk-toggleable__label-arrow\">DecisionTreeClassifier</label><div class=\"sk-toggleable__content\"><pre>DecisionTreeClassifier(criterion=&#x27;entropy&#x27;)</pre></div></div></div></div></div>"
      ],
      "text/plain": [
       "DecisionTreeClassifier(criterion='entropy')"
      ]
     },
     "execution_count": 222,
     "metadata": {},
     "output_type": "execute_result"
    }
   ],
   "source": [
    "# Mudar isso para um BAG OF WORDS\n",
    "vectorizer = TfidfVectorizer()\n",
    "df_vectors = vectorizer.fit_transform(df['funcs']).ceil()\n",
    "\n",
    "classifier = DecisionTreeClassifier(criterion='entropy')\n",
    "classifier.fit(df_vectors, df['label'])"
   ]
  },
  {
   "cell_type": "code",
   "execution_count": 223,
   "metadata": {},
   "outputs": [
    {
     "name": "stderr",
     "output_type": "stream",
     "text": [
      "/home/joao/.local/lib/python3.10/site-packages/sklearn/utils/deprecation.py:87: FutureWarning: Function get_feature_names is deprecated; get_feature_names is deprecated in 1.0 and will be removed in 1.2. Please use get_feature_names_out instead.\n",
      "  warnings.warn(msg, category=FutureWarning)\n"
     ]
    },
    {
     "data": {
      "image/png": "[encoded data removed]",
      "text/plain": [
       "<Figure size 432x288 with 1 Axes>"
      ]
     },
     "metadata": {
      "needs_background": "light"
     },
     "output_type": "display_data"
    }
   ],
   "source": [
    "fn = vectorizer.get_feature_names()\n",
    "cn = df['label'].unique()\n",
    "\n",
    "plot_tree(classifier,\n",
    "               feature_names = fn,\n",
    "               class_names=cn,\n",
    "               filled = True);\n",
    "\n",
    "plt.savefig('asdf.svg')"
   ]
  },
  {
   "attachments": {},
   "cell_type": "markdown",
   "metadata": {},
   "source": [
    "### Testando o classificador"
   ]
  },
  {
   "cell_type": "code",
   "execution_count": 224,
   "metadata": {},
   "outputs": [],
   "source": [
    "test_mw = ld_data(TEST_MALWARE_DIR, os.listdir(TEST_MALWARE_DIR), 'MALWARE')\n",
    "test_gw = ld_data(TEST_GOODWARE_DIR, os.listdir(TEST_GOODWARE_DIR), 'GOODWARE')\n",
    "\n",
    "test_df = pd.concat([test_mw, test_gw], ignore_index=True)"
   ]
  },
  {
   "cell_type": "code",
   "execution_count": 225,
   "metadata": {},
   "outputs": [],
   "source": [
    "test_mw_vectors = vectorizer.transform(test_mw['funcs']).ceil()\n",
    "test_gw_vectors = vectorizer.transform(test_gw['funcs']).ceil()\n",
    "test_vectors = vectorizer.transform(test_df['funcs']).ceil()\n",
    "\n",
    "pred_mw = classifier.predict(test_mw_vectors)\n",
    "pred_gw = classifier.predict(test_gw_vectors)\n",
    "pred = classifier.predict(test_vectors)\n",
    "\n",
    "pred_mw = ['MALWARE' if p != '-1' else 'GOODWARE' for p in pred_mw]\n",
    "pred_gw = ['MALWARE' if p != '-1' else 'GOODWARE' for p in pred_gw]\n",
    "pred = ['MALWARE' if p != '-1' else 'GOODWARE' for p in pred]"
   ]
  },
  {
   "cell_type": "code",
   "execution_count": 226,
   "metadata": {},
   "outputs": [
    {
     "name": "stdout",
     "output_type": "stream",
     "text": [
      "Accuracy total: 0.6421489093203533\n",
      "Accuracy malware: 0.29141938674579626\n",
      "Accuracy goodware: 0.9738103589383842\n",
      "F1 score: 0.5933673899524938\n"
     ]
    }
   ],
   "source": [
    "print('Accuracy total: {}'.format(accuracy_score(test_df['label'], pred)))\n",
    "print('Accuracy malware: {}'.format(accuracy_score(test_mw['label'], pred_mw)))\n",
    "print('Accuracy goodware: {}'.format(accuracy_score(test_gw['label'], pred_gw)))\n",
    "print('F1 score: {}'.format(f1_score(test_df['label'], pred, average='weighted')))"
   ]
  },
  {
   "attachments": {},
   "cell_type": "markdown",
   "metadata": {},
   "source": [
    "### Criando regras YARA"
   ]
  },
  {
   "cell_type": "code",
   "execution_count": 227,
   "metadata": {},
   "outputs": [],
   "source": [
    "n_nodes = classifier.tree_.node_count\n",
    "children_left = classifier.tree_.children_left\n",
    "children_right = classifier.tree_.children_right\n",
    "feature = classifier.tree_.feature\n",
    "threshold = classifier.tree_.threshold\n",
    "value = classifier.tree_.value\n",
    "impurity = classifier.tree_.impurity"
   ]
  },
  {
   "cell_type": "code",
   "execution_count": 228,
   "metadata": {},
   "outputs": [],
   "source": [
    "def find_path(node_numb, path, x):\n",
    "    path.append(node_numb)\n",
    "    if node_numb == x:\n",
    "        return True\n",
    "    left = False\n",
    "    right = False\n",
    "    if (children_left[node_numb] != -1):\n",
    "        left = find_path(children_left[node_numb], path, x)\n",
    "    if (children_right[node_numb] != -1):\n",
    "        right = find_path(children_right[node_numb], path, x)\n",
    "    if left or right:\n",
    "        return True\n",
    "    path.remove(node_numb)\n",
    "    return False\n",
    "\n",
    "def get_rule(path, column_names):\n",
    "    mask = ''\n",
    "    for index, node in enumerate(path):\n",
    "        if index != len(path) - 1:\n",
    "            if (children_left[node] == path[index+1]):\n",
    "                mask += \"(df['{}']<= {}) \\t \".format(column_names[feature[node]], threshold[node])\n",
    "            else:\n",
    "                mask += \"(df['{}']> {}) \\t \".format(column_names[feature[node]], threshold[node])\n",
    "    mask = mask.replace(\"\\t\", \"&\", mask.count(\"\\t\") - 1)\n",
    "    mask = mask.replace(\"\\t\", \"\")\n",
    "    return mask\n",
    "\n",
    "def get_yara_rule(rule, condition_group, path, column_names):\n",
    "    for index, node in enumerate(path):\n",
    "        if index != len(path) - 1:\n",
    "            func_lwr = column_names[feature[node]]\n",
    "            if (children_left[node] == path[index+1]):\n",
    "                rule.create_condition_group(name=\"{}_{}\".format(condition_group, index), parent_group=condition_group, default_boolean=\"and\")\n",
    "                for lib, func in func_dict[func_lwr]:\n",
    "                    rule.add_condition(f'not(pe.imports(\"{lib}\", \"{func}\"))', condition_group=\"{}_{}\".format(condition_group, index))\n",
    "            else:\n",
    "                rule.create_condition_group(name=\"{}_{}\".format(condition_group, index), parent_group=condition_group, default_boolean=\"or\")\n",
    "                for lib, func in func_dict[func_lwr]:\n",
    "                    rule.add_condition(f'pe.imports(\"{lib}\", \"{func}\")', condition_group=\"{}_{}\".format(condition_group, index))"
   ]
  },
  {
   "cell_type": "code",
   "execution_count": 229,
   "metadata": {},
   "outputs": [
    {
     "name": "stdout",
     "output_type": "stream",
     "text": [
      " drvnskm_rule rule_cluster_0{condition:((pe.imports('kernel32.dll', 'ExitProcess') or pe.imports('api-ms-win-core-processthreads-l1-1-2.dll', 'ExitProcess') or pe.imports('api-ms-win-core-processthreads-l1-1-1.dll', 'ExitProcess') or pe.imports('api-ms-win-core-processthreads-l1-1-0.dll', 'ExitProcess') or pe.imports('api-ms-win-downlevel-kernel32-l1-1-0.dll', 'ExitProcess')) and (pe.imports('kernel32.dll', 'GetConsoleCP') or pe.imports('api-ms-win-core-console-l1-1-0.dll', 'GetConsoleCP')) and (pe.imports('kernel32.dll', 'WaitForSingleObject') or pe.imports('api-ms-win-core-synch-l1-2-0.dll', 'WaitForSingleObject') or pe.imports('api-ms-win-core-synch-l1-1-0.dll', 'WaitForSingleObject') or pe.imports('api-ms-win-downlevel-kernel32-l1-1-0.dll', 'WaitForSingleObject') or pe.imports('rtmpal.dll', 'WaitForSingleObject') or pe.imports('kernelbase.dll', 'WaitForSingleObject')) and (not(pe.imports('kernel32.dll', 'PeekNamedPipe')) and not(pe.imports('api-ms-win-core-namedpipe-l1-2-0.dll', 'PeekNamedPipe')) and not(pe.imports('api-ms-win-core-namedpipe-l1-1-0.dll', 'PeekNamedPipe'))))} drvnskm_rule rule_cluster_1{condition:((pe.imports('kernel32.dll', 'ExitProcess') or pe.imports('api-ms-win-core-processthreads-l1-1-2.dll', 'ExitProcess') or pe.imports('api-ms-win-core-processthreads-l1-1-1.dll', 'ExitProcess') or pe.imports('api-ms-win-core-processthreads-l1-1-0.dll', 'ExitProcess') or pe.imports('api-ms-win-downlevel-kernel32-l1-1-0.dll', 'ExitProcess')) and (pe.imports('kernel32.dll', 'GetConsoleCP') or pe.imports('api-ms-win-core-console-l1-1-0.dll', 'GetConsoleCP')) and (not(pe.imports('kernel32.dll', 'WaitForSingleObject')) and not(pe.imports('api-ms-win-core-synch-l1-2-0.dll', 'WaitForSingleObject')) and not(pe.imports('api-ms-win-core-synch-l1-1-0.dll', 'WaitForSingleObject')) and not(pe.imports('api-ms-win-downlevel-kernel32-l1-1-0.dll', 'WaitForSingleObject')) and not(pe.imports('rtmpal.dll', 'WaitForSingleObject')) and not(pe.imports('kernelbase.dll', 'WaitForSingleObject'))) and (not(pe.imports('kernel32.dll', 'GetProcessHeap')) and not(pe.imports('api-ms-win-core-heap-l1-2-0.dll', 'GetProcessHeap')) and not(pe.imports('api-ms-win-core-heap-l1-1-0.dll', 'GetProcessHeap')) and not(pe.imports('api-ms-win-downlevel-kernel32-l1-1-0.dll', 'GetProcessHeap')) and not(pe.imports('rtmpal.dll', 'GetProcessHeap')) and not(pe.imports('kernelbase.dll', 'GetProcessHeap'))) and (pe.imports('wininet.dll', 'HttpAddRequestHeadersA')))} drvnskm_rule rule_cluster_1{condition:((pe.imports('kernel32.dll', 'ExitProcess') or pe.imports('api-ms-win-core-processthreads-l1-1-2.dll', 'ExitProcess') or pe.imports('api-ms-win-core-processthreads-l1-1-1.dll', 'ExitProcess') or pe.imports('api-ms-win-core-processthreads-l1-1-0.dll', 'ExitProcess') or pe.imports('api-ms-win-downlevel-kernel32-l1-1-0.dll', 'ExitProcess')) and (pe.imports('kernel32.dll', 'GetConsoleCP') or pe.imports('api-ms-win-core-console-l1-1-0.dll', 'GetConsoleCP')) and (not(pe.imports('kernel32.dll', 'WaitForSingleObject')) and not(pe.imports('api-ms-win-core-synch-l1-2-0.dll', 'WaitForSingleObject')) and not(pe.imports('api-ms-win-core-synch-l1-1-0.dll', 'WaitForSingleObject')) and not(pe.imports('api-ms-win-downlevel-kernel32-l1-1-0.dll', 'WaitForSingleObject')) and not(pe.imports('rtmpal.dll', 'WaitForSingleObject')) and not(pe.imports('kernelbase.dll', 'WaitForSingleObject'))) and (not(pe.imports('kernel32.dll', 'GetProcessHeap')) and not(pe.imports('api-ms-win-core-heap-l1-2-0.dll', 'GetProcessHeap')) and not(pe.imports('api-ms-win-core-heap-l1-1-0.dll', 'GetProcessHeap')) and not(pe.imports('api-ms-win-downlevel-kernel32-l1-1-0.dll', 'GetProcessHeap')) and not(pe.imports('rtmpal.dll', 'GetProcessHeap')) and not(pe.imports('kernelbase.dll', 'GetProcessHeap'))) and (pe.imports('wininet.dll', 'HttpAddRequestHeadersA'))) or ((pe.imports('kernel32.dll', 'ExitProcess') or pe.imports('api-ms-win-core-processthreads-l1-1-2.dll', 'ExitProcess') or pe.imports('api-ms-win-core-processthreads-l1-1-1.dll', 'ExitProcess') or pe.imports('api-ms-win-core-processthreads-l1-1-0.dll', 'ExitProcess') or pe.imports('api-ms-win-downlevel-kernel32-l1-1-0.dll', 'ExitProcess')) and (pe.imports('kernel32.dll', 'GetConsoleCP') or pe.imports('api-ms-win-core-console-l1-1-0.dll', 'GetConsoleCP')) and (pe.imports('kernel32.dll', 'WaitForSingleObject') or pe.imports('api-ms-win-core-synch-l1-2-0.dll', 'WaitForSingleObject') or pe.imports('api-ms-win-core-synch-l1-1-0.dll', 'WaitForSingleObject') or pe.imports('api-ms-win-downlevel-kernel32-l1-1-0.dll', 'WaitForSingleObject') or pe.imports('rtmpal.dll', 'WaitForSingleObject') or pe.imports('kernelbase.dll', 'WaitForSingleObject')) and (pe.imports('kernel32.dll', 'PeekNamedPipe') or pe.imports('api-ms-win-core-namedpipe-l1-2-0.dll', 'PeekNamedPipe') or pe.imports('api-ms-win-core-namedpipe-l1-1-0.dll', 'PeekNamedPipe')) and (not(pe.imports('advapi32.dll', 'InitializeSecurityDescriptor')) and not(pe.imports('api-ms-win-security-base-l1-2-0.dll', 'InitializeSecurityDescriptor')) and not(pe.imports('api-ms-win-security-base-l1-1-0.dll', 'InitializeSecurityDescriptor')) and not(pe.imports('api-ms-win-downlevel-advapi32-l1-1-1.dll', 'InitializeSecurityDescriptor')) and not(pe.imports('api-ms-win-downlevel-advapi32-l1-1-0.dll', 'InitializeSecurityDescriptor'))))} drvnskm_rule rule_cluster_2{condition:((pe.imports('kernel32.dll', 'ExitProcess') or pe.imports('api-ms-win-core-processthreads-l1-1-2.dll', 'ExitProcess') or pe.imports('api-ms-win-core-processthreads-l1-1-1.dll', 'ExitProcess') or pe.imports('api-ms-win-core-processthreads-l1-1-0.dll', 'ExitProcess') or pe.imports('api-ms-win-downlevel-kernel32-l1-1-0.dll', 'ExitProcess')) and (not(pe.imports('kernel32.dll', 'GetConsoleCP')) and not(pe.imports('api-ms-win-core-console-l1-1-0.dll', 'GetConsoleCP'))) and (not(pe.imports('kernel32.dll', 'SetEnvironmentVariableA')) and not(pe.imports('api-ms-win-core-processenvironment-l1-2-0.dll', 'SetEnvironmentVariableA')) and not(pe.imports('api-ms-win-core-processenvironment-l1-1-0.dll', 'SetEnvironmentVariableA'))) and (not(pe.imports('kernel32.dll', 'WaitForMultipleObjects')) and not(pe.imports('api-ms-win-core-kernel32-legacy-l1-1-0.dll', 'WaitForMultipleObjects')) and not(pe.imports('api-ms-win-core-synch-l1-2-1.dll', 'WaitForMultipleObjects')) and not(pe.imports('api-ms-win-core-kernel32-legacy-l1-1-1.dll', 'WaitForMultipleObjects'))) and (not(pe.imports('kernel32.dll', 'GetModuleHandleA')) and not(pe.imports('api-ms-win-core-libraryloader-l1-2-0.dll', 'GetModuleHandleA')) and not(pe.imports('kernel32', 'GetModuleHandleA')) and not(pe.imports('api-ms-win-core-libraryloader-l1-1-1.dll', 'GetModuleHandleA')) and not(pe.imports('api-ms-win-downlevel-kernel32-l1-1-0.dll', 'GetModuleHandleA')) and not(pe.imports('api-ms-win-core-libraryloader-l1-1-0.dll', 'GetModuleHandleA'))) and (not(pe.imports('advapi32.dll', 'RegOpenKeyExW')) and not(pe.imports('api-ms-win-core-registry-l1-1-0.dll', 'RegOpenKeyExW')) and not(pe.imports('api-ms-win-core-localregistry-l1-1-0.dll', 'RegOpenKeyExW')) and not(pe.imports('api-ms-win-downlevel-advapi32-l1-1-1.dll', 'RegOpenKeyExW')) and not(pe.imports('api-ms-win-downlevel-advapi32-l1-1-0.dll', 'RegOpenKeyExW')) and not(pe.imports('kernel32.dll', 'RegOpenKeyExW')) and not(pe.imports('rtmpal.dll', 'RegOpenKeyExW')) and not(pe.imports('kernelbase.dll', 'RegOpenKeyExW'))) and (not(pe.imports('gdi32.dll', 'GetBkColor'))))} drvnskm_rule rule_cluster_3{condition:((not(pe.imports('kernel32.dll', 'ExitProcess')) and not(pe.imports('api-ms-win-core-processthreads-l1-1-2.dll', 'ExitProcess')) and not(pe.imports('api-ms-win-core-processthreads-l1-1-1.dll', 'ExitProcess')) and not(pe.imports('api-ms-win-core-processthreads-l1-1-0.dll', 'ExitProcess')) and not(pe.imports('api-ms-win-downlevel-kernel32-l1-1-0.dll', 'ExitProcess'))) and (pe.imports('msvbvm60.dll', '_adj_fdiv_r')) and (pe.imports('msvbvm60.dll', '__vbaVarTstLt')))} drvnskm_rule rule_cluster_4{condition:((not(pe.imports('kernel32.dll', 'ExitProcess')) and not(pe.imports('api-ms-win-core-processthreads-l1-1-2.dll', 'ExitProcess')) and not(pe.imports('api-ms-win-core-processthreads-l1-1-1.dll', 'ExitProcess')) and not(pe.imports('api-ms-win-core-processthreads-l1-1-0.dll', 'ExitProcess')) and not(pe.imports('api-ms-win-downlevel-kernel32-l1-1-0.dll', 'ExitProcess'))) and (not(pe.imports('msvbvm60.dll', '_adj_fdiv_r'))) and (not(pe.imports('msvcrt.dll', '__p___initenv'))) and (pe.imports('shlwapi.dll', 'StrStrIA') or pe.imports('shell32.dll', 'StrStrIA') or pe.imports('api-ms-win-downlevel-shlwapi-l1-1-0.dll', 'StrStrIA') or pe.imports('api-ms-win-core-shlwapi-obsolete-l1-2-0.dll', 'StrStrIA')) and (not(pe.imports('gdi32.dll', 'RealizePalette'))))} drvnskm_rule rule_cluster_4{condition:((not(pe.imports('kernel32.dll', 'ExitProcess')) and not(pe.imports('api-ms-win-core-processthreads-l1-1-2.dll', 'ExitProcess')) and not(pe.imports('api-ms-win-core-processthreads-l1-1-1.dll', 'ExitProcess')) and not(pe.imports('api-ms-win-core-processthreads-l1-1-0.dll', 'ExitProcess')) and not(pe.imports('api-ms-win-downlevel-kernel32-l1-1-0.dll', 'ExitProcess'))) and (not(pe.imports('msvbvm60.dll', '_adj_fdiv_r'))) and (not(pe.imports('msvcrt.dll', '__p___initenv'))) and (pe.imports('shlwapi.dll', 'StrStrIA') or pe.imports('shell32.dll', 'StrStrIA') or pe.imports('api-ms-win-downlevel-shlwapi-l1-1-0.dll', 'StrStrIA') or pe.imports('api-ms-win-core-shlwapi-obsolete-l1-2-0.dll', 'StrStrIA')) and (not(pe.imports('gdi32.dll', 'RealizePalette')))) or ((not(pe.imports('kernel32.dll', 'ExitProcess')) and not(pe.imports('api-ms-win-core-processthreads-l1-1-2.dll', 'ExitProcess')) and not(pe.imports('api-ms-win-core-processthreads-l1-1-1.dll', 'ExitProcess')) and not(pe.imports('api-ms-win-core-processthreads-l1-1-0.dll', 'ExitProcess')) and not(pe.imports('api-ms-win-downlevel-kernel32-l1-1-0.dll', 'ExitProcess'))) and (not(pe.imports('msvbvm60.dll', '_adj_fdiv_r'))) and (pe.imports('msvcrt.dll', '__p___initenv')))} drvnskm_rule rule_cluster_6{condition:((pe.imports('kernel32.dll', 'ExitProcess') or pe.imports('api-ms-win-core-processthreads-l1-1-2.dll', 'ExitProcess') or pe.imports('api-ms-win-core-processthreads-l1-1-1.dll', 'ExitProcess') or pe.imports('api-ms-win-core-processthreads-l1-1-0.dll', 'ExitProcess') or pe.imports('api-ms-win-downlevel-kernel32-l1-1-0.dll', 'ExitProcess')) and (pe.imports('kernel32.dll', 'GetConsoleCP') or pe.imports('api-ms-win-core-console-l1-1-0.dll', 'GetConsoleCP')) and (not(pe.imports('kernel32.dll', 'WaitForSingleObject')) and not(pe.imports('api-ms-win-core-synch-l1-2-0.dll', 'WaitForSingleObject')) and not(pe.imports('api-ms-win-core-synch-l1-1-0.dll', 'WaitForSingleObject')) and not(pe.imports('api-ms-win-downlevel-kernel32-l1-1-0.dll', 'WaitForSingleObject')) and not(pe.imports('rtmpal.dll', 'WaitForSingleObject')) and not(pe.imports('kernelbase.dll', 'WaitForSingleObject'))) and (not(pe.imports('kernel32.dll', 'GetProcessHeap')) and not(pe.imports('api-ms-win-core-heap-l1-2-0.dll', 'GetProcessHeap')) and not(pe.imports('api-ms-win-core-heap-l1-1-0.dll', 'GetProcessHeap')) and not(pe.imports('api-ms-win-downlevel-kernel32-l1-1-0.dll', 'GetProcessHeap')) and not(pe.imports('rtmpal.dll', 'GetProcessHeap')) and not(pe.imports('kernelbase.dll', 'GetProcessHeap'))) and (not(pe.imports('wininet.dll', 'HttpAddRequestHeadersA'))))} drvnskm_rule rule_cluster_7{condition:((pe.imports('kernel32.dll', 'ExitProcess') or pe.imports('api-ms-win-core-processthreads-l1-1-2.dll', 'ExitProcess') or pe.imports('api-ms-win-core-processthreads-l1-1-1.dll', 'ExitProcess') or pe.imports('api-ms-win-core-processthreads-l1-1-0.dll', 'ExitProcess') or pe.imports('api-ms-win-downlevel-kernel32-l1-1-0.dll', 'ExitProcess')) and (pe.imports('kernel32.dll', 'GetConsoleCP') or pe.imports('api-ms-win-core-console-l1-1-0.dll', 'GetConsoleCP')) and (not(pe.imports('kernel32.dll', 'WaitForSingleObject')) and not(pe.imports('api-ms-win-core-synch-l1-2-0.dll', 'WaitForSingleObject')) and not(pe.imports('api-ms-win-core-synch-l1-1-0.dll', 'WaitForSingleObject')) and not(pe.imports('api-ms-win-downlevel-kernel32-l1-1-0.dll', 'WaitForSingleObject')) and not(pe.imports('rtmpal.dll', 'WaitForSingleObject')) and not(pe.imports('kernelbase.dll', 'WaitForSingleObject'))) and (pe.imports('kernel32.dll', 'GetProcessHeap') or pe.imports('api-ms-win-core-heap-l1-2-0.dll', 'GetProcessHeap') or pe.imports('api-ms-win-core-heap-l1-1-0.dll', 'GetProcessHeap') or pe.imports('api-ms-win-downlevel-kernel32-l1-1-0.dll', 'GetProcessHeap') or pe.imports('rtmpal.dll', 'GetProcessHeap') or pe.imports('kernelbase.dll', 'GetProcessHeap')))} drvnskm_rule rule_cluster_8{condition:((pe.imports('kernel32.dll', 'ExitProcess') or pe.imports('api-ms-win-core-processthreads-l1-1-2.dll', 'ExitProcess') or pe.imports('api-ms-win-core-processthreads-l1-1-1.dll', 'ExitProcess') or pe.imports('api-ms-win-core-processthreads-l1-1-0.dll', 'ExitProcess') or pe.imports('api-ms-win-downlevel-kernel32-l1-1-0.dll', 'ExitProcess')) and (not(pe.imports('kernel32.dll', 'GetConsoleCP')) and not(pe.imports('api-ms-win-core-console-l1-1-0.dll', 'GetConsoleCP'))) and (pe.imports('kernel32.dll', 'SetEnvironmentVariableA') or pe.imports('api-ms-win-core-processenvironment-l1-2-0.dll', 'SetEnvironmentVariableA') or pe.imports('api-ms-win-core-processenvironment-l1-1-0.dll', 'SetEnvironmentVariableA')) and (not(pe.imports('user32.dll', 'GetDlgItem'))) and (not(pe.imports('kernel32.dll', 'GetLocaleInfoW')) and not(pe.imports('api-ms-win-core-localization-l1-2-0.dll', 'GetLocaleInfoW')) and not(pe.imports('api-ms-win-core-localization-l1-2-1.dll', 'GetLocaleInfoW')) and not(pe.imports('api-ms-win-downlevel-kernel32-l1-1-0.dll', 'GetLocaleInfoW'))))} drvnskm_rule rule_cluster_8{condition:((pe.imports('kernel32.dll', 'ExitProcess') or pe.imports('api-ms-win-core-processthreads-l1-1-2.dll', 'ExitProcess') or pe.imports('api-ms-win-core-processthreads-l1-1-1.dll', 'ExitProcess') or pe.imports('api-ms-win-core-processthreads-l1-1-0.dll', 'ExitProcess') or pe.imports('api-ms-win-downlevel-kernel32-l1-1-0.dll', 'ExitProcess')) and (not(pe.imports('kernel32.dll', 'GetConsoleCP')) and not(pe.imports('api-ms-win-core-console-l1-1-0.dll', 'GetConsoleCP'))) and (pe.imports('kernel32.dll', 'SetEnvironmentVariableA') or pe.imports('api-ms-win-core-processenvironment-l1-2-0.dll', 'SetEnvironmentVariableA') or pe.imports('api-ms-win-core-processenvironment-l1-1-0.dll', 'SetEnvironmentVariableA')) and (not(pe.imports('user32.dll', 'GetDlgItem'))) and (not(pe.imports('kernel32.dll', 'GetLocaleInfoW')) and not(pe.imports('api-ms-win-core-localization-l1-2-0.dll', 'GetLocaleInfoW')) and not(pe.imports('api-ms-win-core-localization-l1-2-1.dll', 'GetLocaleInfoW')) and not(pe.imports('api-ms-win-downlevel-kernel32-l1-1-0.dll', 'GetLocaleInfoW')))) or ((pe.imports('kernel32.dll', 'ExitProcess') or pe.imports('api-ms-win-core-processthreads-l1-1-2.dll', 'ExitProcess') or pe.imports('api-ms-win-core-processthreads-l1-1-1.dll', 'ExitProcess') or pe.imports('api-ms-win-core-processthreads-l1-1-0.dll', 'ExitProcess') or pe.imports('api-ms-win-downlevel-kernel32-l1-1-0.dll', 'ExitProcess')) and (not(pe.imports('kernel32.dll', 'GetConsoleCP')) and not(pe.imports('api-ms-win-core-console-l1-1-0.dll', 'GetConsoleCP'))) and (pe.imports('kernel32.dll', 'SetEnvironmentVariableA') or pe.imports('api-ms-win-core-processenvironment-l1-2-0.dll', 'SetEnvironmentVariableA') or pe.imports('api-ms-win-core-processenvironment-l1-1-0.dll', 'SetEnvironmentVariableA')) and (not(pe.imports('user32.dll', 'GetDlgItem'))) and (pe.imports('kernel32.dll', 'GetLocaleInfoW') or pe.imports('api-ms-win-core-localization-l1-2-0.dll', 'GetLocaleInfoW') or pe.imports('api-ms-win-core-localization-l1-2-1.dll', 'GetLocaleInfoW') or pe.imports('api-ms-win-downlevel-kernel32-l1-1-0.dll', 'GetLocaleInfoW')))} drvnskm_rule rule_cluster_9{condition:((pe.imports('kernel32.dll', 'ExitProcess') or pe.imports('api-ms-win-core-processthreads-l1-1-2.dll', 'ExitProcess') or pe.imports('api-ms-win-core-processthreads-l1-1-1.dll', 'ExitProcess') or pe.imports('api-ms-win-core-processthreads-l1-1-0.dll', 'ExitProcess') or pe.imports('api-ms-win-downlevel-kernel32-l1-1-0.dll', 'ExitProcess')) and (not(pe.imports('kernel32.dll', 'GetConsoleCP')) and not(pe.imports('api-ms-win-core-console-l1-1-0.dll', 'GetConsoleCP'))) and (pe.imports('kernel32.dll', 'SetEnvironmentVariableA') or pe.imports('api-ms-win-core-processenvironment-l1-2-0.dll', 'SetEnvironmentVariableA') or pe.imports('api-ms-win-core-processenvironment-l1-1-0.dll', 'SetEnvironmentVariableA')) and (not(pe.imports('user32.dll', 'GetDlgItem'))) and (pe.imports('kernel32.dll', 'GetLocaleInfoW') or pe.imports('api-ms-win-core-localization-l1-2-0.dll', 'GetLocaleInfoW') or pe.imports('api-ms-win-core-localization-l1-2-1.dll', 'GetLocaleInfoW') or pe.imports('api-ms-win-downlevel-kernel32-l1-1-0.dll', 'GetLocaleInfoW')))} drvnskm_rule rule_cluster_10{condition:((pe.imports('kernel32.dll', 'ExitProcess') or pe.imports('api-ms-win-core-processthreads-l1-1-2.dll', 'ExitProcess') or pe.imports('api-ms-win-core-processthreads-l1-1-1.dll', 'ExitProcess') or pe.imports('api-ms-win-core-processthreads-l1-1-0.dll', 'ExitProcess') or pe.imports('api-ms-win-downlevel-kernel32-l1-1-0.dll', 'ExitProcess')) and (not(pe.imports('kernel32.dll', 'GetConsoleCP')) and not(pe.imports('api-ms-win-core-console-l1-1-0.dll', 'GetConsoleCP'))) and (not(pe.imports('kernel32.dll', 'SetEnvironmentVariableA')) and not(pe.imports('api-ms-win-core-processenvironment-l1-2-0.dll', 'SetEnvironmentVariableA')) and not(pe.imports('api-ms-win-core-processenvironment-l1-1-0.dll', 'SetEnvironmentVariableA'))) and (pe.imports('kernel32.dll', 'WaitForMultipleObjects') or pe.imports('api-ms-win-core-kernel32-legacy-l1-1-0.dll', 'WaitForMultipleObjects') or pe.imports('api-ms-win-core-synch-l1-2-1.dll', 'WaitForMultipleObjects') or pe.imports('api-ms-win-core-kernel32-legacy-l1-1-1.dll', 'WaitForMultipleObjects')))} drvnskm_rule rule_cluster_11{condition:((not(pe.imports('kernel32.dll', 'ExitProcess')) and not(pe.imports('api-ms-win-core-processthreads-l1-1-2.dll', 'ExitProcess')) and not(pe.imports('api-ms-win-core-processthreads-l1-1-1.dll', 'ExitProcess')) and not(pe.imports('api-ms-win-core-processthreads-l1-1-0.dll', 'ExitProcess')) and not(pe.imports('api-ms-win-downlevel-kernel32-l1-1-0.dll', 'ExitProcess'))) and (not(pe.imports('msvbvm60.dll', '_adj_fdiv_r'))) and (not(pe.imports('msvcrt.dll', '__p___initenv'))) and (pe.imports('shlwapi.dll', 'StrStrIA') or pe.imports('shell32.dll', 'StrStrIA') or pe.imports('api-ms-win-downlevel-shlwapi-l1-1-0.dll', 'StrStrIA') or pe.imports('api-ms-win-core-shlwapi-obsolete-l1-2-0.dll', 'StrStrIA')) and (pe.imports('gdi32.dll', 'RealizePalette')))} drvnskm_rule rule_cluster_11{condition:((not(pe.imports('kernel32.dll', 'ExitProcess')) and not(pe.imports('api-ms-win-core-processthreads-l1-1-2.dll', 'ExitProcess')) and not(pe.imports('api-ms-win-core-processthreads-l1-1-1.dll', 'ExitProcess')) and not(pe.imports('api-ms-win-core-processthreads-l1-1-0.dll', 'ExitProcess')) and not(pe.imports('api-ms-win-downlevel-kernel32-l1-1-0.dll', 'ExitProcess'))) and (not(pe.imports('msvbvm60.dll', '_adj_fdiv_r'))) and (not(pe.imports('msvcrt.dll', '__p___initenv'))) and (pe.imports('shlwapi.dll', 'StrStrIA') or pe.imports('shell32.dll', 'StrStrIA') or pe.imports('api-ms-win-downlevel-shlwapi-l1-1-0.dll', 'StrStrIA') or pe.imports('api-ms-win-core-shlwapi-obsolete-l1-2-0.dll', 'StrStrIA')) and (pe.imports('gdi32.dll', 'RealizePalette'))) or ((pe.imports('kernel32.dll', 'ExitProcess') or pe.imports('api-ms-win-core-processthreads-l1-1-2.dll', 'ExitProcess') or pe.imports('api-ms-win-core-processthreads-l1-1-1.dll', 'ExitProcess') or pe.imports('api-ms-win-core-processthreads-l1-1-0.dll', 'ExitProcess') or pe.imports('api-ms-win-downlevel-kernel32-l1-1-0.dll', 'ExitProcess')) and (not(pe.imports('kernel32.dll', 'GetConsoleCP')) and not(pe.imports('api-ms-win-core-console-l1-1-0.dll', 'GetConsoleCP'))) and (not(pe.imports('kernel32.dll', 'SetEnvironmentVariableA')) and not(pe.imports('api-ms-win-core-processenvironment-l1-2-0.dll', 'SetEnvironmentVariableA')) and not(pe.imports('api-ms-win-core-processenvironment-l1-1-0.dll', 'SetEnvironmentVariableA'))) and (not(pe.imports('kernel32.dll', 'WaitForMultipleObjects')) and not(pe.imports('api-ms-win-core-kernel32-legacy-l1-1-0.dll', 'WaitForMultipleObjects')) and not(pe.imports('api-ms-win-core-synch-l1-2-1.dll', 'WaitForMultipleObjects')) and not(pe.imports('api-ms-win-core-kernel32-legacy-l1-1-1.dll', 'WaitForMultipleObjects'))) and (not(pe.imports('kernel32.dll', 'GetModuleHandleA')) and not(pe.imports('api-ms-win-core-libraryloader-l1-2-0.dll', 'GetModuleHandleA')) and not(pe.imports('kernel32', 'GetModuleHandleA')) and not(pe.imports('api-ms-win-core-libraryloader-l1-1-1.dll', 'GetModuleHandleA')) and not(pe.imports('api-ms-win-downlevel-kernel32-l1-1-0.dll', 'GetModuleHandleA')) and not(pe.imports('api-ms-win-core-libraryloader-l1-1-0.dll', 'GetModuleHandleA'))) and (pe.imports('advapi32.dll', 'RegOpenKeyExW') or pe.imports('api-ms-win-core-registry-l1-1-0.dll', 'RegOpenKeyExW') or pe.imports('api-ms-win-core-localregistry-l1-1-0.dll', 'RegOpenKeyExW') or pe.imports('api-ms-win-downlevel-advapi32-l1-1-1.dll', 'RegOpenKeyExW') or pe.imports('api-ms-win-downlevel-advapi32-l1-1-0.dll', 'RegOpenKeyExW') or pe.imports('kernel32.dll', 'RegOpenKeyExW') or pe.imports('rtmpal.dll', 'RegOpenKeyExW') or pe.imports('kernelbase.dll', 'RegOpenKeyExW')))} drvnskm_rule rule_cluster_11{condition:((not(pe.imports('kernel32.dll', 'ExitProcess')) and not(pe.imports('api-ms-win-core-processthreads-l1-1-2.dll', 'ExitProcess')) and not(pe.imports('api-ms-win-core-processthreads-l1-1-1.dll', 'ExitProcess')) and not(pe.imports('api-ms-win-core-processthreads-l1-1-0.dll', 'ExitProcess')) and not(pe.imports('api-ms-win-downlevel-kernel32-l1-1-0.dll', 'ExitProcess'))) and (not(pe.imports('msvbvm60.dll', '_adj_fdiv_r'))) and (not(pe.imports('msvcrt.dll', '__p___initenv'))) and (pe.imports('shlwapi.dll', 'StrStrIA') or pe.imports('shell32.dll', 'StrStrIA') or pe.imports('api-ms-win-downlevel-shlwapi-l1-1-0.dll', 'StrStrIA') or pe.imports('api-ms-win-core-shlwapi-obsolete-l1-2-0.dll', 'StrStrIA')) and (pe.imports('gdi32.dll', 'RealizePalette'))) or ((pe.imports('kernel32.dll', 'ExitProcess') or pe.imports('api-ms-win-core-processthreads-l1-1-2.dll', 'ExitProcess') or pe.imports('api-ms-win-core-processthreads-l1-1-1.dll', 'ExitProcess') or pe.imports('api-ms-win-core-processthreads-l1-1-0.dll', 'ExitProcess') or pe.imports('api-ms-win-downlevel-kernel32-l1-1-0.dll', 'ExitProcess')) and (not(pe.imports('kernel32.dll', 'GetConsoleCP')) and not(pe.imports('api-ms-win-core-console-l1-1-0.dll', 'GetConsoleCP'))) and (not(pe.imports('kernel32.dll', 'SetEnvironmentVariableA')) and not(pe.imports('api-ms-win-core-processenvironment-l1-2-0.dll', 'SetEnvironmentVariableA')) and not(pe.imports('api-ms-win-core-processenvironment-l1-1-0.dll', 'SetEnvironmentVariableA'))) and (not(pe.imports('kernel32.dll', 'WaitForMultipleObjects')) and not(pe.imports('api-ms-win-core-kernel32-legacy-l1-1-0.dll', 'WaitForMultipleObjects')) and not(pe.imports('api-ms-win-core-synch-l1-2-1.dll', 'WaitForMultipleObjects')) and not(pe.imports('api-ms-win-core-kernel32-legacy-l1-1-1.dll', 'WaitForMultipleObjects'))) and (not(pe.imports('kernel32.dll', 'GetModuleHandleA')) and not(pe.imports('api-ms-win-core-libraryloader-l1-2-0.dll', 'GetModuleHandleA')) and not(pe.imports('kernel32', 'GetModuleHandleA')) and not(pe.imports('api-ms-win-core-libraryloader-l1-1-1.dll', 'GetModuleHandleA')) and not(pe.imports('api-ms-win-downlevel-kernel32-l1-1-0.dll', 'GetModuleHandleA')) and not(pe.imports('api-ms-win-core-libraryloader-l1-1-0.dll', 'GetModuleHandleA'))) and (pe.imports('advapi32.dll', 'RegOpenKeyExW') or pe.imports('api-ms-win-core-registry-l1-1-0.dll', 'RegOpenKeyExW') or pe.imports('api-ms-win-core-localregistry-l1-1-0.dll', 'RegOpenKeyExW') or pe.imports('api-ms-win-downlevel-advapi32-l1-1-1.dll', 'RegOpenKeyExW') or pe.imports('api-ms-win-downlevel-advapi32-l1-1-0.dll', 'RegOpenKeyExW') or pe.imports('kernel32.dll', 'RegOpenKeyExW') or pe.imports('rtmpal.dll', 'RegOpenKeyExW') or pe.imports('kernelbase.dll', 'RegOpenKeyExW'))) or ((pe.imports('kernel32.dll', 'ExitProcess') or pe.imports('api-ms-win-core-processthreads-l1-1-2.dll', 'ExitProcess') or pe.imports('api-ms-win-core-processthreads-l1-1-1.dll', 'ExitProcess') or pe.imports('api-ms-win-core-processthreads-l1-1-0.dll', 'ExitProcess') or pe.imports('api-ms-win-downlevel-kernel32-l1-1-0.dll', 'ExitProcess')) and (not(pe.imports('kernel32.dll', 'GetConsoleCP')) and not(pe.imports('api-ms-win-core-console-l1-1-0.dll', 'GetConsoleCP'))) and (pe.imports('kernel32.dll', 'SetEnvironmentVariableA') or pe.imports('api-ms-win-core-processenvironment-l1-2-0.dll', 'SetEnvironmentVariableA') or pe.imports('api-ms-win-core-processenvironment-l1-1-0.dll', 'SetEnvironmentVariableA')) and (pe.imports('user32.dll', 'GetDlgItem')))} drvnskm_rule rule_cluster_12{condition:((pe.imports('kernel32.dll', 'ExitProcess') or pe.imports('api-ms-win-core-processthreads-l1-1-2.dll', 'ExitProcess') or pe.imports('api-ms-win-core-processthreads-l1-1-1.dll', 'ExitProcess') or pe.imports('api-ms-win-core-processthreads-l1-1-0.dll', 'ExitProcess') or pe.imports('api-ms-win-downlevel-kernel32-l1-1-0.dll', 'ExitProcess')) and (not(pe.imports('kernel32.dll', 'GetConsoleCP')) and not(pe.imports('api-ms-win-core-console-l1-1-0.dll', 'GetConsoleCP'))) and (pe.imports('kernel32.dll', 'SetEnvironmentVariableA') or pe.imports('api-ms-win-core-processenvironment-l1-2-0.dll', 'SetEnvironmentVariableA') or pe.imports('api-ms-win-core-processenvironment-l1-1-0.dll', 'SetEnvironmentVariableA')) and (pe.imports('user32.dll', 'GetDlgItem')))} drvnskm_rule rule_cluster_13{condition:((not(pe.imports('kernel32.dll', 'ExitProcess')) and not(pe.imports('api-ms-win-core-processthreads-l1-1-2.dll', 'ExitProcess')) and not(pe.imports('api-ms-win-core-processthreads-l1-1-1.dll', 'ExitProcess')) and not(pe.imports('api-ms-win-core-processthreads-l1-1-0.dll', 'ExitProcess')) and not(pe.imports('api-ms-win-downlevel-kernel32-l1-1-0.dll', 'ExitProcess'))) and (pe.imports('msvbvm60.dll', '_adj_fdiv_r')) and (not(pe.imports('msvbvm60.dll', '__vbaVarTstLt'))))}\n"
     ]
    }
   ],
   "source": [
    "file_content = ''\n",
    "\n",
    "for i in range(len(df['label'].unique()) - 1):\n",
    "\n",
    "    rule = yara_tools.create_rule(name=f\"rule_cluster_{i}\", default_boolean='or')\n",
    "\n",
    "    rule.add_import(name=\"pe\")\n",
    "\n",
    "    # Leaves\n",
    "    leave_id = classifier.apply(df_vectors)\n",
    "\n",
    "    paths = {}\n",
    "    for leaf in np.unique(leave_id):\n",
    "        path_leaf = []\n",
    "        find_path(0, path_leaf, leaf)\n",
    "        paths[leaf] = np.unique(np.sort(path_leaf))\n",
    "\n",
    "    # Cut paths that lead to goodwares\n",
    "    filtered_paths = {}\n",
    "    for path in paths:\n",
    "        samples_count = value[path][0]\n",
    "        goodware_value_index = 0\n",
    "        malware_value_index = i + 1\n",
    "        if samples_count[malware_value_index] > samples_count[goodware_value_index]:\n",
    "            filtered_paths[path] = paths[path]\n",
    "\n",
    "    paths = filtered_paths\n",
    "\n",
    "    for leaf_num in paths:\n",
    "        rule.create_condition_group(name=\"group_{}\".format(leaf_num), default_boolean='and')\n",
    "        get_yara_rule(rule, \"group_{}\".format(leaf_num), paths[leaf_num], vectorizer.get_feature_names_out())\n",
    "\n",
    "        try:\n",
    "            generated_rule = rule.build_rule(condition_groups=True)\n",
    "\n",
    "            compiled_rule = yara.compile(source=generated_rule)\n",
    "\n",
    "            file_content += str(generated_rule) + '\\n'\n",
    "        except:\n",
    "            print('Error on rule {}'.format(rule.name))\n",
    "\n",
    "fn = './out/rules_9'\n",
    "\n",
    "file_content = file_content.replace(\"import \\\"pe\\\"\\n\", \"\")\n",
    "with open(f'{fn}.yar', 'w') as f:\n",
    "    f.write(\"import \\\"pe\\\"\" + file_content)\n",
    "\n",
    "file_content = file_content.replace(\"import \\\"pe\\\"\", \"\")\\\n",
    "    .replace(\"rule \", \" drvnskm_rule \")\\\n",
    "    .replace(\"\\\"\", \"'\")\\\n",
    "    .replace(\"\\t\", \"\")\\\n",
    "    .replace(\"\\n\", \"\")\n",
    "\n",
    "print(file_content)\n",
    "with open(f'{fn}.drv.yar', 'w') as f:\n",
    "    f.write(file_content[1:])"
   ]
  },
  {
   "attachments": {},
   "cell_type": "markdown",
   "metadata": {},
   "source": [
    "---\n",
    "\n",
    "## Segundo teste - Similaridades e diferencas"
   ]
  },
  {
   "attachments": {},
   "cell_type": "markdown",
   "metadata": {},
   "source": [
    "### Obtendo as similaridades e diferencas"
   ]
  },
  {
   "cell_type": "code",
   "execution_count": 61,
   "metadata": {},
   "outputs": [],
   "source": [
    "# Functions that occur in all malwares in the cluster\n",
    "def plus_functions(dir, cluster):\n",
    "    file_sets = []\n",
    "\n",
    "    for file in cluster:\n",
    "        \n",
    "        file_sets.append(set(line.split(' ')[1] for line in open(os.path.join(dir, file)).read().splitlines()))\n",
    "        \n",
    "        # Remove all the functions from set that has '@' or '?' in it\n",
    "        file_sets[-1] = {func for func in file_sets[-1] if not ('@' in func or '?' in func)}\n",
    "    \n",
    "\n",
    "    intersection = set.intersection(*file_sets)\n",
    "\n",
    "    return intersection\n",
    "\n",
    "\n",
    "# Functions that does not occur in any malwares in the cluster\n",
    "def minus_functions(dir, cluster):\n",
    "    others_set = set()\n",
    "\n",
    "    dir = os.path.join(dir)\n",
    "\n",
    "    for file in os.listdir(dir):\n",
    "        if file in cluster:\n",
    "            continue\n",
    "\n",
    "        others_set.update(set(line.split(' ')[1] for line in open(os.path.join(dir, file)).read().splitlines()))\n",
    "    \n",
    "    others_set = {func for func in others_set if not ('@' in func or '?' in func)}\n",
    "\n",
    "    cluster_set = set()\n",
    "    for file in cluster:\n",
    "        cluster_set.update(set(line.split(' ')[1] for line in open(os.path.join(dir, file)).read().splitlines()))\n",
    "\n",
    "    cluster_set = {func for func in cluster_set if not ('@' in func or '?' in func)}\n",
    "\n",
    "    others_minus_cluster = others_set - cluster_set\n",
    "\n",
    "    return others_minus_cluster\n",
    "\n",
    "def functions(dir):\n",
    "    return [set(line.split(' ')[1] for line in open(os.path.join(dir, file)).read().splitlines()) for file in os.listdir(dir)]"
   ]
  },
  {
   "cell_type": "code",
   "execution_count": 62,
   "metadata": {},
   "outputs": [],
   "source": [
    "\n",
    "plus = [plus_functions(TRAIN_DIR, cluster) for cluster in mostly_malware_clusters]\n",
    "minus = [minus_functions(TRAIN_DIR, cluster) for cluster in mostly_malware_clusters]"
   ]
  },
  {
   "cell_type": "code",
   "execution_count": 63,
   "metadata": {},
   "outputs": [
    {
     "data": {
      "text/plain": [
       "[46,\n",
       " 2,\n",
       " 3,\n",
       " 18,\n",
       " 42,\n",
       " 15,\n",
       " 35,\n",
       " 29,\n",
       " 66,\n",
       " 51,\n",
       " 74,\n",
       " 58,\n",
       " 70,\n",
       " 51,\n",
       " 39,\n",
       " 76,\n",
       " 159,\n",
       " 159,\n",
       " 8,\n",
       " 47,\n",
       " 167]"
      ]
     },
     "execution_count": 63,
     "metadata": {},
     "output_type": "execute_result"
    }
   ],
   "source": [
    "[len(p) for p in plus]"
   ]
  },
  {
   "cell_type": "code",
   "execution_count": 64,
   "metadata": {},
   "outputs": [
    {
     "data": {
      "text/plain": [
       "[4172,\n",
       " 4196,\n",
       " 4210,\n",
       " 4277,\n",
       " 4253,\n",
       " 4210,\n",
       " 4064,\n",
       " 4178,\n",
       " 4229,\n",
       " 4131,\n",
       " 4168,\n",
       " 4181,\n",
       " 4176,\n",
       " 4030,\n",
       " 3987,\n",
       " 4042,\n",
       " 4136,\n",
       " 4136,\n",
       " 3985,\n",
       " 3275,\n",
       " 3123]"
      ]
     },
     "execution_count": 64,
     "metadata": {},
     "output_type": "execute_result"
    }
   ],
   "source": [
    "[len(m) for m in minus]"
   ]
  },
  {
   "cell_type": "code",
   "execution_count": 65,
   "metadata": {},
   "outputs": [],
   "source": [
    "def predict_similarity_difference(file_functions_set, plus_functions_set_list, minus_functions_set_list):\n",
    "\n",
    "    for plus_functions_set, minus_functions_set in zip(plus_functions_set_list, minus_functions_set_list):\n",
    "        plus_functions_intersection = file_functions_set & plus_functions_set\n",
    "        minus_functions_intersection = file_functions_set & minus_functions_set\n",
    "\n",
    "        if len(plus_functions_intersection) == len(plus_functions_set) and len(minus_functions_intersection) == 0:\n",
    "            return 'MALWARE'\n",
    "\n",
    "    return 'GOODWARE'\n"
   ]
  },
  {
   "cell_type": "code",
   "execution_count": 66,
   "metadata": {},
   "outputs": [],
   "source": [
    "test_mw = functions(TEST_MALWARE_DIR)\n",
    "test_gw = functions(TEST_GOODWARE_DIR)\n",
    "test = test_mw + test_gw\n",
    "\n",
    "test_mw_label = ['MALWARE' for _ in test_mw]\n",
    "test_gw_label = ['GOODWARE' for _ in test_gw]\n",
    "test_label = test_mw_label + test_gw_label\n",
    "\n",
    "pred_mw = [predict_similarity_difference(file_functions_set, plus, minus) for file_functions_set in test_mw]\n",
    "pred_gw = [predict_similarity_difference(file_functions_set, plus, minus) for file_functions_set in test_gw]\n",
    "pred = [predict_similarity_difference(file_functions_set, plus, minus) for file_functions_set in test]"
   ]
  },
  {
   "cell_type": "code",
   "execution_count": 67,
   "metadata": {},
   "outputs": [
    {
     "name": "stdout",
     "output_type": "stream",
     "text": [
      "Accuracy total: 0.5923321915750256\n",
      "Accuracy malware: 0.16122650840751732\n",
      "Accuracy goodware: 1.0\n",
      "F1 score: 0.5029818691540772\n"
     ]
    }
   ],
   "source": [
    "print('Accuracy total: {}'.format(accuracy_score(test_label, pred)))\n",
    "print('Accuracy malware: {}'.format(accuracy_score(test_mw_label, pred_mw)))\n",
    "print('Accuracy goodware: {}'.format(accuracy_score(test_gw_label, pred_gw)))\n",
    "print('F1 score: {}'.format(f1_score(test_label, pred, average='weighted')))"
   ]
  },
  {
   "attachments": {},
   "cell_type": "markdown",
   "metadata": {},
   "source": [
    "### Criando reegras YARA"
   ]
  },
  {
   "cell_type": "code",
   "execution_count": 68,
   "metadata": {},
   "outputs": [
    {
     "data": {
      "text/plain": [
       "'\\nif len(plus) != len(minus):\\n    raise ValueError(\"Plus and minus functions must be of the same length\")\\n\\nfor i in range(len(plus)):\\n    rule = yara_tools.create_rule(name=f\"rule_cluster_{i}\")\\n    rule.add_import(name=\"pe\")\\n\\n    for func_lwr in plus[i]:\\n        func_lwr = func_lwr.lower()\\n        rule.create_condition_group(name=\"group_{}\".format(func_lwr), default_boolean=\\'or\\')\\n        for lib, func in func_dict[func_lwr]:\\n            rule.add_condition(f\\'pe.imports(\"{lib}\", \"{func}\")\\', condition_group=\"group_{}\".format(func_lwr))\\n\\n    for func_lwr in minus[i]:\\n        func_lwr = func_lwr.lower()\\n        rule.create_condition_group(name=\"group_{}\".format(func_lwr), default_boolean=\\'and\\')\\n        for lib, func in func_dict[func_lwr]:\\n            rule.add_condition(f\\'not(pe.imports(\"{lib}\", \"{func}\"))\\', condition_group=\"group_{}\".format(func_lwr))\\n\\n    # generated_rule = rule.build_rule(condition_groups=True)\\n\\n    # compiled_rule = yara.compile(source=generated_rule)\\n\\n    # print (generated_rule)\\n'"
      ]
     },
     "execution_count": 68,
     "metadata": {},
     "output_type": "execute_result"
    }
   ],
   "source": [
    "\"\"\"\n",
    "if len(plus) != len(minus):\n",
    "    raise ValueError(\"Plus and minus functions must be of the same length\")\n",
    "\n",
    "for i in range(len(plus)):\n",
    "    rule = yara_tools.create_rule(name=f\"rule_cluster_{i}\")\n",
    "    rule.add_import(name=\"pe\")\n",
    "\n",
    "    for func_lwr in plus[i]:\n",
    "        func_lwr = func_lwr.lower()\n",
    "        rule.create_condition_group(name=\"group_{}\".format(func_lwr), default_boolean='or')\n",
    "        for lib, func in func_dict[func_lwr]:\n",
    "            rule.add_condition(f'pe.imports(\"{lib}\", \"{func}\")', condition_group=\"group_{}\".format(func_lwr))\n",
    "\n",
    "    for func_lwr in minus[i]:\n",
    "        func_lwr = func_lwr.lower()\n",
    "        rule.create_condition_group(name=\"group_{}\".format(func_lwr), default_boolean='and')\n",
    "        for lib, func in func_dict[func_lwr]:\n",
    "            rule.add_condition(f'not(pe.imports(\"{lib}\", \"{func}\"))', condition_group=\"group_{}\".format(func_lwr))\n",
    "\n",
    "    # generated_rule = rule.build_rule(condition_groups=True)\n",
    "\n",
    "    # compiled_rule = yara.compile(source=generated_rule)\n",
    "\n",
    "    # print (generated_rule)\n",
    "\"\"\""
   ]
  }
 ],
 "metadata": {
  "kernelspec": {
   "display_name": "Python 3",
   "language": "python",
   "name": "python3"
  },
  "language_info": {
   "codemirror_mode": {
    "name": "ipython",
    "version": 3
   },
   "file_extension": ".py",
   "mimetype": "text/x-python",
   "name": "python",
   "nbconvert_exporter": "python",
   "pygments_lexer": "ipython3",
   "version": "3.10.6"
  },
  "orig_nbformat": 4,
  "vscode": {
   "interpreter": {
    "hash": "916dbcbb3f70747c44a77c7bcd40155683ae19c65e1c03b4aa3499c5328201f1"
   }
  }
 },
 "nbformat": 4,
 "nbformat_minor": 2
}
