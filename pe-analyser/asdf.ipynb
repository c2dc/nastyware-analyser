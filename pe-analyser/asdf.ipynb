{
 "cells": [
  {
   "attachments": {},
   "cell_type": "markdown",
   "metadata": {},
   "source": [
    "## Init"
   ]
  },
  {
   "cell_type": "code",
   "execution_count": 1,
   "metadata": {},
   "outputs": [],
   "source": [
    "import sys\n",
    "import os\n",
    "import yara\n",
    "import yara_tools\n",
    "import pandas as pd\n",
    "import numpy as np\n",
    "import seaborn as sns\n",
    "from itertools import combinations\n",
    "from sklearn.feature_extraction.text import TfidfVectorizer\n",
    "from sklearn.tree import DecisionTreeClassifier, plot_tree\n",
    "from sklearn.model_selection import train_test_split\n",
    "from sklearn.metrics import accuracy_score, confusion_matrix, f1_score\n",
    "import matplotlib.pyplot as plt"
   ]
  },
  {
   "cell_type": "code",
   "execution_count": 26,
   "metadata": {},
   "outputs": [],
   "source": [
    "FILES_DIR = '/archive/files/nastyware-files/mix/'"
   ]
  },
  {
   "cell_type": "code",
   "execution_count": 27,
   "metadata": {},
   "outputs": [
    {
     "name": "stdout",
     "output_type": "stream",
     "text": [
      "Removing samples with empty imports...\n",
      "Using Python version of Damicore...\n",
      "Performing NCD distance matrix calculation...\n",
      "Compressing individual files...\n",
      "[####################] 100 %\n",
      "Compressing file pairs...\n",
      "[                    ]   0 %"
     ]
    }
   ],
   "source": [
    "!./pe-analyser.py --folder $FILES_DIR"
   ]
  },
  {
   "cell_type": "code",
   "execution_count": 4,
   "metadata": {},
   "outputs": [],
   "source": [
    "\n",
    "lines = open('node_clustering.txt', 'r').readlines()\n",
    "lines = lines[1:]\n",
    "\n",
    "clusters = [[el.strip() for el in line.strip().split(',') if not el.strip().startswith('-')] for line in lines]"
   ]
  },
  {
   "cell_type": "code",
   "execution_count": 10,
   "metadata": {},
   "outputs": [
    {
     "data": {
      "text/plain": [
       "[['R-Djvu.sample', 'G-msvcr120_clr0400.dll', 'R-Vipasana.sample'],\n",
       " ['R-File.sample', 'R-Win32.Wannacry.sample', 'R-Ransomware.sample']]"
      ]
     },
     "execution_count": 10,
     "metadata": {},
     "output_type": "execute_result"
    }
   ],
   "source": [
    "mostly_malware_clusters = []\n",
    "\n",
    "for cluster in clusters:\n",
    "    if len(cluster) > 1:\n",
    "        malware_count = 0\n",
    "        for node in cluster:\n",
    "            if node.startswith('R-'):\n",
    "                malware_count += 1\n",
    "\n",
    "        # If cluster is consisted of 100% malware\n",
    "        if malware_count > 0.5 * len(cluster):\n",
    "            mostly_malware_clusters.append(cluster)\n",
    "\n",
    "mostly_malware_clusters"
   ]
  },
  {
   "attachments": {},
   "cell_type": "markdown",
   "metadata": {},
   "source": [
    "---\n",
    "\n",
    "## Primeiro teste"
   ]
  },
  {
   "cell_type": "code",
   "execution_count": 11,
   "metadata": {},
   "outputs": [],
   "source": [
    "func_dict = {}"
   ]
  },
  {
   "cell_type": "code",
   "execution_count": 12,
   "metadata": {},
   "outputs": [],
   "source": [
    "def ld_data(dir_name, files, label=None):\n",
    "    # Load data in files from directory dir_name in a pandas dataframe\n",
    "    df = pd.DataFrame()\n",
    "    for filename in files:\n",
    "        funcs = []\n",
    "        with open(os.path.join(dir_name, filename), 'r') as f:\n",
    "            lines = f.read().splitlines()\n",
    "            \n",
    "            for line in lines:\n",
    "                lib, func = line.split(' ')\n",
    "                if '@' in func or '?' in func:\n",
    "                    continue\n",
    "\n",
    "                if not func.lower() in func_dict:\n",
    "                    func_dict[func.lower()] = [(lib, func)]\n",
    "                else:\n",
    "                    func_dict[func.lower()].append((lib, func))\n",
    "\n",
    "                funcs.append(func)\n",
    "\n",
    "        # label = 'MALWARE' if filename.startswith('R') else 'GOODWARE'\n",
    "        df = pd.concat([df, pd.DataFrame({'filename': filename, 'label': label, 'funcs': ' '.join(funcs)}, index=[0])], ignore_index=True)\n",
    "        \n",
    "    return df"
   ]
  },
  {
   "cell_type": "code",
   "execution_count": 13,
   "metadata": {},
   "outputs": [],
   "source": [
    "malware_clusters_df = [ld_data(FILES_DIR, cluster, str(i)) for i, cluster in enumerate(mostly_malware_clusters)]\n",
    "rest_df = ld_data(FILES_DIR, [f for f in os.listdir(FILES_DIR) if not any([f in cluster for cluster in mostly_malware_clusters])], '-1')\n",
    "\n",
    "# Concat in rest_df all malware_clusters_df\n",
    "df = pd.concat([rest_df] + malware_clusters_df, ignore_index=True)"
   ]
  },
  {
   "cell_type": "code",
   "execution_count": 14,
   "metadata": {},
   "outputs": [
    {
     "data": {
      "text/html": [
       "<div>\n",
       "<style scoped>\n",
       "    .dataframe tbody tr th:only-of-type {\n",
       "        vertical-align: middle;\n",
       "    }\n",
       "\n",
       "    .dataframe tbody tr th {\n",
       "        vertical-align: top;\n",
       "    }\n",
       "\n",
       "    .dataframe thead th {\n",
       "        text-align: right;\n",
       "    }\n",
       "</style>\n",
       "<table border=\"1\" class=\"dataframe\">\n",
       "  <thead>\n",
       "    <tr style=\"text-align: right;\">\n",
       "      <th></th>\n",
       "      <th>filename</th>\n",
       "      <th>label</th>\n",
       "      <th>funcs</th>\n",
       "    </tr>\n",
       "  </thead>\n",
       "  <tbody>\n",
       "    <tr>\n",
       "      <th>0</th>\n",
       "      <td>G-mfvdsp.dll</td>\n",
       "      <td>-1</td>\n",
       "      <td>_initterm _amsg_exit __C_specific_handler _Xcp...</td>\n",
       "    </tr>\n",
       "    <tr>\n",
       "      <th>1</th>\n",
       "      <td>G-offlinesam.dll</td>\n",
       "      <td>-1</td>\n",
       "      <td>free _XcptFilter memset __C_specific_handler m...</td>\n",
       "    </tr>\n",
       "    <tr>\n",
       "      <th>2</th>\n",
       "      <td>G-BthTelemetry.dll</td>\n",
       "      <td>-1</td>\n",
       "      <td>_itoa_s strcat_s qsort strnlen realloc memcpy ...</td>\n",
       "    </tr>\n",
       "    <tr>\n",
       "      <th>3</th>\n",
       "      <td>G-aclui.dll</td>\n",
       "      <td>-1</td>\n",
       "      <td>_wcsnicmp _wcstoui64 _ultow_s iswctype wcstoul...</td>\n",
       "    </tr>\n",
       "    <tr>\n",
       "      <th>4</th>\n",
       "      <td>G-cmutil.dll</td>\n",
       "      <td>-1</td>\n",
       "      <td>__C_specific_handler _initterm malloc free _am...</td>\n",
       "    </tr>\n",
       "    <tr>\n",
       "      <th>...</th>\n",
       "      <td>...</td>\n",
       "      <td>...</td>\n",
       "      <td>...</td>\n",
       "    </tr>\n",
       "    <tr>\n",
       "      <th>177</th>\n",
       "      <td>G-msvcr120_clr0400.dll</td>\n",
       "      <td>0</td>\n",
       "      <td>EncodePointer DecodePointer RtlPcToFileHeader ...</td>\n",
       "    </tr>\n",
       "    <tr>\n",
       "      <th>178</th>\n",
       "      <td>R-Vipasana.sample</td>\n",
       "      <td>0</td>\n",
       "      <td>DeleteCriticalSection LeaveCriticalSection Ent...</td>\n",
       "    </tr>\n",
       "    <tr>\n",
       "      <th>179</th>\n",
       "      <td>R-File.sample</td>\n",
       "      <td>1</td>\n",
       "      <td>PathAppendW CreateProcessW GetSystemTime lstrl...</td>\n",
       "    </tr>\n",
       "    <tr>\n",
       "      <th>180</th>\n",
       "      <td>R-Win32.Wannacry.sample</td>\n",
       "      <td>1</td>\n",
       "      <td>CloseHandle WriteFile CreateFileA SizeofResour...</td>\n",
       "    </tr>\n",
       "    <tr>\n",
       "      <th>181</th>\n",
       "      <td>R-Ransomware.sample</td>\n",
       "      <td>1</td>\n",
       "      <td>WriteFile WriteConsoleW WaitForMultipleObjects...</td>\n",
       "    </tr>\n",
       "  </tbody>\n",
       "</table>\n",
       "<p>182 rows × 3 columns</p>\n",
       "</div>"
      ],
      "text/plain": [
       "                    filename label  \\\n",
       "0               G-mfvdsp.dll    -1   \n",
       "1           G-offlinesam.dll    -1   \n",
       "2         G-BthTelemetry.dll    -1   \n",
       "3                G-aclui.dll    -1   \n",
       "4               G-cmutil.dll    -1   \n",
       "..                       ...   ...   \n",
       "177   G-msvcr120_clr0400.dll     0   \n",
       "178        R-Vipasana.sample     0   \n",
       "179            R-File.sample     1   \n",
       "180  R-Win32.Wannacry.sample     1   \n",
       "181      R-Ransomware.sample     1   \n",
       "\n",
       "                                                 funcs  \n",
       "0    _initterm _amsg_exit __C_specific_handler _Xcp...  \n",
       "1    free _XcptFilter memset __C_specific_handler m...  \n",
       "2    _itoa_s strcat_s qsort strnlen realloc memcpy ...  \n",
       "3    _wcsnicmp _wcstoui64 _ultow_s iswctype wcstoul...  \n",
       "4    __C_specific_handler _initterm malloc free _am...  \n",
       "..                                                 ...  \n",
       "177  EncodePointer DecodePointer RtlPcToFileHeader ...  \n",
       "178  DeleteCriticalSection LeaveCriticalSection Ent...  \n",
       "179  PathAppendW CreateProcessW GetSystemTime lstrl...  \n",
       "180  CloseHandle WriteFile CreateFileA SizeofResour...  \n",
       "181  WriteFile WriteConsoleW WaitForMultipleObjects...  \n",
       "\n",
       "[182 rows x 3 columns]"
      ]
     },
     "execution_count": 14,
     "metadata": {},
     "output_type": "execute_result"
    }
   ],
   "source": [
    "df"
   ]
  },
  {
   "cell_type": "code",
   "execution_count": 15,
   "metadata": {},
   "outputs": [
    {
     "data": {
      "text/html": [
       "<style>#sk-container-id-1 {color: black;background-color: white;}#sk-container-id-1 pre{padding: 0;}#sk-container-id-1 div.sk-toggleable {background-color: white;}#sk-container-id-1 label.sk-toggleable__label {cursor: pointer;display: block;width: 100%;margin-bottom: 0;padding: 0.3em;box-sizing: border-box;text-align: center;}#sk-container-id-1 label.sk-toggleable__label-arrow:before {content: \"▸\";float: left;margin-right: 0.25em;color: #696969;}#sk-container-id-1 label.sk-toggleable__label-arrow:hover:before {color: black;}#sk-container-id-1 div.sk-estimator:hover label.sk-toggleable__label-arrow:before {color: black;}#sk-container-id-1 div.sk-toggleable__content {max-height: 0;max-width: 0;overflow: hidden;text-align: left;background-color: #f0f8ff;}#sk-container-id-1 div.sk-toggleable__content pre {margin: 0.2em;color: black;border-radius: 0.25em;background-color: #f0f8ff;}#sk-container-id-1 input.sk-toggleable__control:checked~div.sk-toggleable__content {max-height: 200px;max-width: 100%;overflow: auto;}#sk-container-id-1 input.sk-toggleable__control:checked~label.sk-toggleable__label-arrow:before {content: \"▾\";}#sk-container-id-1 div.sk-estimator input.sk-toggleable__control:checked~label.sk-toggleable__label {background-color: #d4ebff;}#sk-container-id-1 div.sk-label input.sk-toggleable__control:checked~label.sk-toggleable__label {background-color: #d4ebff;}#sk-container-id-1 input.sk-hidden--visually {border: 0;clip: rect(1px 1px 1px 1px);clip: rect(1px, 1px, 1px, 1px);height: 1px;margin: -1px;overflow: hidden;padding: 0;position: absolute;width: 1px;}#sk-container-id-1 div.sk-estimator {font-family: monospace;background-color: #f0f8ff;border: 1px dotted black;border-radius: 0.25em;box-sizing: border-box;margin-bottom: 0.5em;}#sk-container-id-1 div.sk-estimator:hover {background-color: #d4ebff;}#sk-container-id-1 div.sk-parallel-item::after {content: \"\";width: 100%;border-bottom: 1px solid gray;flex-grow: 1;}#sk-container-id-1 div.sk-label:hover label.sk-toggleable__label {background-color: #d4ebff;}#sk-container-id-1 div.sk-serial::before {content: \"\";position: absolute;border-left: 1px solid gray;box-sizing: border-box;top: 0;bottom: 0;left: 50%;z-index: 0;}#sk-container-id-1 div.sk-serial {display: flex;flex-direction: column;align-items: center;background-color: white;padding-right: 0.2em;padding-left: 0.2em;position: relative;}#sk-container-id-1 div.sk-item {position: relative;z-index: 1;}#sk-container-id-1 div.sk-parallel {display: flex;align-items: stretch;justify-content: center;background-color: white;position: relative;}#sk-container-id-1 div.sk-item::before, #sk-container-id-1 div.sk-parallel-item::before {content: \"\";position: absolute;border-left: 1px solid gray;box-sizing: border-box;top: 0;bottom: 0;left: 50%;z-index: -1;}#sk-container-id-1 div.sk-parallel-item {display: flex;flex-direction: column;z-index: 1;position: relative;background-color: white;}#sk-container-id-1 div.sk-parallel-item:first-child::after {align-self: flex-end;width: 50%;}#sk-container-id-1 div.sk-parallel-item:last-child::after {align-self: flex-start;width: 50%;}#sk-container-id-1 div.sk-parallel-item:only-child::after {width: 0;}#sk-container-id-1 div.sk-dashed-wrapped {border: 1px dashed gray;margin: 0 0.4em 0.5em 0.4em;box-sizing: border-box;padding-bottom: 0.4em;background-color: white;}#sk-container-id-1 div.sk-label label {font-family: monospace;font-weight: bold;display: inline-block;line-height: 1.2em;}#sk-container-id-1 div.sk-label-container {text-align: center;}#sk-container-id-1 div.sk-container {/* jupyter's `normalize.less` sets `[hidden] { display: none; }` but bootstrap.min.css set `[hidden] { display: none !important; }` so we also need the `!important` here to be able to override the default hidden behavior on the sphinx rendered scikit-learn.org. See: https://github.com/scikit-learn/scikit-learn/issues/21755 */display: inline-block !important;position: relative;}#sk-container-id-1 div.sk-text-repr-fallback {display: none;}</style><div id=\"sk-container-id-1\" class=\"sk-top-container\"><div class=\"sk-text-repr-fallback\"><pre>DecisionTreeClassifier(criterion=&#x27;entropy&#x27;)</pre><b>In a Jupyter environment, please rerun this cell to show the HTML representation or trust the notebook. <br />On GitHub, the HTML representation is unable to render, please try loading this page with nbviewer.org.</b></div><div class=\"sk-container\" hidden><div class=\"sk-item\"><div class=\"sk-estimator sk-toggleable\"><input class=\"sk-toggleable__control sk-hidden--visually\" id=\"sk-estimator-id-1\" type=\"checkbox\" checked><label for=\"sk-estimator-id-1\" class=\"sk-toggleable__label sk-toggleable__label-arrow\">DecisionTreeClassifier</label><div class=\"sk-toggleable__content\"><pre>DecisionTreeClassifier(criterion=&#x27;entropy&#x27;)</pre></div></div></div></div></div>"
      ],
      "text/plain": [
       "DecisionTreeClassifier(criterion='entropy')"
      ]
     },
     "execution_count": 15,
     "metadata": {},
     "output_type": "execute_result"
    }
   ],
   "source": [
    "# Mudar isso para um BAG OF WORDS\n",
    "vectorizer = TfidfVectorizer()\n",
    "df_vectors = vectorizer.fit_transform(df['funcs']).ceil()\n",
    "\n",
    "classifier = DecisionTreeClassifier(criterion='entropy')\n",
    "classifier.fit(df_vectors, df['label'])"
   ]
  },
  {
   "cell_type": "code",
   "execution_count": 16,
   "metadata": {},
   "outputs": [
    {
     "name": "stderr",
     "output_type": "stream",
     "text": [
      "/home/joao/.local/lib/python3.10/site-packages/sklearn/utils/deprecation.py:87: FutureWarning: Function get_feature_names is deprecated; get_feature_names is deprecated in 1.0 and will be removed in 1.2. Please use get_feature_names_out instead.\n",
      "  warnings.warn(msg, category=FutureWarning)\n"
     ]
    },
    {
     "data": {
      "image/png": "[encoded data removed]",
      "text/plain": [
       "<Figure size 432x288 with 1 Axes>"
      ]
     },
     "metadata": {
      "needs_background": "light"
     },
     "output_type": "display_data"
    }
   ],
   "source": [
    "fn = vectorizer.get_feature_names()\n",
    "cn = df['label'].unique()\n",
    "\n",
    "plot_tree(classifier,\n",
    "               feature_names = fn, \n",
    "               class_names=cn,\n",
    "               filled = True);\n",
    "\n",
    "plt.savefig('asdf.svg')"
   ]
  },
  {
   "attachments": {},
   "cell_type": "markdown",
   "metadata": {},
   "source": [
    "---\n",
    "\n",
    "## Segundo teste"
   ]
  },
  {
   "cell_type": "code",
   "execution_count": 17,
   "metadata": {},
   "outputs": [],
   "source": [
    "# Functions that occur in all malwares in the cluster\n",
    "def plus_functions(dir, cluster):\n",
    "    file_sets = []\n",
    "\n",
    "    for file in cluster:\n",
    "        file_sets.append(set(open(os.path.join(dir, file)).read().splitlines()))\n",
    "    \n",
    "    intersection = set.intersection(*file_sets)\n",
    "\n",
    "    return intersection\n",
    "\n",
    "\n",
    "# Functions that does not occur in any malwares in the cluster\n",
    "def minus_functions(dir, cluster):\n",
    "    others_set = set()\n",
    "\n",
    "    dir = os.path.join(dir)\n",
    "\n",
    "    for file in os.listdir(dir):\n",
    "        if file in cluster:\n",
    "            continue\n",
    "\n",
    "        others_set.update(set(open(os.path.join(os.path.join(dir, file))).read().splitlines()))\n",
    "    \n",
    "    cluster_set = set()\n",
    "    for file in cluster:\n",
    "        cluster_set.update(set(open(os.path.join(dir, file)).read().splitlines()))\n",
    "\n",
    "    others_minus_cluster = others_set - cluster_set\n",
    "\n",
    "    return others_minus_cluster\n"
   ]
  },
  {
   "cell_type": "code",
   "execution_count": 21,
   "metadata": {},
   "outputs": [],
   "source": [
    "\n",
    "plus = [plus_functions(FILES_DIR, cluster) for cluster in mostly_malware_clusters]\n",
    "minus = [minus_functions(FILES_DIR, cluster) for cluster in mostly_malware_clusters]"
   ]
  },
  {
   "cell_type": "code",
   "execution_count": 24,
   "metadata": {},
   "outputs": [
    {
     "data": {
      "text/plain": [
       "[30, 0]"
      ]
     },
     "execution_count": 24,
     "metadata": {},
     "output_type": "execute_result"
    }
   ],
   "source": [
    "[len(p) for p in plus]"
   ]
  },
  {
   "cell_type": "code",
   "execution_count": 25,
   "metadata": {},
   "outputs": [
    {
     "data": {
      "text/plain": [
       "[6141, 6430]"
      ]
     },
     "execution_count": 25,
     "metadata": {},
     "output_type": "execute_result"
    }
   ],
   "source": [
    "[len(m) for m in minus]"
   ]
  }
 ],
 "metadata": {
  "kernelspec": {
   "display_name": "Python 3",
   "language": "python",
   "name": "python3"
  },
  "language_info": {
   "codemirror_mode": {
    "name": "ipython",
    "version": 3
   },
   "file_extension": ".py",
   "mimetype": "text/x-python",
   "name": "python",
   "nbconvert_exporter": "python",
   "pygments_lexer": "ipython3",
   "version": "3.10.6"
  },
  "orig_nbformat": 4,
  "vscode": {
   "interpreter": {
    "hash": "916dbcbb3f70747c44a77c7bcd40155683ae19c65e1c03b4aa3499c5328201f1"
   }
  }
 },
 "nbformat": 4,
 "nbformat_minor": 2
}
