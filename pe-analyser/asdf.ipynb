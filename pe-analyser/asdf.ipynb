{
 "cells": [
  {
   "cell_type": "code",
   "execution_count": 70,
   "metadata": {},
   "outputs": [],
   "source": [
    "import sys\n",
    "import os\n",
    "import pandas as pd\n",
    "import numpy as np\n",
    "import seaborn as sns\n",
    "from sklearn.feature_extraction.text import CountVectorizer\n",
    "from sklearn.tree import DecisionTreeClassifier, plot_tree\n",
    "from sklearn.model_selection import train_test_split\n",
    "from sklearn.metrics import accuracy_score, confusion_matrix, f1_score\n",
    "import matplotlib.pyplot as plt"
   ]
  },
  {
   "cell_type": "code",
   "execution_count": 71,
   "metadata": {},
   "outputs": [],
   "source": [
    "func_dict = {}"
   ]
  },
  {
   "cell_type": "code",
   "execution_count": 72,
   "metadata": {},
   "outputs": [],
   "source": [
    "def ld_data(dir_name):\n",
    "    # Load data in files from directory dir_name in a pandas dataframe\n",
    "    df = pd.DataFrame()\n",
    "    for filename in os.listdir(dir_name):\n",
    "        funcs = []\n",
    "        with open(os.path.join(dir_name, filename), 'r') as f:\n",
    "            lines = f.read().splitlines()\n",
    "            \n",
    "            for line in lines:\n",
    "                lib, func = line.split(' ')\n",
    "                if '@' in func or '?' in func:\n",
    "                    continue\n",
    "                \n",
    "                # TODO: Comentado para testar Vectorizer sem lower()\n",
    "                # if not func.lower() in func_dict:\n",
    "                #     func_dict[func.lower()] = [(lib, func)]\n",
    "                # else:\n",
    "                #     func_dict[func.lower()].append((lib, func))\n",
    "\n",
    "                if not func in func_dict:\n",
    "                    func_dict[func] = [(lib, func)]\n",
    "                else:\n",
    "                    # TODO: Melhorar. So dar append se a lib for diferente das atuais\n",
    "                    func_dict[func].append((lib, func))\n",
    "\n",
    "\n",
    "                funcs.append(func)\n",
    "\n",
    "        label = 'MALWARE' if filename.startswith('R') else 'GOODWARE'\n",
    "        df = pd.concat([df, pd.DataFrame({'filename': filename, 'label': label, 'funcs': ' '.join(funcs)}, index=[0])], ignore_index=True)\n",
    "        \n",
    "    return df\n"
   ]
  },
  {
   "cell_type": "code",
   "execution_count": 73,
   "metadata": {},
   "outputs": [],
   "source": [
    "# train_dt_dir_name = '../data/arquivos-nilson-filtro-2/'\n",
    "train_dt_dir_name = '/archive/files/import-small-dir/'\n",
    "export_dt_dir_name = '/archive/files/export-small-dir/'\n",
    "test_mw_dt_dir_name = '/archive/files/nastyware-files/import-malware-bazaar-2021-01-to-2021-02-f'\n",
    "teste_gd_dt_dir_name = '/archive/files/nastyware-files/import-windows-server-2016-f'"
   ]
  },
  {
   "cell_type": "code",
   "execution_count": 74,
   "metadata": {},
   "outputs": [],
   "source": [
    "train = ld_data(train_dt_dir_name)\n",
    "test_mw = ld_data(test_mw_dt_dir_name)\n",
    "test_gw = ld_data(teste_gd_dt_dir_name)\n",
    "\n",
    "test = pd.concat([test_mw, test_gw], ignore_index=True)"
   ]
  },
  {
   "cell_type": "code",
   "execution_count": 75,
   "metadata": {},
   "outputs": [
    {
     "data": {
      "text/html": [
       "<div>\n",
       "<style scoped>\n",
       "    .dataframe tbody tr th:only-of-type {\n",
       "        vertical-align: middle;\n",
       "    }\n",
       "\n",
       "    .dataframe tbody tr th {\n",
       "        vertical-align: top;\n",
       "    }\n",
       "\n",
       "    .dataframe thead th {\n",
       "        text-align: right;\n",
       "    }\n",
       "</style>\n",
       "<table border=\"1\" class=\"dataframe\">\n",
       "  <thead>\n",
       "    <tr style=\"text-align: right;\">\n",
       "      <th></th>\n",
       "      <th>filename</th>\n",
       "      <th>label</th>\n",
       "      <th>funcs</th>\n",
       "    </tr>\n",
       "  </thead>\n",
       "  <tbody>\n",
       "    <tr>\n",
       "      <th>0</th>\n",
       "      <td>R-6196c30108fc71ecdab192dfbeda98b51a25a220195a...</td>\n",
       "      <td>MALWARE</td>\n",
       "      <td>HeapFree VirtualFree HeapSize HeapReAlloc Heap...</td>\n",
       "    </tr>\n",
       "    <tr>\n",
       "      <th>1</th>\n",
       "      <td>G-pnpmig.dll</td>\n",
       "      <td>GOODWARE</td>\n",
       "      <td>memcpy_s wcstoul swprintf_s memmove toupper wc...</td>\n",
       "    </tr>\n",
       "    <tr>\n",
       "      <th>2</th>\n",
       "      <td>G-ConnectedAccountState.dll</td>\n",
       "      <td>GOODWARE</td>\n",
       "      <td>_unlock _lock __dllonexit _amsg_exit _XcptFilt...</td>\n",
       "    </tr>\n",
       "    <tr>\n",
       "      <th>3</th>\n",
       "      <td>R-20f02f1e76aa29fb091f954451babf92d4ea31b25d5c...</td>\n",
       "      <td>MALWARE</td>\n",
       "      <td>_CorExeMain</td>\n",
       "    </tr>\n",
       "    <tr>\n",
       "      <th>4</th>\n",
       "      <td>R-144c28f64d5e23966923a2a0c779286494f27b3fba1c...</td>\n",
       "      <td>MALWARE</td>\n",
       "      <td>_CorExeMain</td>\n",
       "    </tr>\n",
       "    <tr>\n",
       "      <th>...</th>\n",
       "      <td>...</td>\n",
       "      <td>...</td>\n",
       "      <td>...</td>\n",
       "    </tr>\n",
       "    <tr>\n",
       "      <th>1027</th>\n",
       "      <td>R-17b4666d69c4c82a89ee9208dfe8ebb84e3f7acdd81d...</td>\n",
       "      <td>MALWARE</td>\n",
       "      <td>FillConsoleOutputCharacterA GetProcessWorkingS...</td>\n",
       "    </tr>\n",
       "    <tr>\n",
       "      <th>1028</th>\n",
       "      <td>G-KBDUGHR.DLL</td>\n",
       "      <td>GOODWARE</td>\n",
       "      <td></td>\n",
       "    </tr>\n",
       "    <tr>\n",
       "      <th>1029</th>\n",
       "      <td>G-wpnservice.dll.mui</td>\n",
       "      <td>GOODWARE</td>\n",
       "      <td></td>\n",
       "    </tr>\n",
       "    <tr>\n",
       "      <th>1030</th>\n",
       "      <td>G-csrsrv.dll.mui</td>\n",
       "      <td>GOODWARE</td>\n",
       "      <td></td>\n",
       "    </tr>\n",
       "    <tr>\n",
       "      <th>1031</th>\n",
       "      <td>G-Microsoft-Windows-HomeGroupDiagnostic.Intero...</td>\n",
       "      <td>GOODWARE</td>\n",
       "      <td></td>\n",
       "    </tr>\n",
       "  </tbody>\n",
       "</table>\n",
       "<p>1032 rows × 3 columns</p>\n",
       "</div>"
      ],
      "text/plain": [
       "                                               filename     label  \\\n",
       "0     R-6196c30108fc71ecdab192dfbeda98b51a25a220195a...   MALWARE   \n",
       "1                                          G-pnpmig.dll  GOODWARE   \n",
       "2                           G-ConnectedAccountState.dll  GOODWARE   \n",
       "3     R-20f02f1e76aa29fb091f954451babf92d4ea31b25d5c...   MALWARE   \n",
       "4     R-144c28f64d5e23966923a2a0c779286494f27b3fba1c...   MALWARE   \n",
       "...                                                 ...       ...   \n",
       "1027  R-17b4666d69c4c82a89ee9208dfe8ebb84e3f7acdd81d...   MALWARE   \n",
       "1028                                      G-KBDUGHR.DLL  GOODWARE   \n",
       "1029                               G-wpnservice.dll.mui  GOODWARE   \n",
       "1030                                   G-csrsrv.dll.mui  GOODWARE   \n",
       "1031  G-Microsoft-Windows-HomeGroupDiagnostic.Intero...  GOODWARE   \n",
       "\n",
       "                                                  funcs  \n",
       "0     HeapFree VirtualFree HeapSize HeapReAlloc Heap...  \n",
       "1     memcpy_s wcstoul swprintf_s memmove toupper wc...  \n",
       "2     _unlock _lock __dllonexit _amsg_exit _XcptFilt...  \n",
       "3                                           _CorExeMain  \n",
       "4                                           _CorExeMain  \n",
       "...                                                 ...  \n",
       "1027  FillConsoleOutputCharacterA GetProcessWorkingS...  \n",
       "1028                                                     \n",
       "1029                                                     \n",
       "1030                                                     \n",
       "1031                                                     \n",
       "\n",
       "[1032 rows x 3 columns]"
      ]
     },
     "execution_count": 75,
     "metadata": {},
     "output_type": "execute_result"
    }
   ],
   "source": [
    "train"
   ]
  },
  {
   "cell_type": "code",
   "execution_count": 76,
   "metadata": {},
   "outputs": [],
   "source": [
    "vectorizer = CountVectorizer(lowercase=False)\n",
    "train_vectors = vectorizer.fit_transform(train['funcs'])"
   ]
  },
  {
   "cell_type": "code",
   "execution_count": 77,
   "metadata": {},
   "outputs": [
    {
     "name": "stderr",
     "output_type": "stream",
     "text": [
      "/home/joao/.local/lib/python3.10/site-packages/sklearn/utils/deprecation.py:87: FutureWarning: Function get_feature_names is deprecated; get_feature_names is deprecated in 1.0 and will be removed in 1.2. Please use get_feature_names_out instead.\n",
      "  warnings.warn(msg, category=FutureWarning)\n"
     ]
    }
   ],
   "source": [
    "# export the ordered list of features used by the vectorizer\n",
    "with open('feature_names.txt', 'w') as f:\n",
    "    for feature in vectorizer.get_feature_names():\n",
    "        f.write(feature + '\\n')"
   ]
  },
  {
   "cell_type": "code",
   "execution_count": 78,
   "metadata": {},
   "outputs": [
    {
     "name": "stdout",
     "output_type": "stream",
     "text": [
      "[2403 5766 2407 2405 2399 2140 5771  665 5588 5139 1867 5514 2799 2774\n",
      " 2205 2065 4116 1868 1871 2237 2606 4685 2626 2014 5051 1140 1188 2959\n",
      "  945 2601 5521 5523 5524 5522 1537 2136 2978 4132 1368 2064 2059 3299\n",
      " 5897 1747 2208 1962 2942 1472 1480 1488 2811 2084 1777 1828 1829 1935\n",
      " 1536 2217 5112 1519 5978 1842 1848 5034  929  443 5977]\n",
      "IsRectEmpty\n",
      "R-6196c30108fc71ecdab192dfbeda98b51a25a220195ad64bd73b2a566936fc9b.dll\n"
     ]
    }
   ],
   "source": [
    "# Print train_vectors index that are not zero\n",
    "print(train_vectors[0].nonzero()[1])\n",
    "print(vectorizer.get_feature_names()[2800])\n",
    "\n",
    "print(train.iloc[0]['filename'])\n"
   ]
  },
  {
   "cell_type": "code",
   "execution_count": 79,
   "metadata": {},
   "outputs": [],
   "source": [
    "# For each row in train datatable, write a new file in the export directory\n",
    "\n",
    "for index, row in train.iterrows():\n",
    "    filename = row['filename']\n",
    "    # Create file in export directory \n",
    "    with open(os.path.join(export_dt_dir_name, filename), 'w') as f:\n",
    "        # write train_vectors list as a string in the file\n",
    "        f.write(''.join([str(x) for x in train_vectors[index].toarray()[0]]))"
   ]
  }
 ],
 "metadata": {
  "kernelspec": {
   "display_name": "Python 3",
   "language": "python",
   "name": "python3"
  },
  "language_info": {
   "codemirror_mode": {
    "name": "ipython",
    "version": 3
   },
   "file_extension": ".py",
   "mimetype": "text/x-python",
   "name": "python",
   "nbconvert_exporter": "python",
   "pygments_lexer": "ipython3",
   "version": "3.10.6"
  },
  "orig_nbformat": 4
 },
 "nbformat": 4,
 "nbformat_minor": 2
}
