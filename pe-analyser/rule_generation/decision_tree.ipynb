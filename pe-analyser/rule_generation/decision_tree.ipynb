{
 "cells": [
  {
   "cell_type": "code",
   "execution_count": 1,
   "metadata": {},
   "outputs": [],
   "source": [
    "import sys\n",
    "import os\n",
    "import pandas as pd\n",
    "import numpy as np\n",
    "import seaborn as sns\n",
    "from sklearn.feature_extraction.text import TfidfVectorizer\n",
    "from sklearn.tree import DecisionTreeClassifier, plot_tree\n",
    "from sklearn.model_selection import train_test_split\n",
    "from sklearn.metrics import accuracy_score, confusion_matrix, f1_score\n",
    "import matplotlib.pyplot as plt"
   ]
  },
  {
   "cell_type": "markdown",
   "metadata": {},
   "source": [
    "# Criar Decision Tree"
   ]
  },
  {
   "cell_type": "code",
   "execution_count": 32,
   "metadata": {},
   "outputs": [],
   "source": [
    "func_dict = {}"
   ]
  },
  {
   "cell_type": "code",
   "execution_count": 33,
   "metadata": {},
   "outputs": [],
   "source": [
    "def ld_data(dir_name):\n",
    "    # Load data in files from directory dir_name in a pandas dataframe\n",
    "    df = pd.DataFrame()\n",
    "    for filename in os.listdir(dir_name):\n",
    "        funcs = []\n",
    "        with open(os.path.join(dir_name, filename), 'r') as f:\n",
    "            lines = f.read().splitlines()\n",
    "            \n",
    "            for line in lines:\n",
    "                lib, func = line.split(' ')\n",
    "                if '@' in func or '?' in func:\n",
    "                    continue\n",
    "\n",
    "                if not func.lower() in func_dict:\n",
    "                    func_dict[func.lower()] = [(lib, func)]\n",
    "                else:\n",
    "                    func_dict[func.lower()].append((lib, func))\n",
    "\n",
    "                funcs.append(func)\n",
    "\n",
    "        label = 'MALWARE' if filename.startswith('R') else 'GOODWARE'\n",
    "        df = pd.concat([df, pd.DataFrame({'filename': filename, 'label': label, 'funcs': ' '.join(funcs)}, index=[0])], ignore_index=True)\n",
    "        \n",
    "    return df\n"
   ]
  },
  {
   "cell_type": "code",
   "execution_count": 34,
   "metadata": {},
   "outputs": [],
   "source": [
    "# train_dt_dir_name = '../data/arquivos-nilson-filtro-2/'\n",
    "train_dt_dir_name = '/archive/files/small-dir'\n",
    "test_mw_dt_dir_name = '/archive/files/nastyware-files/import-malware-bazaar-2021-01-to-2021-02-f'\n",
    "teste_gd_dt_dir_name = '/archive/files/nastyware-files/import-windows-server-2016-f'"
   ]
  },
  {
   "cell_type": "code",
   "execution_count": 35,
   "metadata": {},
   "outputs": [],
   "source": [
    "train = ld_data(train_dt_dir_name)\n",
    "test_mw = ld_data(test_mw_dt_dir_name)\n",
    "test_gw = ld_data(teste_gd_dt_dir_name)\n",
    "\n",
    "test = pd.concat([test_mw, test_gw], ignore_index=True)"
   ]
  },
  {
   "cell_type": "code",
   "execution_count": 36,
   "metadata": {},
   "outputs": [
    {
     "name": "stdout",
     "output_type": "stream",
     "text": [
      "Train data shape:  (216, 3)\n",
      "Test data shape:  (12848, 3)\n"
     ]
    }
   ],
   "source": [
    "print('Train data shape: ', train.shape)\n",
    "print('Test data shape: ', test.shape)"
   ]
  },
  {
   "cell_type": "code",
   "execution_count": 37,
   "metadata": {},
   "outputs": [],
   "source": [
    "vectorizer = TfidfVectorizer()\n",
    "train_vectors = vectorizer.fit_transform(train['funcs']).ceil()\n",
    "test_vectors = vectorizer.transform(test['funcs']).ceil()\n",
    "test_mw_vectors = vectorizer.transform(test_mw['funcs']).ceil()\n",
    "test_gw_vectors = vectorizer.transform(test_gw['funcs']).ceil()"
   ]
  },
  {
   "cell_type": "code",
   "execution_count": 38,
   "metadata": {},
   "outputs": [
    {
     "data": {
      "text/html": [
       "<style>#sk-container-id-3 {color: black;background-color: white;}#sk-container-id-3 pre{padding: 0;}#sk-container-id-3 div.sk-toggleable {background-color: white;}#sk-container-id-3 label.sk-toggleable__label {cursor: pointer;display: block;width: 100%;margin-bottom: 0;padding: 0.3em;box-sizing: border-box;text-align: center;}#sk-container-id-3 label.sk-toggleable__label-arrow:before {content: \"▸\";float: left;margin-right: 0.25em;color: #696969;}#sk-container-id-3 label.sk-toggleable__label-arrow:hover:before {color: black;}#sk-container-id-3 div.sk-estimator:hover label.sk-toggleable__label-arrow:before {color: black;}#sk-container-id-3 div.sk-toggleable__content {max-height: 0;max-width: 0;overflow: hidden;text-align: left;background-color: #f0f8ff;}#sk-container-id-3 div.sk-toggleable__content pre {margin: 0.2em;color: black;border-radius: 0.25em;background-color: #f0f8ff;}#sk-container-id-3 input.sk-toggleable__control:checked~div.sk-toggleable__content {max-height: 200px;max-width: 100%;overflow: auto;}#sk-container-id-3 input.sk-toggleable__control:checked~label.sk-toggleable__label-arrow:before {content: \"▾\";}#sk-container-id-3 div.sk-estimator input.sk-toggleable__control:checked~label.sk-toggleable__label {background-color: #d4ebff;}#sk-container-id-3 div.sk-label input.sk-toggleable__control:checked~label.sk-toggleable__label {background-color: #d4ebff;}#sk-container-id-3 input.sk-hidden--visually {border: 0;clip: rect(1px 1px 1px 1px);clip: rect(1px, 1px, 1px, 1px);height: 1px;margin: -1px;overflow: hidden;padding: 0;position: absolute;width: 1px;}#sk-container-id-3 div.sk-estimator {font-family: monospace;background-color: #f0f8ff;border: 1px dotted black;border-radius: 0.25em;box-sizing: border-box;margin-bottom: 0.5em;}#sk-container-id-3 div.sk-estimator:hover {background-color: #d4ebff;}#sk-container-id-3 div.sk-parallel-item::after {content: \"\";width: 100%;border-bottom: 1px solid gray;flex-grow: 1;}#sk-container-id-3 div.sk-label:hover label.sk-toggleable__label {background-color: #d4ebff;}#sk-container-id-3 div.sk-serial::before {content: \"\";position: absolute;border-left: 1px solid gray;box-sizing: border-box;top: 0;bottom: 0;left: 50%;z-index: 0;}#sk-container-id-3 div.sk-serial {display: flex;flex-direction: column;align-items: center;background-color: white;padding-right: 0.2em;padding-left: 0.2em;position: relative;}#sk-container-id-3 div.sk-item {position: relative;z-index: 1;}#sk-container-id-3 div.sk-parallel {display: flex;align-items: stretch;justify-content: center;background-color: white;position: relative;}#sk-container-id-3 div.sk-item::before, #sk-container-id-3 div.sk-parallel-item::before {content: \"\";position: absolute;border-left: 1px solid gray;box-sizing: border-box;top: 0;bottom: 0;left: 50%;z-index: -1;}#sk-container-id-3 div.sk-parallel-item {display: flex;flex-direction: column;z-index: 1;position: relative;background-color: white;}#sk-container-id-3 div.sk-parallel-item:first-child::after {align-self: flex-end;width: 50%;}#sk-container-id-3 div.sk-parallel-item:last-child::after {align-self: flex-start;width: 50%;}#sk-container-id-3 div.sk-parallel-item:only-child::after {width: 0;}#sk-container-id-3 div.sk-dashed-wrapped {border: 1px dashed gray;margin: 0 0.4em 0.5em 0.4em;box-sizing: border-box;padding-bottom: 0.4em;background-color: white;}#sk-container-id-3 div.sk-label label {font-family: monospace;font-weight: bold;display: inline-block;line-height: 1.2em;}#sk-container-id-3 div.sk-label-container {text-align: center;}#sk-container-id-3 div.sk-container {/* jupyter's `normalize.less` sets `[hidden] { display: none; }` but bootstrap.min.css set `[hidden] { display: none !important; }` so we also need the `!important` here to be able to override the default hidden behavior on the sphinx rendered scikit-learn.org. See: https://github.com/scikit-learn/scikit-learn/issues/21755 */display: inline-block !important;position: relative;}#sk-container-id-3 div.sk-text-repr-fallback {display: none;}</style><div id=\"sk-container-id-3\" class=\"sk-top-container\"><div class=\"sk-text-repr-fallback\"><pre>DecisionTreeClassifier(criterion=&#x27;entropy&#x27;)</pre><b>In a Jupyter environment, please rerun this cell to show the HTML representation or trust the notebook. <br />On GitHub, the HTML representation is unable to render, please try loading this page with nbviewer.org.</b></div><div class=\"sk-container\" hidden><div class=\"sk-item\"><div class=\"sk-estimator sk-toggleable\"><input class=\"sk-toggleable__control sk-hidden--visually\" id=\"sk-estimator-id-3\" type=\"checkbox\" checked><label for=\"sk-estimator-id-3\" class=\"sk-toggleable__label sk-toggleable__label-arrow\">DecisionTreeClassifier</label><div class=\"sk-toggleable__content\"><pre>DecisionTreeClassifier(criterion=&#x27;entropy&#x27;)</pre></div></div></div></div></div>"
      ],
      "text/plain": [
       "DecisionTreeClassifier(criterion='entropy')"
      ]
     },
     "execution_count": 38,
     "metadata": {},
     "output_type": "execute_result"
    }
   ],
   "source": [
    "classifier = DecisionTreeClassifier(criterion='entropy')\n",
    "\n",
    "classifier.fit(train_vectors, train['label'])"
   ]
  },
  {
   "cell_type": "code",
   "execution_count": 39,
   "metadata": {},
   "outputs": [
    {
     "name": "stderr",
     "output_type": "stream",
     "text": [
      "/home/joao/.local/lib/python3.10/site-packages/sklearn/utils/deprecation.py:87: FutureWarning: Function get_feature_names is deprecated; get_feature_names is deprecated in 1.0 and will be removed in 1.2. Please use get_feature_names_out instead.\n",
      "  warnings.warn(msg, category=FutureWarning)\n"
     ]
    },
    {
     "data": {
      "image/png": "[encoded data removed]",
      "text/plain": [
       "<Figure size 432x288 with 1 Axes>"
      ]
     },
     "metadata": {
      "needs_background": "light"
     },
     "output_type": "display_data"
    }
   ],
   "source": [
    "# Plot the three with feature names\n",
    "fn = vectorizer.get_feature_names()\n",
    "cn = ['GOODWARE', 'MALWARE']\n",
    "\n",
    "plot_tree(classifier,\n",
    "               feature_names = fn, \n",
    "               class_names=cn,\n",
    "               filled = True);\n",
    "\n",
    "plt.savefig('decision_tree.svg')\n"
   ]
  },
  {
   "cell_type": "code",
   "execution_count": 40,
   "metadata": {},
   "outputs": [],
   "source": [
    "pred_t = classifier.predict(test_vectors)\n",
    "pred_mw = classifier.predict(test_mw_vectors)\n",
    "pred_gw = classifier.predict(test_gw_vectors)"
   ]
  },
  {
   "cell_type": "code",
   "execution_count": 41,
   "metadata": {},
   "outputs": [
    {
     "name": "stdout",
     "output_type": "stream",
     "text": [
      "Accuracy total: 0.7387920298879203\n",
      "Accuracy malware: 0.966679682415723\n",
      "Accuracy goodware: 0.3998063891577928\n",
      "F1 score: 0.7095718384205213\n"
     ]
    }
   ],
   "source": [
    "print('Accuracy total: {}'.format(accuracy_score(test['label'], pred_t)))\n",
    "print('Accuracy malware: {}'.format(accuracy_score(test_mw['label'], pred_mw)))\n",
    "print('Accuracy goodware: {}'.format(accuracy_score(test_gw['label'], pred_gw)))\n",
    "print('F1 score: {}'.format(f1_score(test['label'], pred_t, average='weighted')))"
   ]
  },
  {
   "cell_type": "code",
   "execution_count": 42,
   "metadata": {},
   "outputs": [
    {
     "data": {
      "text/plain": [
       "Text(33.0, 0.5, 'Predicted')"
      ]
     },
     "execution_count": 42,
     "metadata": {},
     "output_type": "execute_result"
    },
    {
     "data": {
      "image/png": "[encoded data removed]",
      "text/plain": [
       "<Figure size 432x288 with 2 Axes>"
      ]
     },
     "metadata": {
      "needs_background": "light"
     },
     "output_type": "display_data"
    }
   ],
   "source": [
    "cm = confusion_matrix(test['label'], pred_t)\n",
    "\n",
    "sns.heatmap(cm, annot=True, fmt='d', cmap='Blues', xticklabels=['GOODWARE', 'MALWARE'], yticklabels=['GOODWARE', 'MALWARE'])\n",
    "plt.xlabel('Label')\n",
    "plt.ylabel('Predicted')"
   ]
  },
  {
   "cell_type": "code",
   "execution_count": 43,
   "metadata": {},
   "outputs": [
    {
     "ename": "IndexError",
     "evalue": "index 7166 is out of bounds for axis 0 with size 4603",
     "output_type": "error",
     "traceback": [
      "\u001b[0;31m---------------------------------------------------------------------------\u001b[0m",
      "\u001b[0;31mIndexError\u001b[0m                                Traceback (most recent call last)",
      "\u001b[0;32m/tmp/ipykernel_6241/1848963373.py\u001b[0m in \u001b[0;36m<module>\u001b[0;34m\u001b[0m\n\u001b[0;32m----> 1\u001b[0;31m \u001b[0mprint\u001b[0m\u001b[0;34m(\u001b[0m\u001b[0mvectorizer\u001b[0m\u001b[0;34m.\u001b[0m\u001b[0mget_feature_names_out\u001b[0m\u001b[0;34m(\u001b[0m\u001b[0;34m)\u001b[0m\u001b[0;34m[\u001b[0m\u001b[0;36m7166\u001b[0m\u001b[0;34m]\u001b[0m\u001b[0;34m)\u001b[0m\u001b[0;34m\u001b[0m\u001b[0;34m\u001b[0m\u001b[0m\n\u001b[0m",
      "\u001b[0;31mIndexError\u001b[0m: index 7166 is out of bounds for axis 0 with size 4603"
     ]
    }
   ],
   "source": [
    "# print(vectorizer.get_feature_names_out()[7166])"
   ]
  },
  {
   "cell_type": "markdown",
   "metadata": {},
   "source": [
    "# Criar Yara Rule"
   ]
  },
  {
   "cell_type": "code",
   "execution_count": 44,
   "metadata": {},
   "outputs": [],
   "source": [
    "import yara\n",
    "import yara_tools"
   ]
  },
  {
   "cell_type": "code",
   "execution_count": 45,
   "metadata": {},
   "outputs": [],
   "source": [
    "n_nodes = classifier.tree_.node_count\n",
    "children_left = classifier.tree_.children_left\n",
    "children_right = classifier.tree_.children_right\n",
    "feature = classifier.tree_.feature\n",
    "threshold = classifier.tree_.threshold\n",
    "value = classifier.tree_.value\n",
    "impurity = classifier.tree_.impurity"
   ]
  },
  {
   "cell_type": "code",
   "execution_count": 46,
   "metadata": {},
   "outputs": [],
   "source": [
    "def find_path(node_numb, path, x):\n",
    "    path.append(node_numb)\n",
    "    if node_numb == x:\n",
    "        return True\n",
    "    left = False\n",
    "    right = False\n",
    "    if (children_left[node_numb] != -1):\n",
    "        left = find_path(children_left[node_numb], path, x)\n",
    "    if (children_right[node_numb] != -1):\n",
    "        right = find_path(children_right[node_numb], path, x)\n",
    "    if left or right:\n",
    "        return True\n",
    "    path.remove(node_numb)\n",
    "    return False"
   ]
  },
  {
   "cell_type": "code",
   "execution_count": 47,
   "metadata": {},
   "outputs": [],
   "source": [
    "def get_rule(path, column_names):\n",
    "    mask = ''\n",
    "    for index, node in enumerate(path):\n",
    "        if index != len(path) - 1:\n",
    "            if (children_left[node] == path[index+1]):\n",
    "                mask += \"(df['{}']<= {}) \\t \".format(column_names[feature[node]], threshold[node])\n",
    "            else:\n",
    "                mask += \"(df['{}']> {}) \\t \".format(column_names[feature[node]], threshold[node])\n",
    "    mask = mask.replace(\"\\t\", \"&\", mask.count(\"\\t\") - 1)\n",
    "    mask = mask.replace(\"\\t\", \"\")\n",
    "    return mask"
   ]
  },
  {
   "cell_type": "code",
   "execution_count": 48,
   "metadata": {},
   "outputs": [],
   "source": [
    "def get_yara_rule(rule, condition_group, path, column_names):\n",
    "    for index, node in enumerate(path):\n",
    "        if index != len(path) - 1:\n",
    "            func_lwr = column_names[feature[node]]\n",
    "            if (children_left[node] == path[index+1]):\n",
    "                rule.create_condition_group(name=\"{}_{}\".format(condition_group, index), parent_group=condition_group, default_boolean=\"and\")\n",
    "                for lib, func in func_dict[func_lwr]:\n",
    "                    rule.add_condition(f'not(pe.imports(\"{lib}\", \"{func}\"))', condition_group=\"{}_{}\".format(condition_group, index))\n",
    "            else:\n",
    "                rule.create_condition_group(name=\"{}_{}\".format(condition_group, index), parent_group=condition_group, default_boolean=\"or\")\n",
    "                for lib, func in func_dict[func_lwr]:\n",
    "                    rule.add_condition(f'pe.imports(\"{lib}\", \"{func}\")', condition_group=\"{}_{}\".format(condition_group, index))\n"
   ]
  },
  {
   "cell_type": "code",
   "execution_count": 49,
   "metadata": {},
   "outputs": [],
   "source": [
    "rule = yara_tools.create_rule(name=\"automatic_rule\", default_boolean='or')\n",
    "\n",
    "rule.add_import(name=\"pe\")\n",
    "\n",
    "# Leaves\n",
    "leave_id = classifier.apply(train_vectors)\n",
    "\n",
    "paths = {}\n",
    "for leaf in np.unique(leave_id):\n",
    "    path_leaf = []\n",
    "    find_path(0, path_leaf, leaf)\n",
    "    paths[leaf] = np.unique(np.sort(path_leaf))\n",
    "\n",
    "# Cut paths that lead to goodwares\n",
    "filtered_paths = {}\n",
    "for path in paths:\n",
    "    n_goodwares, n_malwares = value[path][0]\n",
    "    if n_malwares > n_goodwares:\n",
    "        filtered_paths[path] = paths[path]\n",
    "\n",
    "paths = filtered_paths\n",
    "\n",
    "for leaf_num in paths:\n",
    "    rule.create_condition_group(name=\"group_{}\".format(leaf_num), default_boolean='and')\n",
    "    get_yara_rule(rule, \"group_{}\".format(leaf_num), paths[leaf_num], vectorizer.get_feature_names_out())"
   ]
  },
  {
   "cell_type": "code",
   "execution_count": 50,
   "metadata": {},
   "outputs": [],
   "source": [
    "generated_rule = rule.build_rule(condition_groups=True)\n",
    "\n",
    "compiled_rule = yara.compile(source=generated_rule)"
   ]
  },
  {
   "cell_type": "code",
   "execution_count": 51,
   "metadata": {},
   "outputs": [
    {
     "name": "stdout",
     "output_type": "stream",
     "text": [
      "import \"pe\"\n",
      "\n",
      "rule automatic_rule\n",
      "{\n",
      "\n",
      "\n",
      "\tcondition:\n",
      "\t\t((not(pe.imports(\"api-ms-win-core-rtlsupport-l1-2-0.dll\", \"RtlCaptureContext\")) and not(pe.imports(\"api-ms-win-core-rtlsupport-l1-1-0.dll\", \"RtlCaptureContext\")) and not(pe.imports(\"ntdll.dll\", \"RtlCaptureContext\")) and not(pe.imports(\"kernel32.dll\", \"RtlCaptureContext\")) and not(pe.imports(\"rtmpal.dll\", \"RtlCaptureContext\")) and not(pe.imports(\"ntoskrnl.exe\", \"RtlCaptureContext\"))) and (not(pe.imports(\"pt\", \"taFram\"))) and (not(pe.imports(\"mscoree.dll\", \"_CorDllMain\"))) and (not(pe.imports(\"msvcr120_clr0400.dll\", \"__crtUnhandledException\"))))\n",
      "\n",
      "}\n"
     ]
    }
   ],
   "source": [
    "print (generated_rule)"
   ]
  }
 ],
 "metadata": {
  "kernelspec": {
   "display_name": "Python 3.8.10 64-bit",
   "language": "python",
   "name": "python3"
  },
  "language_info": {
   "codemirror_mode": {
    "name": "ipython",
    "version": 3
   },
   "file_extension": ".py",
   "mimetype": "text/x-python",
   "name": "python",
   "nbconvert_exporter": "python",
   "pygments_lexer": "ipython3",
   "version": "3.10.6"
  },
  "orig_nbformat": 4,
  "vscode": {
   "interpreter": {
    "hash": "916dbcbb3f70747c44a77c7bcd40155683ae19c65e1c03b4aa3499c5328201f1"
   }
  }
 },
 "nbformat": 4,
 "nbformat_minor": 2
}
