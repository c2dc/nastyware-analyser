{
 "cells": [
  {
   "cell_type": "code",
   "execution_count": 100,
   "metadata": {},
   "outputs": [],
   "source": [
    "import sys\n",
    "import os\n",
    "import pandas as pd\n",
    "import numpy as np\n",
    "from sklearn.feature_extraction.text import TfidfVectorizer\n",
    "from sklearn.tree import DecisionTreeClassifier, plot_tree\n",
    "from sklearn.model_selection import train_test_split\n",
    "from sklearn.metrics import accuracy_score\n",
    "import matplotlib.pyplot as plt"
   ]
  },
  {
   "cell_type": "code",
   "execution_count": 101,
   "metadata": {},
   "outputs": [],
   "source": [
    "def ld_data (dir_name):\n",
    "    # Load data in files from directory dir_name in a pandas dataframe\n",
    "    df = pd.DataFrame()\n",
    "    for filename in os.listdir(dir_name):\n",
    "        funcs = []\n",
    "        with open(os.path.join(dir_name, filename), 'r') as f:\n",
    "            lines = f.read().splitlines()\n",
    "            \n",
    "            funcs = [line.strip().split(' ')[1][2:-1] for line in lines if not '@' in line.strip().split(' ')[1][2:-1] and not '?' in line.strip().split(' ')[1][2:-1]]\n",
    "\n",
    "        # Concat all functions as string in df\n",
    "        label = 'MALWARE' if filename.startswith('R-') else 'GOODWARE'\n",
    "        df = pd.concat([df, pd.DataFrame({'filename': filename, 'label': label, 'funcs': ' '.join(funcs)}, index=[0])], ignore_index=True)\n",
    "        \n",
    "    return df\n"
   ]
  },
  {
   "cell_type": "code",
   "execution_count": 102,
   "metadata": {},
   "outputs": [],
   "source": [
    "train_dt_dir_name = '../data/executable-functions/'\n",
    "test_dt_dir_name = '../data/executable-functions-test/'\n",
    "# test_dt_dir_name = '/archive/files/imports/'"
   ]
  },
  {
   "cell_type": "code",
   "execution_count": 103,
   "metadata": {},
   "outputs": [],
   "source": [
    "train = ld_data(train_dt_dir_name)\n",
    "test = ld_data(test_dt_dir_name)"
   ]
  },
  {
   "cell_type": "code",
   "execution_count": 104,
   "metadata": {},
   "outputs": [
    {
     "name": "stdout",
     "output_type": "stream",
     "text": [
      "97\n",
      "53\n",
      "44\n"
     ]
    }
   ],
   "source": [
    "print(len(test))\n",
    "print(len(test[test['label'] == 'MALWARE']))\n",
    "print(len(test[test['label'] == 'GOODWARE']))\n",
    "test_goodware = test[test['label'] == 'GOODWARE']\n",
    "test_malware = test[test['label'] == 'MALWARE']"
   ]
  },
  {
   "cell_type": "code",
   "execution_count": 105,
   "metadata": {},
   "outputs": [
    {
     "name": "stdout",
     "output_type": "stream",
     "text": [
      "['___lc_codepage_func' '___lc_collate_cp_func' '___lc_handle_func' ...\n",
      " 'zwupdatewnfstatedata' 'zwwaitforsingleobject' 'zwwritefile']\n",
      "R-Win32.Wannacry.sample\n",
      "[0. 0. 0. ... 0. 0. 0.]\n"
     ]
    }
   ],
   "source": [
    "# Create the tf-idf vectorizer\n",
    "vectorizer = TfidfVectorizer()\n",
    "train_vectors = vectorizer.fit_transform(train['funcs']).ceil()\n",
    "test_g_vectors = vectorizer.transform(test_goodware['funcs']).ceil()\n",
    "test_m_vectors = vectorizer.transform(test_malware['funcs']).ceil()\n",
    "\n",
    "print(vectorizer.get_feature_names_out())\n",
    "print(train['filename'][0])\n",
    "print(train_vectors.toarray()[0])"
   ]
  },
  {
   "cell_type": "code",
   "execution_count": 106,
   "metadata": {},
   "outputs": [
    {
     "data": {
      "image/png": "[encoded data removed]",
      "text/plain": [
       "<Figure size 432x288 with 1 Axes>"
      ]
     },
     "metadata": {
      "needs_background": "light"
     },
     "output_type": "display_data"
    }
   ],
   "source": [
    "# Train the classifier\n",
    "classifier = DecisionTreeClassifier()\n",
    "\n",
    "classifier.fit(train_vectors, train['label'])\n",
    "# Print information about the decision tree -- 31 features\n",
    "plot_tree(classifier)\n",
    "plt.savefig('decision_tree.svg')"
   ]
  },
  {
   "cell_type": "code",
   "execution_count": 107,
   "metadata": {},
   "outputs": [
    {
     "name": "stdout",
     "output_type": "stream",
     "text": [
      "Accuracy goodwares: 1.0\n",
      "Accuracy malwares: 1.0\n"
     ]
    }
   ],
   "source": [
    "pred_g = classifier.predict(test_g_vectors)\n",
    "pred_m = classifier.predict(test_m_vectors)\n",
    "\n",
    "# Evaluate the classifier\n",
    "print('Accuracy goodwares: {}'.format(accuracy_score(test_goodware['label'], pred_g)))\n",
    "print('Accuracy malwares: {}'.format(accuracy_score(test_malware['label'], pred_m)))"
   ]
  },
  {
   "cell_type": "code",
   "execution_count": 108,
   "metadata": {},
   "outputs": [
    {
     "name": "stdout",
     "output_type": "stream",
     "text": [
      "rtlcapturecontext\n"
     ]
    }
   ],
   "source": [
    "print(vectorizer.get_feature_names_out()[7333])"
   ]
  },
  {
   "cell_type": "code",
   "execution_count": 124,
   "metadata": {},
   "outputs": [],
   "source": [
    "n_nodes = classifier.tree_.node_count\n",
    "children_left = classifier.tree_.children_left\n",
    "children_right = classifier.tree_.children_right\n",
    "feature = classifier.tree_.feature\n",
    "threshold = classifier.tree_.threshold\n",
    "value = classifier.tree_.value\n",
    "impurity = classifier.tree_.impurity\n"
   ]
  },
  {
   "cell_type": "code",
   "execution_count": 126,
   "metadata": {},
   "outputs": [
    {
     "name": "stdout",
     "output_type": "stream",
     "text": [
      "[ 1  2  3  4  5 -1  7 -1 -1 -1 -1 12 -1 -1 15 16 17 18 19 -1 21 -1 -1 24\n",
      " -1 -1 -1 -1 29 -1 -1]\n",
      "[14 11 10  9  6 -1  8 -1 -1 -1 -1 13 -1 -1 28 27 26 23 20 -1 22 -1 -1 25\n",
      " -1 -1 -1 -1 30 -1 -1]\n",
      "[7756   11 9548 5478 2583   -2 4768   -2   -2   -2   -2 5276   -2   -2\n",
      " 7741   56 3432   71 7904   -2 8015   -2   -2 4212   -2   -2   -2   -2\n",
      " 2524   -2   -2]\n",
      "[[[748. 898.]]\n",
      "\n",
      " [[ 22. 888.]]\n",
      "\n",
      " [[  5. 887.]]\n",
      "\n",
      " [[  3. 887.]]\n",
      "\n",
      " [[  2. 887.]]\n",
      "\n",
      " [[  0. 885.]]\n",
      "\n",
      " [[  2.   2.]]\n",
      "\n",
      " [[  2.   0.]]\n",
      "\n",
      " [[  0.   2.]]\n",
      "\n",
      " [[  1.   0.]]\n",
      "\n",
      " [[  2.   0.]]\n",
      "\n",
      " [[ 17.   1.]]\n",
      "\n",
      " [[ 17.   0.]]\n",
      "\n",
      " [[  0.   1.]]\n",
      "\n",
      " [[726.  10.]]\n",
      "\n",
      " [[725.   7.]]\n",
      "\n",
      " [[725.   5.]]\n",
      "\n",
      " [[725.   4.]]\n",
      "\n",
      " [[717.   1.]]\n",
      "\n",
      " [[715.   0.]]\n",
      "\n",
      " [[  2.   1.]]\n",
      "\n",
      " [[  2.   0.]]\n",
      "\n",
      " [[  0.   1.]]\n",
      "\n",
      " [[  8.   3.]]\n",
      "\n",
      " [[  8.   0.]]\n",
      "\n",
      " [[  0.   3.]]\n",
      "\n",
      " [[  0.   1.]]\n",
      "\n",
      " [[  0.   2.]]\n",
      "\n",
      " [[  1.   3.]]\n",
      "\n",
      " [[  0.   3.]]\n",
      "\n",
      " [[  1.   0.]]]\n"
     ]
    }
   ],
   "source": [
    "print(children_left)\n",
    "print(children_right)\n",
    "print(feature)\n",
    "print(value)"
   ]
  },
  {
   "cell_type": "code",
   "execution_count": 111,
   "metadata": {},
   "outputs": [],
   "source": [
    "def find_path(node_numb, path, x):\n",
    "    path.append(node_numb)\n",
    "    if node_numb == x:\n",
    "        return True\n",
    "    left = False\n",
    "    right = False\n",
    "    if (children_left[node_numb] != -1):\n",
    "        left = find_path(children_left[node_numb], path, x)\n",
    "    if (children_right[node_numb] != -1):\n",
    "        right = find_path(children_right[node_numb], path, x)\n",
    "    if left or right:\n",
    "        return True\n",
    "    path.remove(node_numb)\n",
    "    return False\n",
    "\n",
    "\n",
    "def get_rule(path, column_names):\n",
    "    mask = ''\n",
    "    for index, node in enumerate(path):\n",
    "        # We check if we are not in the leaf\n",
    "        if index != len(path) - 1:\n",
    "            # Do we go under or over the threshold ?\n",
    "            if (children_left[node] == path[index+1]):\n",
    "                mask += \"(df['{}']<= {}) \\t \".format(column_names[feature[node]], threshold[node])\n",
    "            else:\n",
    "                mask += \"(df['{}']> {}) \\t \".format(column_names[feature[node]], threshold[node])\n",
    "    # We insert the & at the right places\n",
    "    mask = mask.replace(\"\\t\", \"&\", mask.count(\"\\t\") - 1)\n",
    "    mask = mask.replace(\"\\t\", \"\")\n",
    "    return mask\n"
   ]
  },
  {
   "cell_type": "code",
   "execution_count": 112,
   "metadata": {},
   "outputs": [],
   "source": [
    "# Leaves\n",
    "leave_id = classifier.apply(train_vectors)\n",
    "\n",
    "paths = {}\n",
    "for leaf in np.unique(leave_id):\n",
    "    path_leaf = []\n",
    "    find_path(0, path_leaf, leaf)\n",
    "    paths[leaf] = np.unique(np.sort(path_leaf))\n",
    "\n",
    "rules = {}\n",
    "for key in paths:\n",
    "    rules[key] = get_rule(paths[key], vectorizer.get_feature_names_out())\n"
   ]
  },
  {
   "cell_type": "code",
   "execution_count": 131,
   "metadata": {},
   "outputs": [
    {
     "name": "stdout",
     "output_type": "stream",
     "text": [
      "{5: array([0, 1, 2, 3, 4, 5], dtype=int64), 7: array([0, 1, 2, 3, 4, 6, 7], dtype=int64), 8: array([0, 1, 2, 3, 4, 6, 8], dtype=int64), 9: array([0, 1, 2, 3, 9], dtype=int64), 10: array([ 0,  1,  2, 10], dtype=int64), 12: array([ 0,  1, 11, 12], dtype=int64), 13: array([ 0,  1, 11, 13], dtype=int64), 19: array([ 0, 14, 15, 16, 17, 18, 19], dtype=int64), 21: array([ 0, 14, 15, 16, 17, 18, 20, 21], dtype=int64), 22: array([ 0, 14, 15, 16, 17, 18, 20, 22], dtype=int64), 24: array([ 0, 14, 15, 16, 17, 23, 24], dtype=int64), 25: array([ 0, 14, 15, 16, 17, 23, 25], dtype=int64), 26: array([ 0, 14, 15, 16, 26], dtype=int64), 27: array([ 0, 14, 15, 27], dtype=int64), 29: array([ 0, 14, 28, 29], dtype=int64), 30: array([ 0, 14, 28, 30], dtype=int64)}\n"
     ]
    }
   ],
   "source": [
    "print(paths)"
   ]
  },
  {
   "cell_type": "code",
   "execution_count": 113,
   "metadata": {},
   "outputs": [
    {
     "data": {
      "text/plain": [
       "{5: \"(df['rtlvirtualunwind']<= 0.5) & (df['__c_specific_handler']<= 0.5) & (df['zwclose']<= 0.5) & (df['mmmapiospaceex']<= 0.5) & (df['disablethreadlibrarycalls']<= 0.5)  \",\n",
       " 7: \"(df['rtlvirtualunwind']<= 0.5) & (df['__c_specific_handler']<= 0.5) & (df['zwclose']<= 0.5) & (df['mmmapiospaceex']<= 0.5) & (df['disablethreadlibrarycalls']> 0.5) & (df['isdebuggerpresent']<= 0.5)  \",\n",
       " 8: \"(df['rtlvirtualunwind']<= 0.5) & (df['__c_specific_handler']<= 0.5) & (df['zwclose']<= 0.5) & (df['mmmapiospaceex']<= 0.5) & (df['disablethreadlibrarycalls']> 0.5) & (df['isdebuggerpresent']> 0.5)  \",\n",
       " 9: \"(df['rtlvirtualunwind']<= 0.5) & (df['__c_specific_handler']<= 0.5) & (df['zwclose']<= 0.5) & (df['mmmapiospaceex']> 0.5)  \",\n",
       " 10: \"(df['rtlvirtualunwind']<= 0.5) & (df['__c_specific_handler']<= 0.5) & (df['zwclose']> 0.5)  \",\n",
       " 12: \"(df['rtlvirtualunwind']<= 0.5) & (df['__c_specific_handler']> 0.5) & (df['mbstowcs']<= 0.5)  \",\n",
       " 13: \"(df['rtlvirtualunwind']<= 0.5) & (df['__c_specific_handler']> 0.5) & (df['mbstowcs']> 0.5)  \",\n",
       " 19: \"(df['rtlvirtualunwind']> 0.5) & (df['rtlunwind']<= 0.5) & (df['__lconv_init']<= 0.5) & (df['getadaptersinfo']<= 0.5) & (df['__std_exception_copy']<= 0.5) & (df['send']<= 0.5)  \",\n",
       " 21: \"(df['rtlvirtualunwind']> 0.5) & (df['rtlunwind']<= 0.5) & (df['__lconv_init']<= 0.5) & (df['getadaptersinfo']<= 0.5) & (df['__std_exception_copy']<= 0.5) & (df['send']> 0.5) & (df['setfilepointerex']<= 0.5)  \",\n",
       " 22: \"(df['rtlvirtualunwind']> 0.5) & (df['rtlunwind']<= 0.5) & (df['__lconv_init']<= 0.5) & (df['getadaptersinfo']<= 0.5) & (df['__std_exception_copy']<= 0.5) & (df['send']> 0.5) & (df['setfilepointerex']> 0.5)  \",\n",
       " 24: \"(df['rtlvirtualunwind']> 0.5) & (df['rtlunwind']<= 0.5) & (df['__lconv_init']<= 0.5) & (df['getadaptersinfo']<= 0.5) & (df['__std_exception_copy']> 0.5) & (df['heapcreate']<= 0.5)  \",\n",
       " 25: \"(df['rtlvirtualunwind']> 0.5) & (df['rtlunwind']<= 0.5) & (df['__lconv_init']<= 0.5) & (df['getadaptersinfo']<= 0.5) & (df['__std_exception_copy']> 0.5) & (df['heapcreate']> 0.5)  \",\n",
       " 26: \"(df['rtlvirtualunwind']> 0.5) & (df['rtlunwind']<= 0.5) & (df['__lconv_init']<= 0.5) & (df['getadaptersinfo']> 0.5)  \",\n",
       " 27: \"(df['rtlvirtualunwind']> 0.5) & (df['rtlunwind']<= 0.5) & (df['__lconv_init']> 0.5)  \",\n",
       " 29: \"(df['rtlvirtualunwind']> 0.5) & (df['rtlunwind']> 0.5) & (df['destroyacceleratortable']<= 0.5)  \",\n",
       " 30: \"(df['rtlvirtualunwind']> 0.5) & (df['rtlunwind']> 0.5) & (df['destroyacceleratortable']> 0.5)  \"}"
      ]
     },
     "execution_count": 113,
     "metadata": {},
     "output_type": "execute_result"
    }
   ],
   "source": [
    "rules"
   ]
  }
 ],
 "metadata": {
  "kernelspec": {
   "display_name": "Python 3.10.6 64-bit",
   "language": "python",
   "name": "python3"
  },
  "language_info": {
   "codemirror_mode": {
    "name": "ipython",
    "version": 3
   },
   "file_extension": ".py",
   "mimetype": "text/x-python",
   "name": "python",
   "nbconvert_exporter": "python",
   "pygments_lexer": "ipython3",
   "version": "3.8.10"
  },
  "orig_nbformat": 4,
  "vscode": {
   "interpreter": {
    "hash": "916dbcbb3f70747c44a77c7bcd40155683ae19c65e1c03b4aa3499c5328201f1"
   }
  }
 },
 "nbformat": 4,
 "nbformat_minor": 2
}
