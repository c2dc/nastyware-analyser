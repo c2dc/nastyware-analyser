{
 "cells": [
  {
   "cell_type": "code",
   "execution_count": 13,
   "metadata": {},
   "outputs": [],
   "source": [
    "import sys\n",
    "import os\n",
    "import pandas as pd\n",
    "import numpy as np\n",
    "from sklearn.feature_extraction.text import TfidfVectorizer\n",
    "from sklearn.tree import DecisionTreeClassifier, plot_tree\n",
    "from sklearn.model_selection import train_test_split\n",
    "from sklearn.metrics import accuracy_score\n",
    "import matplotlib.pyplot as plt"
   ]
  },
  {
   "cell_type": "code",
   "execution_count": 14,
   "metadata": {},
   "outputs": [],
   "source": [
    "def ld_data (dir_name):\n",
    "    # Load data in files from directory dir_name in a pandas dataframe\n",
    "    df = pd.DataFrame()\n",
    "    for filename in os.listdir(dir_name):\n",
    "        funcs = []\n",
    "        with open(os.path.join(dir_name, filename), 'r') as f:\n",
    "            lines = f.read().splitlines()\n",
    "            funcs = [line.strip().split(' ')[1][2:-1] for line in lines if not '@' in line.strip().split(' ')[1][2:-1] and not '?' in line.strip().split(' ')[1][2:-1]]\n",
    "\n",
    "        # Concat all functions as string in df\n",
    "        label = 'MALWARE' if filename.startswith('R-') else 'GOODWARE'\n",
    "        df = pd.concat([df, pd.DataFrame({'filename': filename, 'label': label, 'funcs': ' '.join(funcs)}, index=[0])], ignore_index=True)\n",
    "        \n",
    "    return df\n"
   ]
  },
  {
   "cell_type": "code",
   "execution_count": 15,
   "metadata": {},
   "outputs": [],
   "source": [
    "train_dt_dir_name = '../data/executable-functions/'\n",
    "test_dt_dir_name = '../data/executable-functions-test/'\n",
    "# test_dt_dir_name = '/archive/files/imports/'"
   ]
  },
  {
   "cell_type": "code",
   "execution_count": 16,
   "metadata": {},
   "outputs": [],
   "source": [
    "train = ld_data(train_dt_dir_name)\n",
    "test = ld_data(test_dt_dir_name)"
   ]
  },
  {
   "cell_type": "code",
   "execution_count": 17,
   "metadata": {},
   "outputs": [
    {
     "name": "stdout",
     "output_type": "stream",
     "text": [
      "97\n",
      "53\n",
      "44\n"
     ]
    }
   ],
   "source": [
    "print(len(test))\n",
    "print(len(test[test['label'] == 'MALWARE']))\n",
    "print(len(test[test['label'] == 'GOODWARE']))\n",
    "test_goodware = test[test['label'] == 'GOODWARE']\n",
    "test_malware = test[test['label'] == 'MALWARE']"
   ]
  },
  {
   "cell_type": "code",
   "execution_count": 18,
   "metadata": {},
   "outputs": [
    {
     "name": "stdout",
     "output_type": "stream",
     "text": [
      "['___lc_codepage_func' '___lc_collate_cp_func' '___lc_handle_func' ...\n",
      " 'zwupdatewnfstatedata' 'zwwaitforsingleobject' 'zwwritefile']\n",
      "R-LordEK.sample\n",
      "[0. 0. 0. ... 0. 0. 0.]\n"
     ]
    }
   ],
   "source": [
    "# Create the tf-idf vectorizer\n",
    "vectorizer = TfidfVectorizer()\n",
    "train_vectors = vectorizer.fit_transform(train['funcs']).ceil()\n",
    "test_g_vectors = vectorizer.transform(test_goodware['funcs']).ceil()\n",
    "test_m_vectors = vectorizer.transform(test_malware['funcs']).ceil()\n",
    "\n",
    "print(vectorizer.get_feature_names_out())\n",
    "print(train['filename'][0])\n",
    "print(train_vectors.toarray()[0])"
   ]
  },
  {
   "cell_type": "code",
   "execution_count": 26,
   "metadata": {},
   "outputs": [
    {
     "data": {
      "text/html": [
       "<style>#sk-container-id-1 {color: black;background-color: white;}#sk-container-id-1 pre{padding: 0;}#sk-container-id-1 div.sk-toggleable {background-color: white;}#sk-container-id-1 label.sk-toggleable__label {cursor: pointer;display: block;width: 100%;margin-bottom: 0;padding: 0.3em;box-sizing: border-box;text-align: center;}#sk-container-id-1 label.sk-toggleable__label-arrow:before {content: \"▸\";float: left;margin-right: 0.25em;color: #696969;}#sk-container-id-1 label.sk-toggleable__label-arrow:hover:before {color: black;}#sk-container-id-1 div.sk-estimator:hover label.sk-toggleable__label-arrow:before {color: black;}#sk-container-id-1 div.sk-toggleable__content {max-height: 0;max-width: 0;overflow: hidden;text-align: left;background-color: #f0f8ff;}#sk-container-id-1 div.sk-toggleable__content pre {margin: 0.2em;color: black;border-radius: 0.25em;background-color: #f0f8ff;}#sk-container-id-1 input.sk-toggleable__control:checked~div.sk-toggleable__content {max-height: 200px;max-width: 100%;overflow: auto;}#sk-container-id-1 input.sk-toggleable__control:checked~label.sk-toggleable__label-arrow:before {content: \"▾\";}#sk-container-id-1 div.sk-estimator input.sk-toggleable__control:checked~label.sk-toggleable__label {background-color: #d4ebff;}#sk-container-id-1 div.sk-label input.sk-toggleable__control:checked~label.sk-toggleable__label {background-color: #d4ebff;}#sk-container-id-1 input.sk-hidden--visually {border: 0;clip: rect(1px 1px 1px 1px);clip: rect(1px, 1px, 1px, 1px);height: 1px;margin: -1px;overflow: hidden;padding: 0;position: absolute;width: 1px;}#sk-container-id-1 div.sk-estimator {font-family: monospace;background-color: #f0f8ff;border: 1px dotted black;border-radius: 0.25em;box-sizing: border-box;margin-bottom: 0.5em;}#sk-container-id-1 div.sk-estimator:hover {background-color: #d4ebff;}#sk-container-id-1 div.sk-parallel-item::after {content: \"\";width: 100%;border-bottom: 1px solid gray;flex-grow: 1;}#sk-container-id-1 div.sk-label:hover label.sk-toggleable__label {background-color: #d4ebff;}#sk-container-id-1 div.sk-serial::before {content: \"\";position: absolute;border-left: 1px solid gray;box-sizing: border-box;top: 0;bottom: 0;left: 50%;z-index: 0;}#sk-container-id-1 div.sk-serial {display: flex;flex-direction: column;align-items: center;background-color: white;padding-right: 0.2em;padding-left: 0.2em;position: relative;}#sk-container-id-1 div.sk-item {position: relative;z-index: 1;}#sk-container-id-1 div.sk-parallel {display: flex;align-items: stretch;justify-content: center;background-color: white;position: relative;}#sk-container-id-1 div.sk-item::before, #sk-container-id-1 div.sk-parallel-item::before {content: \"\";position: absolute;border-left: 1px solid gray;box-sizing: border-box;top: 0;bottom: 0;left: 50%;z-index: -1;}#sk-container-id-1 div.sk-parallel-item {display: flex;flex-direction: column;z-index: 1;position: relative;background-color: white;}#sk-container-id-1 div.sk-parallel-item:first-child::after {align-self: flex-end;width: 50%;}#sk-container-id-1 div.sk-parallel-item:last-child::after {align-self: flex-start;width: 50%;}#sk-container-id-1 div.sk-parallel-item:only-child::after {width: 0;}#sk-container-id-1 div.sk-dashed-wrapped {border: 1px dashed gray;margin: 0 0.4em 0.5em 0.4em;box-sizing: border-box;padding-bottom: 0.4em;background-color: white;}#sk-container-id-1 div.sk-label label {font-family: monospace;font-weight: bold;display: inline-block;line-height: 1.2em;}#sk-container-id-1 div.sk-label-container {text-align: center;}#sk-container-id-1 div.sk-container {/* jupyter's `normalize.less` sets `[hidden] { display: none; }` but bootstrap.min.css set `[hidden] { display: none !important; }` so we also need the `!important` here to be able to override the default hidden behavior on the sphinx rendered scikit-learn.org. See: https://github.com/scikit-learn/scikit-learn/issues/21755 */display: inline-block !important;position: relative;}#sk-container-id-1 div.sk-text-repr-fallback {display: none;}</style><div id=\"sk-container-id-1\" class=\"sk-top-container\"><div class=\"sk-text-repr-fallback\"><pre>DecisionTreeClassifier()</pre><b>In a Jupyter environment, please rerun this cell to show the HTML representation or trust the notebook. <br />On GitHub, the HTML representation is unable to render, please try loading this page with nbviewer.org.</b></div><div class=\"sk-container\" hidden><div class=\"sk-item\"><div class=\"sk-estimator sk-toggleable\"><input class=\"sk-toggleable__control sk-hidden--visually\" id=\"sk-estimator-id-1\" type=\"checkbox\" checked><label for=\"sk-estimator-id-1\" class=\"sk-toggleable__label sk-toggleable__label-arrow\">DecisionTreeClassifier</label><div class=\"sk-toggleable__content\"><pre>DecisionTreeClassifier()</pre></div></div></div></div></div>"
      ],
      "text/plain": [
       "DecisionTreeClassifier()"
      ]
     },
     "execution_count": 26,
     "metadata": {},
     "output_type": "execute_result"
    }
   ],
   "source": [
    "# Train the classifier\n",
    "classifier = DecisionTreeClassifier()\n",
    "\n",
    "classifier.fit(train_vectors, train['label'])\n",
    "# Print information about the decision tree\n",
    "# plot_tree(classifier)\n",
    "# plt.savefig('decision_tree.svg')"
   ]
  },
  {
   "cell_type": "code",
   "execution_count": 27,
   "metadata": {},
   "outputs": [
    {
     "name": "stdout",
     "output_type": "stream",
     "text": [
      "Accuracy goodwares: 1.0\n",
      "Accuracy malwares: 1.0\n"
     ]
    }
   ],
   "source": [
    "pred_g = classifier.predict(test_g_vectors)\n",
    "pred_m = classifier.predict(test_m_vectors)\n",
    "\n",
    "# Evaluate the classifier\n",
    "print('Accuracy goodwares: {}'.format(accuracy_score(test_goodware['label'], pred_g)))\n",
    "print('Accuracy malwares: {}'.format(accuracy_score(test_malware['label'], pred_m)))"
   ]
  },
  {
   "cell_type": "code",
   "execution_count": 28,
   "metadata": {},
   "outputs": [
    {
     "name": "stdout",
     "output_type": "stream",
     "text": [
      "rtlcapturecontext\n"
     ]
    }
   ],
   "source": [
    "print(vectorizer.get_feature_names_out()[7333])"
   ]
  },
  {
   "cell_type": "code",
   "execution_count": 31,
   "metadata": {},
   "outputs": [],
   "source": [
    "n_nodes = classifier.tree_.node_count\n",
    "children_left = classifier.tree_.children_left\n",
    "children_right = classifier.tree_.children_right\n",
    "feature = classifier.tree_.feature\n",
    "threshold = classifier.tree_.threshold"
   ]
  },
  {
   "cell_type": "code",
   "execution_count": 32,
   "metadata": {},
   "outputs": [],
   "source": [
    "def find_path(node_numb, path, x):\n",
    "        path.append(node_numb)\n",
    "        if node_numb == x:\n",
    "            return True\n",
    "        left = False\n",
    "        right = False\n",
    "        if (children_left[node_numb] !=-1):\n",
    "            left = find_path(children_left[node_numb], path, x)\n",
    "        if (children_right[node_numb] !=-1):\n",
    "            right = find_path(children_right[node_numb], path, x)\n",
    "        if left or right :\n",
    "            return True\n",
    "        path.remove(node_numb)\n",
    "        return False\n",
    "\n",
    "\n",
    "def get_rule(path, column_names):\n",
    "    mask = ''\n",
    "    for index, node in enumerate(path):\n",
    "        #We check if we are not in the leaf\n",
    "        if index!=len(path)-1:\n",
    "            # Do we go under or over the threshold ?\n",
    "            if (children_left[node] == path[index+1]):\n",
    "                mask += \"(df['{}']<= {}) \\t \".format(column_names[feature[node]], threshold[node])\n",
    "            else:\n",
    "                mask += \"(df['{}']> {}) \\t \".format(column_names[feature[node]], threshold[node])\n",
    "    # We insert the & at the right places\n",
    "    mask = mask.replace(\"\\t\", \"&\", mask.count(\"\\t\") - 1)\n",
    "    mask = mask.replace(\"\\t\", \"\")\n",
    "    return mask\n"
   ]
  },
  {
   "cell_type": "code",
   "execution_count": 33,
   "metadata": {},
   "outputs": [],
   "source": [
    "# Leaves\n",
    "leave_id = classifier.apply(train_vectors)\n",
    "\n",
    "paths ={}\n",
    "for leaf in np.unique(leave_id):\n",
    "    path_leaf = []\n",
    "    find_path(0, path_leaf, leaf)\n",
    "    paths[leaf] = np.unique(np.sort(path_leaf))\n",
    "\n",
    "rules = {}\n",
    "for key in paths:\n",
    "    rules[key] = get_rule(paths[key], vectorizer.get_feature_names_out())\n"
   ]
  },
  {
   "cell_type": "code",
   "execution_count": 34,
   "metadata": {},
   "outputs": [
    {
     "data": {
      "text/plain": [
       "{5: \"(df['rtllookupfunctionentry']<= 0.5) & (df['__c_specific_handler']<= 0.5) & (df['zwclose']<= 0.5) & (df['mmmapiospaceex']<= 0.5) & (df['disablethreadlibrarycalls']<= 0.5)  \",\n",
       " 7: \"(df['rtllookupfunctionentry']<= 0.5) & (df['__c_specific_handler']<= 0.5) & (df['zwclose']<= 0.5) & (df['mmmapiospaceex']<= 0.5) & (df['disablethreadlibrarycalls']> 0.5) & (df['widechartomultibyte']<= 0.5)  \",\n",
       " 8: \"(df['rtllookupfunctionentry']<= 0.5) & (df['__c_specific_handler']<= 0.5) & (df['zwclose']<= 0.5) & (df['mmmapiospaceex']<= 0.5) & (df['disablethreadlibrarycalls']> 0.5) & (df['widechartomultibyte']> 0.5)  \",\n",
       " 9: \"(df['rtllookupfunctionentry']<= 0.5) & (df['__c_specific_handler']<= 0.5) & (df['zwclose']<= 0.5) & (df['mmmapiospaceex']> 0.5)  \",\n",
       " 10: \"(df['rtllookupfunctionentry']<= 0.5) & (df['__c_specific_handler']<= 0.5) & (df['zwclose']> 0.5)  \",\n",
       " 12: \"(df['rtllookupfunctionentry']<= 0.5) & (df['__c_specific_handler']> 0.5) & (df['mbstowcs']<= 0.5)  \",\n",
       " 13: \"(df['rtllookupfunctionentry']<= 0.5) & (df['__c_specific_handler']> 0.5) & (df['mbstowcs']> 0.5)  \",\n",
       " 19: \"(df['rtllookupfunctionentry']> 0.5) & (df['rtlunwind']<= 0.5) & (df['__initenv']<= 0.5) & (df['getipnettable']<= 0.5) & (df['__std_exception_copy']<= 0.5) & (df['send']<= 0.5)  \",\n",
       " 21: \"(df['rtllookupfunctionentry']> 0.5) & (df['rtlunwind']<= 0.5) & (df['__initenv']<= 0.5) & (df['getipnettable']<= 0.5) & (df['__std_exception_copy']<= 0.5) & (df['send']> 0.5) & (df['tracemessage']<= 0.5)  \",\n",
       " 22: \"(df['rtllookupfunctionentry']> 0.5) & (df['rtlunwind']<= 0.5) & (df['__initenv']<= 0.5) & (df['getipnettable']<= 0.5) & (df['__std_exception_copy']<= 0.5) & (df['send']> 0.5) & (df['tracemessage']> 0.5)  \",\n",
       " 24: \"(df['rtllookupfunctionentry']> 0.5) & (df['rtlunwind']<= 0.5) & (df['__initenv']<= 0.5) & (df['getipnettable']<= 0.5) & (df['__std_exception_copy']> 0.5) & (df['lockresource']<= 0.5)  \",\n",
       " 25: \"(df['rtllookupfunctionentry']> 0.5) & (df['rtlunwind']<= 0.5) & (df['__initenv']<= 0.5) & (df['getipnettable']<= 0.5) & (df['__std_exception_copy']> 0.5) & (df['lockresource']> 0.5)  \",\n",
       " 26: \"(df['rtllookupfunctionentry']> 0.5) & (df['rtlunwind']<= 0.5) & (df['__initenv']<= 0.5) & (df['getipnettable']> 0.5)  \",\n",
       " 27: \"(df['rtllookupfunctionentry']> 0.5) & (df['rtlunwind']<= 0.5) & (df['__initenv']> 0.5)  \",\n",
       " 29: \"(df['rtllookupfunctionentry']> 0.5) & (df['rtlunwind']> 0.5) & (df['closeservicehandle']<= 0.5)  \",\n",
       " 30: \"(df['rtllookupfunctionentry']> 0.5) & (df['rtlunwind']> 0.5) & (df['closeservicehandle']> 0.5)  \"}"
      ]
     },
     "execution_count": 34,
     "metadata": {},
     "output_type": "execute_result"
    }
   ],
   "source": [
    "rules"
   ]
  }
 ],
 "metadata": {
  "kernelspec": {
   "display_name": "Python 3.10.6 64-bit",
   "language": "python",
   "name": "python3"
  },
  "language_info": {
   "codemirror_mode": {
    "name": "ipython",
    "version": 3
   },
   "file_extension": ".py",
   "mimetype": "text/x-python",
   "name": "python",
   "nbconvert_exporter": "python",
   "pygments_lexer": "ipython3",
   "version": "3.10.6"
  },
  "orig_nbformat": 4,
  "vscode": {
   "interpreter": {
    "hash": "916dbcbb3f70747c44a77c7bcd40155683ae19c65e1c03b4aa3499c5328201f1"
   }
  }
 },
 "nbformat": 4,
 "nbformat_minor": 2
}
