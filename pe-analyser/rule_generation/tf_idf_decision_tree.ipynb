{
 "cells": [
  {
   "cell_type": "code",
   "execution_count": 1,
   "metadata": {},
   "outputs": [],
   "source": [
    "import sys\n",
    "import os\n",
    "import pandas as pd\n",
    "import numpy as np\n",
    "from sklearn.feature_extraction.text import TfidfVectorizer\n",
    "from sklearn.tree import DecisionTreeClassifier, plot_tree\n",
    "from sklearn.model_selection import train_test_split\n",
    "from sklearn.metrics import accuracy_score\n",
    "import matplotlib.pyplot as plt"
   ]
  },
  {
   "cell_type": "code",
   "execution_count": 2,
   "metadata": {},
   "outputs": [],
   "source": [
    "def ld_data (dir_name):\n",
    "    # Load data in files from directory dir_name in a pandas dataframe\n",
    "    df = pd.DataFrame()\n",
    "    for filename in os.listdir(dir_name):\n",
    "        funcs = []\n",
    "        with open(os.path.join(dir_name, filename), 'r') as f:\n",
    "            lines = f.read().splitlines()\n",
    "            funcs = [line.strip().split(' ')[1][2:-1] for line in lines if not '@' in line.strip().split(' ')[1][2:-1] and not '?' in line.strip().split(' ')[1][2:-1]]\n",
    "\n",
    "        # Concat all functions as string in df\n",
    "        label = 'MALWARE' if filename.startswith('R-') else 'GOODWARE'\n",
    "        df = pd.concat([df, pd.DataFrame({'filename': filename, 'label': label, 'funcs': ' '.join(funcs)}, index=[0])], ignore_index=True)\n",
    "        \n",
    "    return df\n"
   ]
  },
  {
   "cell_type": "code",
   "execution_count": 96,
   "metadata": {},
   "outputs": [],
   "source": [
    "dir_name = '../data/executable-functions/'"
   ]
  },
  {
   "cell_type": "code",
   "execution_count": 97,
   "metadata": {},
   "outputs": [],
   "source": [
    "data = ld_data(dir_name)\n",
    "\n",
    "# Split the data into train and test\n",
    "train, test = train_test_split(data, test_size=0.2)"
   ]
  },
  {
   "cell_type": "code",
   "execution_count": 98,
   "metadata": {},
   "outputs": [
    {
     "name": "stdout",
     "output_type": "stream",
     "text": [
      "False\n"
     ]
    }
   ],
   "source": [
    "# print first row of the train dataframe\n",
    "print(\"GetCurrentThreadId\" in train.iloc[0][\"funcs\"])"
   ]
  },
  {
   "cell_type": "code",
   "execution_count": 99,
   "metadata": {},
   "outputs": [
    {
     "name": "stdout",
     "output_type": "stream",
     "text": [
      "['___lc_codepage_func' '___lc_collate_cp_func' '___lc_handle_func' ...\n",
      " 'zwupdatewnfstatedata' 'zwwaitforsingleobject' 'zwwritefile']\n",
      "R-LordEK.sample\n",
      "[0. 0. 0. ... 0. 0. 0.]\n"
     ]
    }
   ],
   "source": [
    "# Create the tf-idf vectorizer\n",
    "vectorizer = TfidfVectorizer()\n",
    "train_vectors = vectorizer.fit_transform(train['funcs']).ceil()\n",
    "test_vectors = vectorizer.transform(test['funcs']).ceil()\n",
    "\n",
    "print(vectorizer.get_feature_names_out())\n",
    "print(train['filename'][0])\n",
    "print(train_vectors.toarray()[0])"
   ]
  },
  {
   "cell_type": "code",
   "execution_count": 106,
   "metadata": {},
   "outputs": [
    {
     "data": {
      "image/png": "[encoded data removed]",
      "text/plain": [
       "<Figure size 432x288 with 1 Axes>"
      ]
     },
     "metadata": {
      "needs_background": "light"
     },
     "output_type": "display_data"
    }
   ],
   "source": [
    "# Train the classifier\n",
    "classifier = DecisionTreeClassifier()\n",
    "\n",
    "classifier.fit(train_vectors, train['label'])\n",
    "# Print information about the decision tree\n",
    "plot_tree(classifier)\n",
    "plt.savefig('decision_tree.svg')"
   ]
  },
  {
   "cell_type": "code",
   "execution_count": 101,
   "metadata": {},
   "outputs": [
    {
     "name": "stdout",
     "output_type": "stream",
     "text": [
      "Accuracy: 0.996969696969697\n"
     ]
    }
   ],
   "source": [
    "pred = classifier.predict(test_vectors)\n",
    "\n",
    "# Evaluate the classifier\n",
    "print('Accuracy: {}'.format(accuracy_score(test['label'], pred)))"
   ]
  },
  {
   "cell_type": "code",
   "execution_count": 107,
   "metadata": {},
   "outputs": [
    {
     "name": "stdout",
     "output_type": "stream",
     "text": [
      "rtlcapturecontext\n"
     ]
    }
   ],
   "source": [
    "print(vectorizer.get_feature_names_out()[6594])"
   ]
  },
  {
   "cell_type": "code",
   "execution_count": 103,
   "metadata": {},
   "outputs": [
    {
     "name": "stdout",
     "output_type": "stream",
     "text": [
      "53\n"
     ]
    }
   ],
   "source": [
    "!ls ../data/executable-functions-test/ | grep \"R-\" | wc -w"
   ]
  }
 ],
 "metadata": {
  "kernelspec": {
   "display_name": "Python 3.10.6 64-bit",
   "language": "python",
   "name": "python3"
  },
  "language_info": {
   "codemirror_mode": {
    "name": "ipython",
    "version": 3
   },
   "file_extension": ".py",
   "mimetype": "text/x-python",
   "name": "python",
   "nbconvert_exporter": "python",
   "pygments_lexer": "ipython3",
   "version": "3.10.6"
  },
  "orig_nbformat": 4,
  "vscode": {
   "interpreter": {
    "hash": "916dbcbb3f70747c44a77c7bcd40155683ae19c65e1c03b4aa3499c5328201f1"
   }
  }
 },
 "nbformat": 4,
 "nbformat_minor": 2
}
